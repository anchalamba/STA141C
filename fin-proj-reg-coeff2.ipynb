{
 "cells": [
  {
   "cell_type": "code",
   "execution_count": 1,
   "id": "440e2d18",
   "metadata": {},
   "outputs": [],
   "source": [
    "import pandas as pd\n",
    "import numpy as np\n",
    "import scipy\n",
    "import re\n",
    "import random\n",
    "import warnings # to deal with warnings\n",
    "\n",
    "from math import sqrt\n",
    "\n",
    "from scipy.linalg import cho_factor, cho_solve\n",
    "from scipy.stats import boxcox\n",
    "\n",
    "from sklearn import datasets, preprocessing\n",
    "from sklearn.model_selection import train_test_split\n",
    "from sklearn.linear_model import Lasso, LassoCV # for LASSO\n",
    "\n",
    "import matplotlib.pyplot as plt # for hist()\n",
    "from plotnine import *"
   ]
  },
  {
   "cell_type": "markdown",
   "id": "2a38fdf3",
   "metadata": {},
   "source": [
    "# Read in Data"
   ]
  },
  {
   "cell_type": "code",
   "execution_count": 2,
   "id": "04a57c11",
   "metadata": {},
   "outputs": [
    {
     "data": {
      "text/html": [
       "<div>\n",
       "<style scoped>\n",
       "    .dataframe tbody tr th:only-of-type {\n",
       "        vertical-align: middle;\n",
       "    }\n",
       "\n",
       "    .dataframe tbody tr th {\n",
       "        vertical-align: top;\n",
       "    }\n",
       "\n",
       "    .dataframe thead th {\n",
       "        text-align: right;\n",
       "    }\n",
       "</style>\n",
       "<table border=\"1\" class=\"dataframe\">\n",
       "  <thead>\n",
       "    <tr style=\"text-align: right;\">\n",
       "      <th></th>\n",
       "      <th>title</th>\n",
       "      <th>artist</th>\n",
       "      <th>top genre</th>\n",
       "      <th>year released</th>\n",
       "      <th>added</th>\n",
       "      <th>bpm</th>\n",
       "      <th>nrgy</th>\n",
       "      <th>dnce</th>\n",
       "      <th>dB</th>\n",
       "      <th>live</th>\n",
       "      <th>val</th>\n",
       "      <th>dur</th>\n",
       "      <th>acous</th>\n",
       "      <th>spch</th>\n",
       "      <th>pop</th>\n",
       "      <th>top year</th>\n",
       "      <th>artist type</th>\n",
       "    </tr>\n",
       "  </thead>\n",
       "  <tbody>\n",
       "    <tr>\n",
       "      <th>0</th>\n",
       "      <td>STARSTRUKK (feat. Katy Perry)</td>\n",
       "      <td>3OH!3</td>\n",
       "      <td>dance pop</td>\n",
       "      <td>2009.0</td>\n",
       "      <td>2022‑02‑17</td>\n",
       "      <td>140.0</td>\n",
       "      <td>81.0</td>\n",
       "      <td>61.0</td>\n",
       "      <td>-6.0</td>\n",
       "      <td>23.0</td>\n",
       "      <td>23.0</td>\n",
       "      <td>203.0</td>\n",
       "      <td>0.0</td>\n",
       "      <td>6.0</td>\n",
       "      <td>70.0</td>\n",
       "      <td>2010.0</td>\n",
       "      <td>Duo</td>\n",
       "    </tr>\n",
       "    <tr>\n",
       "      <th>1</th>\n",
       "      <td>My First Kiss (feat. Ke$ha)</td>\n",
       "      <td>3OH!3</td>\n",
       "      <td>dance pop</td>\n",
       "      <td>2010.0</td>\n",
       "      <td>2022‑02‑17</td>\n",
       "      <td>138.0</td>\n",
       "      <td>89.0</td>\n",
       "      <td>68.0</td>\n",
       "      <td>-4.0</td>\n",
       "      <td>36.0</td>\n",
       "      <td>83.0</td>\n",
       "      <td>192.0</td>\n",
       "      <td>1.0</td>\n",
       "      <td>8.0</td>\n",
       "      <td>68.0</td>\n",
       "      <td>2010.0</td>\n",
       "      <td>Duo</td>\n",
       "    </tr>\n",
       "    <tr>\n",
       "      <th>2</th>\n",
       "      <td>I Need A Dollar</td>\n",
       "      <td>Aloe Blacc</td>\n",
       "      <td>pop soul</td>\n",
       "      <td>2010.0</td>\n",
       "      <td>2022‑02‑17</td>\n",
       "      <td>95.0</td>\n",
       "      <td>48.0</td>\n",
       "      <td>84.0</td>\n",
       "      <td>-7.0</td>\n",
       "      <td>9.0</td>\n",
       "      <td>96.0</td>\n",
       "      <td>243.0</td>\n",
       "      <td>20.0</td>\n",
       "      <td>3.0</td>\n",
       "      <td>72.0</td>\n",
       "      <td>2010.0</td>\n",
       "      <td>Solo</td>\n",
       "    </tr>\n",
       "    <tr>\n",
       "      <th>3</th>\n",
       "      <td>Airplanes (feat. Hayley Williams of Paramore)</td>\n",
       "      <td>B.o.B</td>\n",
       "      <td>atl hip hop</td>\n",
       "      <td>2010.0</td>\n",
       "      <td>2022‑02‑17</td>\n",
       "      <td>93.0</td>\n",
       "      <td>87.0</td>\n",
       "      <td>66.0</td>\n",
       "      <td>-4.0</td>\n",
       "      <td>4.0</td>\n",
       "      <td>38.0</td>\n",
       "      <td>180.0</td>\n",
       "      <td>11.0</td>\n",
       "      <td>12.0</td>\n",
       "      <td>80.0</td>\n",
       "      <td>2010.0</td>\n",
       "      <td>Solo</td>\n",
       "    </tr>\n",
       "    <tr>\n",
       "      <th>4</th>\n",
       "      <td>Nothin' on You (feat. Bruno Mars)</td>\n",
       "      <td>B.o.B</td>\n",
       "      <td>atl hip hop</td>\n",
       "      <td>2010.0</td>\n",
       "      <td>2022‑02‑17</td>\n",
       "      <td>104.0</td>\n",
       "      <td>85.0</td>\n",
       "      <td>69.0</td>\n",
       "      <td>-6.0</td>\n",
       "      <td>9.0</td>\n",
       "      <td>74.0</td>\n",
       "      <td>268.0</td>\n",
       "      <td>39.0</td>\n",
       "      <td>5.0</td>\n",
       "      <td>79.0</td>\n",
       "      <td>2010.0</td>\n",
       "      <td>Solo</td>\n",
       "    </tr>\n",
       "  </tbody>\n",
       "</table>\n",
       "</div>"
      ],
      "text/plain": [
       "                                           title      artist    top genre  \\\n",
       "0                  STARSTRUKK (feat. Katy Perry)       3OH!3    dance pop   \n",
       "1                    My First Kiss (feat. Ke$ha)       3OH!3    dance pop   \n",
       "2                                I Need A Dollar  Aloe Blacc     pop soul   \n",
       "3  Airplanes (feat. Hayley Williams of Paramore)       B.o.B  atl hip hop   \n",
       "4              Nothin' on You (feat. Bruno Mars)       B.o.B  atl hip hop   \n",
       "\n",
       "   year released       added    bpm  nrgy  dnce   dB  live   val    dur  \\\n",
       "0         2009.0  2022‑02‑17  140.0  81.0  61.0 -6.0  23.0  23.0  203.0   \n",
       "1         2010.0  2022‑02‑17  138.0  89.0  68.0 -4.0  36.0  83.0  192.0   \n",
       "2         2010.0  2022‑02‑17   95.0  48.0  84.0 -7.0   9.0  96.0  243.0   \n",
       "3         2010.0  2022‑02‑17   93.0  87.0  66.0 -4.0   4.0  38.0  180.0   \n",
       "4         2010.0  2022‑02‑17  104.0  85.0  69.0 -6.0   9.0  74.0  268.0   \n",
       "\n",
       "   acous  spch   pop  top year artist type  \n",
       "0    0.0   6.0  70.0    2010.0         Duo  \n",
       "1    1.0   8.0  68.0    2010.0         Duo  \n",
       "2   20.0   3.0  72.0    2010.0        Solo  \n",
       "3   11.0  12.0  80.0    2010.0        Solo  \n",
       "4   39.0   5.0  79.0    2010.0        Solo  "
      ]
     },
     "execution_count": 2,
     "metadata": {},
     "output_type": "execute_result"
    }
   ],
   "source": [
    "data = pd.read_csv(\"./data/SpotifyData.csv\")\n",
    "df = pd.DataFrame(data)\n",
    "df.head(5)"
   ]
  },
  {
   "cell_type": "code",
   "execution_count": 3,
   "id": "a21fedeb",
   "metadata": {
    "scrolled": false
   },
   "outputs": [
    {
     "data": {
      "text/html": [
       "<div>\n",
       "<style scoped>\n",
       "    .dataframe tbody tr th:only-of-type {\n",
       "        vertical-align: middle;\n",
       "    }\n",
       "\n",
       "    .dataframe tbody tr th {\n",
       "        vertical-align: top;\n",
       "    }\n",
       "\n",
       "    .dataframe thead th {\n",
       "        text-align: right;\n",
       "    }\n",
       "</style>\n",
       "<table border=\"1\" class=\"dataframe\">\n",
       "  <thead>\n",
       "    <tr style=\"text-align: right;\">\n",
       "      <th></th>\n",
       "      <th>intercept</th>\n",
       "      <th>top genre</th>\n",
       "      <th>bpm</th>\n",
       "      <th>nrgy</th>\n",
       "      <th>dnce</th>\n",
       "      <th>dB</th>\n",
       "      <th>live</th>\n",
       "      <th>val</th>\n",
       "      <th>dur</th>\n",
       "      <th>acous</th>\n",
       "      <th>spch</th>\n",
       "      <th>pop</th>\n",
       "      <th>top year</th>\n",
       "      <th>artist type</th>\n",
       "    </tr>\n",
       "  </thead>\n",
       "  <tbody>\n",
       "    <tr>\n",
       "      <th>0</th>\n",
       "      <td>1</td>\n",
       "      <td>dance pop</td>\n",
       "      <td>140.0</td>\n",
       "      <td>81.0</td>\n",
       "      <td>61.0</td>\n",
       "      <td>-6.0</td>\n",
       "      <td>23.0</td>\n",
       "      <td>23.0</td>\n",
       "      <td>203.0</td>\n",
       "      <td>0.0</td>\n",
       "      <td>6.0</td>\n",
       "      <td>70.0</td>\n",
       "      <td>2010.0</td>\n",
       "      <td>Duo</td>\n",
       "    </tr>\n",
       "    <tr>\n",
       "      <th>1</th>\n",
       "      <td>1</td>\n",
       "      <td>dance pop</td>\n",
       "      <td>138.0</td>\n",
       "      <td>89.0</td>\n",
       "      <td>68.0</td>\n",
       "      <td>-4.0</td>\n",
       "      <td>36.0</td>\n",
       "      <td>83.0</td>\n",
       "      <td>192.0</td>\n",
       "      <td>1.0</td>\n",
       "      <td>8.0</td>\n",
       "      <td>68.0</td>\n",
       "      <td>2010.0</td>\n",
       "      <td>Duo</td>\n",
       "    </tr>\n",
       "    <tr>\n",
       "      <th>2</th>\n",
       "      <td>1</td>\n",
       "      <td>pop soul</td>\n",
       "      <td>95.0</td>\n",
       "      <td>48.0</td>\n",
       "      <td>84.0</td>\n",
       "      <td>-7.0</td>\n",
       "      <td>9.0</td>\n",
       "      <td>96.0</td>\n",
       "      <td>243.0</td>\n",
       "      <td>20.0</td>\n",
       "      <td>3.0</td>\n",
       "      <td>72.0</td>\n",
       "      <td>2010.0</td>\n",
       "      <td>Solo</td>\n",
       "    </tr>\n",
       "    <tr>\n",
       "      <th>3</th>\n",
       "      <td>1</td>\n",
       "      <td>atl hip hop</td>\n",
       "      <td>93.0</td>\n",
       "      <td>87.0</td>\n",
       "      <td>66.0</td>\n",
       "      <td>-4.0</td>\n",
       "      <td>4.0</td>\n",
       "      <td>38.0</td>\n",
       "      <td>180.0</td>\n",
       "      <td>11.0</td>\n",
       "      <td>12.0</td>\n",
       "      <td>80.0</td>\n",
       "      <td>2010.0</td>\n",
       "      <td>Solo</td>\n",
       "    </tr>\n",
       "    <tr>\n",
       "      <th>4</th>\n",
       "      <td>1</td>\n",
       "      <td>atl hip hop</td>\n",
       "      <td>104.0</td>\n",
       "      <td>85.0</td>\n",
       "      <td>69.0</td>\n",
       "      <td>-6.0</td>\n",
       "      <td>9.0</td>\n",
       "      <td>74.0</td>\n",
       "      <td>268.0</td>\n",
       "      <td>39.0</td>\n",
       "      <td>5.0</td>\n",
       "      <td>79.0</td>\n",
       "      <td>2010.0</td>\n",
       "      <td>Solo</td>\n",
       "    </tr>\n",
       "    <tr>\n",
       "      <th>5</th>\n",
       "      <td>1</td>\n",
       "      <td>atl hip hop</td>\n",
       "      <td>82.0</td>\n",
       "      <td>93.0</td>\n",
       "      <td>55.0</td>\n",
       "      <td>-4.0</td>\n",
       "      <td>35.0</td>\n",
       "      <td>79.0</td>\n",
       "      <td>196.0</td>\n",
       "      <td>1.0</td>\n",
       "      <td>34.0</td>\n",
       "      <td>71.0</td>\n",
       "      <td>2010.0</td>\n",
       "      <td>Solo</td>\n",
       "    </tr>\n",
       "    <tr>\n",
       "      <th>6</th>\n",
       "      <td>1</td>\n",
       "      <td>dance pop</td>\n",
       "      <td>128.0</td>\n",
       "      <td>81.0</td>\n",
       "      <td>82.0</td>\n",
       "      <td>-8.0</td>\n",
       "      <td>60.0</td>\n",
       "      <td>44.0</td>\n",
       "      <td>308.0</td>\n",
       "      <td>7.0</td>\n",
       "      <td>7.0</td>\n",
       "      <td>75.0</td>\n",
       "      <td>2010.0</td>\n",
       "      <td>Band/Group</td>\n",
       "    </tr>\n",
       "    <tr>\n",
       "      <th>7</th>\n",
       "      <td>1</td>\n",
       "      <td>dance pop</td>\n",
       "      <td>92.0</td>\n",
       "      <td>52.0</td>\n",
       "      <td>60.0</td>\n",
       "      <td>-7.0</td>\n",
       "      <td>31.0</td>\n",
       "      <td>41.0</td>\n",
       "      <td>258.0</td>\n",
       "      <td>18.0</td>\n",
       "      <td>37.0</td>\n",
       "      <td>71.0</td>\n",
       "      <td>2010.0</td>\n",
       "      <td>Band/Group</td>\n",
       "    </tr>\n",
       "    <tr>\n",
       "      <th>8</th>\n",
       "      <td>1</td>\n",
       "      <td>dance pop</td>\n",
       "      <td>146.0</td>\n",
       "      <td>59.0</td>\n",
       "      <td>50.0</td>\n",
       "      <td>-5.0</td>\n",
       "      <td>11.0</td>\n",
       "      <td>8.0</td>\n",
       "      <td>218.0</td>\n",
       "      <td>51.0</td>\n",
       "      <td>3.0</td>\n",
       "      <td>87.0</td>\n",
       "      <td>2010.0</td>\n",
       "      <td>Solo</td>\n",
       "    </tr>\n",
       "    <tr>\n",
       "      <th>9</th>\n",
       "      <td>1</td>\n",
       "      <td>dance pop</td>\n",
       "      <td>109.0</td>\n",
       "      <td>84.0</td>\n",
       "      <td>64.0</td>\n",
       "      <td>-5.0</td>\n",
       "      <td>6.0</td>\n",
       "      <td>42.0</td>\n",
       "      <td>221.0</td>\n",
       "      <td>1.0</td>\n",
       "      <td>4.0</td>\n",
       "      <td>86.0</td>\n",
       "      <td>2010.0</td>\n",
       "      <td>Solo</td>\n",
       "    </tr>\n",
       "  </tbody>\n",
       "</table>\n",
       "</div>"
      ],
      "text/plain": [
       "   intercept    top genre    bpm  nrgy  dnce   dB  live   val    dur  acous  \\\n",
       "0          1    dance pop  140.0  81.0  61.0 -6.0  23.0  23.0  203.0    0.0   \n",
       "1          1    dance pop  138.0  89.0  68.0 -4.0  36.0  83.0  192.0    1.0   \n",
       "2          1     pop soul   95.0  48.0  84.0 -7.0   9.0  96.0  243.0   20.0   \n",
       "3          1  atl hip hop   93.0  87.0  66.0 -4.0   4.0  38.0  180.0   11.0   \n",
       "4          1  atl hip hop  104.0  85.0  69.0 -6.0   9.0  74.0  268.0   39.0   \n",
       "5          1  atl hip hop   82.0  93.0  55.0 -4.0  35.0  79.0  196.0    1.0   \n",
       "6          1    dance pop  128.0  81.0  82.0 -8.0  60.0  44.0  308.0    7.0   \n",
       "7          1    dance pop   92.0  52.0  60.0 -7.0  31.0  41.0  258.0   18.0   \n",
       "8          1    dance pop  146.0  59.0  50.0 -5.0  11.0   8.0  218.0   51.0   \n",
       "9          1    dance pop  109.0  84.0  64.0 -5.0   6.0  42.0  221.0    1.0   \n",
       "\n",
       "   spch   pop  top year artist type  \n",
       "0   6.0  70.0    2010.0         Duo  \n",
       "1   8.0  68.0    2010.0         Duo  \n",
       "2   3.0  72.0    2010.0        Solo  \n",
       "3  12.0  80.0    2010.0        Solo  \n",
       "4   5.0  79.0    2010.0        Solo  \n",
       "5  34.0  71.0    2010.0        Solo  \n",
       "6   7.0  75.0    2010.0  Band/Group  \n",
       "7  37.0  71.0    2010.0  Band/Group  \n",
       "8   3.0  87.0    2010.0        Solo  \n",
       "9   4.0  86.0    2010.0        Solo  "
      ]
     },
     "execution_count": 3,
     "metadata": {},
     "output_type": "execute_result"
    }
   ],
   "source": [
    "A = df.iloc[:-3, [2,5,6,7,8,9,10,11,12,13,14,15,16]] # last 3 rows are all NAs; want bpm to pop columns\n",
    "A.insert(0, \"intercept\", 1, True) # insert row of 1s for intercept\n",
    "A.head(10)"
   ]
  },
  {
   "cell_type": "markdown",
   "id": "bcbe918d",
   "metadata": {},
   "source": [
    "Since the `top genre` has a large number of categories and a lot of \"niche\" genres with only a few entries, we recode the variable so that the categories are broader."
   ]
  },
  {
   "cell_type": "code",
   "execution_count": 4,
   "id": "73613a48",
   "metadata": {},
   "outputs": [
    {
     "data": {
      "text/html": [
       "<div>\n",
       "<style scoped>\n",
       "    .dataframe tbody tr th:only-of-type {\n",
       "        vertical-align: middle;\n",
       "    }\n",
       "\n",
       "    .dataframe tbody tr th {\n",
       "        vertical-align: top;\n",
       "    }\n",
       "\n",
       "    .dataframe thead th {\n",
       "        text-align: right;\n",
       "    }\n",
       "</style>\n",
       "<table border=\"1\" class=\"dataframe\">\n",
       "  <thead>\n",
       "    <tr style=\"text-align: right;\">\n",
       "      <th></th>\n",
       "      <th>intercept</th>\n",
       "      <th>bpm</th>\n",
       "      <th>nrgy</th>\n",
       "      <th>dnce</th>\n",
       "      <th>dB</th>\n",
       "      <th>live</th>\n",
       "      <th>val</th>\n",
       "      <th>dur</th>\n",
       "      <th>acous</th>\n",
       "      <th>spch</th>\n",
       "      <th>pop</th>\n",
       "      <th>top year</th>\n",
       "      <th>artist type</th>\n",
       "      <th>top genre broad</th>\n",
       "    </tr>\n",
       "  </thead>\n",
       "  <tbody>\n",
       "    <tr>\n",
       "      <th>0</th>\n",
       "      <td>1</td>\n",
       "      <td>140.0</td>\n",
       "      <td>81.0</td>\n",
       "      <td>61.0</td>\n",
       "      <td>-6.0</td>\n",
       "      <td>23.0</td>\n",
       "      <td>23.0</td>\n",
       "      <td>203.0</td>\n",
       "      <td>0.0</td>\n",
       "      <td>6.0</td>\n",
       "      <td>70.0</td>\n",
       "      <td>2010.0</td>\n",
       "      <td>Duo</td>\n",
       "      <td>dance pop</td>\n",
       "    </tr>\n",
       "    <tr>\n",
       "      <th>1</th>\n",
       "      <td>1</td>\n",
       "      <td>138.0</td>\n",
       "      <td>89.0</td>\n",
       "      <td>68.0</td>\n",
       "      <td>-4.0</td>\n",
       "      <td>36.0</td>\n",
       "      <td>83.0</td>\n",
       "      <td>192.0</td>\n",
       "      <td>1.0</td>\n",
       "      <td>8.0</td>\n",
       "      <td>68.0</td>\n",
       "      <td>2010.0</td>\n",
       "      <td>Duo</td>\n",
       "      <td>dance pop</td>\n",
       "    </tr>\n",
       "    <tr>\n",
       "      <th>2</th>\n",
       "      <td>1</td>\n",
       "      <td>95.0</td>\n",
       "      <td>48.0</td>\n",
       "      <td>84.0</td>\n",
       "      <td>-7.0</td>\n",
       "      <td>9.0</td>\n",
       "      <td>96.0</td>\n",
       "      <td>243.0</td>\n",
       "      <td>20.0</td>\n",
       "      <td>3.0</td>\n",
       "      <td>72.0</td>\n",
       "      <td>2010.0</td>\n",
       "      <td>Solo</td>\n",
       "      <td>pop</td>\n",
       "    </tr>\n",
       "    <tr>\n",
       "      <th>3</th>\n",
       "      <td>1</td>\n",
       "      <td>93.0</td>\n",
       "      <td>87.0</td>\n",
       "      <td>66.0</td>\n",
       "      <td>-4.0</td>\n",
       "      <td>4.0</td>\n",
       "      <td>38.0</td>\n",
       "      <td>180.0</td>\n",
       "      <td>11.0</td>\n",
       "      <td>12.0</td>\n",
       "      <td>80.0</td>\n",
       "      <td>2010.0</td>\n",
       "      <td>Solo</td>\n",
       "      <td>hip hop</td>\n",
       "    </tr>\n",
       "    <tr>\n",
       "      <th>4</th>\n",
       "      <td>1</td>\n",
       "      <td>104.0</td>\n",
       "      <td>85.0</td>\n",
       "      <td>69.0</td>\n",
       "      <td>-6.0</td>\n",
       "      <td>9.0</td>\n",
       "      <td>74.0</td>\n",
       "      <td>268.0</td>\n",
       "      <td>39.0</td>\n",
       "      <td>5.0</td>\n",
       "      <td>79.0</td>\n",
       "      <td>2010.0</td>\n",
       "      <td>Solo</td>\n",
       "      <td>hip hop</td>\n",
       "    </tr>\n",
       "  </tbody>\n",
       "</table>\n",
       "</div>"
      ],
      "text/plain": [
       "   intercept    bpm  nrgy  dnce   dB  live   val    dur  acous  spch   pop  \\\n",
       "0          1  140.0  81.0  61.0 -6.0  23.0  23.0  203.0    0.0   6.0  70.0   \n",
       "1          1  138.0  89.0  68.0 -4.0  36.0  83.0  192.0    1.0   8.0  68.0   \n",
       "2          1   95.0  48.0  84.0 -7.0   9.0  96.0  243.0   20.0   3.0  72.0   \n",
       "3          1   93.0  87.0  66.0 -4.0   4.0  38.0  180.0   11.0  12.0  80.0   \n",
       "4          1  104.0  85.0  69.0 -6.0   9.0  74.0  268.0   39.0   5.0  79.0   \n",
       "\n",
       "   top year artist type top genre broad  \n",
       "0    2010.0         Duo       dance pop  \n",
       "1    2010.0         Duo       dance pop  \n",
       "2    2010.0        Solo             pop  \n",
       "3    2010.0        Solo         hip hop  \n",
       "4    2010.0        Solo         hip hop  "
      ]
     },
     "execution_count": 4,
     "metadata": {},
     "output_type": "execute_result"
    }
   ],
   "source": [
    "A['top genre'] = A['top genre'].astype(str)\n",
    "mapping = ['dance pop', 'pop', 'hip hop', 'rap', 'rock', 'r&b', 'house', 'dance', 'indie', 'edm', 'country', 'boy band']\n",
    "A['top genre broad'] = A['top genre'].apply(lambda x: [k for k in mapping if re.search(k, x)])\n",
    "A['top genre broad'] = A['top genre broad'].str[0]\n",
    "A[\"top genre broad\"].fillna('other', inplace=True)\n",
    "A = A.drop([\"top genre\"], axis=1)\n",
    "A.head(5)"
   ]
  },
  {
   "cell_type": "markdown",
   "id": "850e4228",
   "metadata": {},
   "source": [
    "Label encode the categorical variables:"
   ]
  },
  {
   "cell_type": "code",
   "execution_count": 5,
   "id": "b2664bf7",
   "metadata": {},
   "outputs": [],
   "source": [
    "label_encoder = preprocessing.LabelEncoder()\n",
    "A[\"top year\"] = label_encoder.fit_transform(A[\"top year\"])\n",
    "A[\"artist type\"] = label_encoder.fit_transform(A[\"artist type\"])\n",
    "A[\"top genre broad\"] = label_encoder.fit_transform(A[\"top genre broad\"])"
   ]
  },
  {
   "cell_type": "markdown",
   "id": "18a3da27",
   "metadata": {},
   "source": [
    "Due to the response variable violating the normality assumption, a transformation is carried out:"
   ]
  },
  {
   "cell_type": "code",
   "execution_count": 6,
   "id": "c73051b7",
   "metadata": {},
   "outputs": [
    {
     "name": "stdout",
     "output_type": "stream",
     "text": [
      "[3.27087407]\n"
     ]
    }
   ],
   "source": [
    "pt = preprocessing.PowerTransformer(method=\"yeo-johnson\")\n",
    "pop_df = pd.DataFrame(A[\"pop\"])\n",
    "pt.fit(pop_df)\n",
    "print(pt.lambdas_)  # optimal lambda value"
   ]
  },
  {
   "cell_type": "code",
   "execution_count": 7,
   "id": "1acdf27b",
   "metadata": {},
   "outputs": [],
   "source": [
    "transformed_data = pt.transform(pop_df)\n",
    "A[\"pop\"] = transformed_data"
   ]
  },
  {
   "cell_type": "code",
   "execution_count": 8,
   "id": "1b4ba3be",
   "metadata": {},
   "outputs": [
    {
     "data": {
      "text/html": [
       "<div>\n",
       "<style scoped>\n",
       "    .dataframe tbody tr th:only-of-type {\n",
       "        vertical-align: middle;\n",
       "    }\n",
       "\n",
       "    .dataframe tbody tr th {\n",
       "        vertical-align: top;\n",
       "    }\n",
       "\n",
       "    .dataframe thead th {\n",
       "        text-align: right;\n",
       "    }\n",
       "</style>\n",
       "<table border=\"1\" class=\"dataframe\">\n",
       "  <thead>\n",
       "    <tr style=\"text-align: right;\">\n",
       "      <th></th>\n",
       "      <th>intercept</th>\n",
       "      <th>bpm</th>\n",
       "      <th>nrgy</th>\n",
       "      <th>dnce</th>\n",
       "      <th>dB</th>\n",
       "      <th>live</th>\n",
       "      <th>val</th>\n",
       "      <th>dur</th>\n",
       "      <th>acous</th>\n",
       "      <th>spch</th>\n",
       "      <th>top year</th>\n",
       "      <th>artist type</th>\n",
       "      <th>top genre broad</th>\n",
       "      <th>pop</th>\n",
       "    </tr>\n",
       "  </thead>\n",
       "  <tbody>\n",
       "    <tr>\n",
       "      <th>0</th>\n",
       "      <td>1</td>\n",
       "      <td>140.0</td>\n",
       "      <td>81.0</td>\n",
       "      <td>61.0</td>\n",
       "      <td>-6.0</td>\n",
       "      <td>23.0</td>\n",
       "      <td>23.0</td>\n",
       "      <td>203.0</td>\n",
       "      <td>0.0</td>\n",
       "      <td>6.0</td>\n",
       "      <td>0</td>\n",
       "      <td>1</td>\n",
       "      <td>3</td>\n",
       "      <td>-0.688503</td>\n",
       "    </tr>\n",
       "    <tr>\n",
       "      <th>1</th>\n",
       "      <td>1</td>\n",
       "      <td>138.0</td>\n",
       "      <td>89.0</td>\n",
       "      <td>68.0</td>\n",
       "      <td>-4.0</td>\n",
       "      <td>36.0</td>\n",
       "      <td>83.0</td>\n",
       "      <td>192.0</td>\n",
       "      <td>1.0</td>\n",
       "      <td>8.0</td>\n",
       "      <td>0</td>\n",
       "      <td>1</td>\n",
       "      <td>3</td>\n",
       "      <td>-0.893216</td>\n",
       "    </tr>\n",
       "    <tr>\n",
       "      <th>2</th>\n",
       "      <td>1</td>\n",
       "      <td>95.0</td>\n",
       "      <td>48.0</td>\n",
       "      <td>84.0</td>\n",
       "      <td>-7.0</td>\n",
       "      <td>9.0</td>\n",
       "      <td>96.0</td>\n",
       "      <td>243.0</td>\n",
       "      <td>20.0</td>\n",
       "      <td>3.0</td>\n",
       "      <td>0</td>\n",
       "      <td>2</td>\n",
       "      <td>9</td>\n",
       "      <td>-0.470267</td>\n",
       "    </tr>\n",
       "    <tr>\n",
       "      <th>3</th>\n",
       "      <td>1</td>\n",
       "      <td>93.0</td>\n",
       "      <td>87.0</td>\n",
       "      <td>66.0</td>\n",
       "      <td>-4.0</td>\n",
       "      <td>4.0</td>\n",
       "      <td>38.0</td>\n",
       "      <td>180.0</td>\n",
       "      <td>11.0</td>\n",
       "      <td>12.0</td>\n",
       "      <td>0</td>\n",
       "      <td>2</td>\n",
       "      <td>5</td>\n",
       "      <td>0.547680</td>\n",
       "    </tr>\n",
       "    <tr>\n",
       "      <th>4</th>\n",
       "      <td>1</td>\n",
       "      <td>104.0</td>\n",
       "      <td>85.0</td>\n",
       "      <td>69.0</td>\n",
       "      <td>-6.0</td>\n",
       "      <td>9.0</td>\n",
       "      <td>74.0</td>\n",
       "      <td>268.0</td>\n",
       "      <td>39.0</td>\n",
       "      <td>5.0</td>\n",
       "      <td>0</td>\n",
       "      <td>2</td>\n",
       "      <td>5</td>\n",
       "      <td>0.407101</td>\n",
       "    </tr>\n",
       "  </tbody>\n",
       "</table>\n",
       "</div>"
      ],
      "text/plain": [
       "   intercept    bpm  nrgy  dnce   dB  live   val    dur  acous  spch  \\\n",
       "0          1  140.0  81.0  61.0 -6.0  23.0  23.0  203.0    0.0   6.0   \n",
       "1          1  138.0  89.0  68.0 -4.0  36.0  83.0  192.0    1.0   8.0   \n",
       "2          1   95.0  48.0  84.0 -7.0   9.0  96.0  243.0   20.0   3.0   \n",
       "3          1   93.0  87.0  66.0 -4.0   4.0  38.0  180.0   11.0  12.0   \n",
       "4          1  104.0  85.0  69.0 -6.0   9.0  74.0  268.0   39.0   5.0   \n",
       "\n",
       "   top year  artist type  top genre broad       pop  \n",
       "0         0            1                3 -0.688503  \n",
       "1         0            1                3 -0.893216  \n",
       "2         0            2                9 -0.470267  \n",
       "3         0            2                5  0.547680  \n",
       "4         0            2                5  0.407101  "
      ]
     },
     "execution_count": 8,
     "metadata": {},
     "output_type": "execute_result"
    }
   ],
   "source": [
    "A = A[[col for col in A if col not in [\"pop\"]] + [\"pop\"]] # move 'pop' column to last column\n",
    "A.head(5)"
   ]
  },
  {
   "cell_type": "markdown",
   "id": "76ab4d7b",
   "metadata": {},
   "source": [
    "# Finding Regression Coefficients and their Standard Errors"
   ]
  },
  {
   "cell_type": "markdown",
   "id": "458b393c",
   "metadata": {},
   "source": [
    "### LU Decomposition"
   ]
  },
  {
   "cell_type": "code",
   "execution_count": 9,
   "id": "21bb9761",
   "metadata": {
    "scrolled": true
   },
   "outputs": [
    {
     "data": {
      "text/plain": [
       "array([ 1.57548284e-01,  6.95900710e-05, -1.31937493e-02, -1.91301479e-04,\n",
       "        2.18890551e-02, -4.56928329e-03,  4.87157339e-03,  1.47873996e-03,\n",
       "        9.21248437e-04,  1.28768974e-03,  7.46445076e-02, -7.49514683e-02,\n",
       "        2.59406123e-02])"
      ]
     },
     "execution_count": 9,
     "metadata": {},
     "output_type": "execute_result"
    }
   ],
   "source": [
    "X = np.array(A.drop(columns=[\"pop\"])) # all columns but pop\n",
    "y = np.array(A[\"pop\"]) # pop is response var\n",
    "\n",
    "XtX = np.matrix.transpose(X).dot(X)\n",
    "Xty = np.matrix.transpose(X).dot(y)\n",
    "\n",
    "B_lu = np.linalg.solve(XtX, Xty)\n",
    "B_lu"
   ]
  },
  {
   "cell_type": "code",
   "execution_count": 10,
   "id": "4f493cf3",
   "metadata": {},
   "outputs": [
    {
     "data": {
      "text/plain": [
       "array([7.70047043e+07, 1.08969347e+06, 5.82767067e+05, 4.19067094e+05,\n",
       "       2.12545947e+05, 1.87575493e+05, 1.42296639e+05, 7.63983001e+04,\n",
       "       1.07328359e+04, 6.62554593e+03, 2.67378594e+03, 4.08904827e+00,\n",
       "       5.51453310e+02])"
      ]
     },
     "execution_count": 10,
     "metadata": {},
     "output_type": "execute_result"
    }
   ],
   "source": [
    "np.linalg.eigvals(XtX)"
   ]
  },
  {
   "cell_type": "markdown",
   "id": "d7a9fc19",
   "metadata": {},
   "source": [
    "For the standard errors, we will first find an estimate of the variance using the formula $\\hat{\\sigma}^2 = (Y - X\\hat{\\beta})'(Y - X\\hat{\\beta})/(n-p)$:"
   ]
  },
  {
   "cell_type": "code",
   "execution_count": 11,
   "id": "70ef5582",
   "metadata": {},
   "outputs": [
    {
     "data": {
      "text/plain": [
       "0.8913356063590618"
      ]
     },
     "execution_count": 11,
     "metadata": {},
     "output_type": "execute_result"
    }
   ],
   "source": [
    "S = y - X.dot(B_lu)\n",
    "n = X.shape[0] # number of rows of X\n",
    "p = X.shape[1] # number of rows of X\n",
    "\n",
    "sigma2_hat = np.matrix.transpose(S).dot(S) / (n-p)\n",
    "sigma2_hat"
   ]
  },
  {
   "cell_type": "markdown",
   "id": "eec79001",
   "metadata": {},
   "source": [
    "Next we implement the formula $SE[\\hat{\\beta}] = \\sqrt{\\sigma^2 diag((X^TX)^{-1})}$ using `np.linalg.solve()` to find the inverse of $X^TX$:"
   ]
  },
  {
   "cell_type": "code",
   "execution_count": 12,
   "id": "2a87105c",
   "metadata": {},
   "outputs": [
    {
     "data": {
      "text/plain": [
       "array([0.46667529, 0.00117866, 0.00309783, 0.0026423 , 0.02174191,\n",
       "       0.0022893 , 0.00163561, 0.00078959, 0.00183738, 0.00345919,\n",
       "       0.0117021 , 0.04061169, 0.00965389])"
      ]
     },
     "execution_count": 12,
     "metadata": {},
     "output_type": "execute_result"
    }
   ],
   "source": [
    "a = sigma2_hat * np.diag(np.linalg.inv(XtX))\n",
    "np.sqrt(a)"
   ]
  },
  {
   "cell_type": "markdown",
   "id": "6385201b",
   "metadata": {},
   "source": [
    "### Cholesky Decomposition"
   ]
  },
  {
   "cell_type": "code",
   "execution_count": 13,
   "id": "0f1c7d7c",
   "metadata": {},
   "outputs": [
    {
     "data": {
      "text/plain": [
       "array([ 1.57548284e-01,  6.95900710e-05, -1.31937493e-02, -1.91301479e-04,\n",
       "        2.18890551e-02, -4.56928329e-03,  4.87157339e-03,  1.47873996e-03,\n",
       "        9.21248437e-04,  1.28768974e-03,  7.46445076e-02, -7.49514683e-02,\n",
       "        2.59406123e-02])"
      ]
     },
     "execution_count": 13,
     "metadata": {},
     "output_type": "execute_result"
    }
   ],
   "source": [
    "# using cho_factor() to obtain the lower-triangular Cholesky decomposition for X'X; equates to LL'\n",
    "L, Lt = cho_factor(XtX, lower = True)\n",
    "\n",
    "B_chol = cho_solve((L, Lt), Xty)\n",
    "B_chol"
   ]
  },
  {
   "cell_type": "markdown",
   "id": "c993ab66",
   "metadata": {},
   "source": [
    "We will then find the estimate of the variance for the standard errors. "
   ]
  },
  {
   "cell_type": "code",
   "execution_count": 14,
   "id": "6bb11e0f",
   "metadata": {
    "scrolled": true
   },
   "outputs": [
    {
     "data": {
      "text/plain": [
       "0.8913356063590631"
      ]
     },
     "execution_count": 14,
     "metadata": {},
     "output_type": "execute_result"
    }
   ],
   "source": [
    "aug_mat = np.array(A)\n",
    "AtA = np.matrix.transpose(aug_mat).dot(aug_mat) # to ensure square matrix\n",
    "\n",
    "L, Lt = cho_factor(AtA, lower = True)\n",
    "\n",
    "d = L[L.shape[0]-1, L.shape[1]-1] # d is bottom right element of the lower triangular matrix\n",
    "\n",
    "n = X.shape[0] # number of rows of X\n",
    "p = X.shape[1] # number of cols of X\n",
    "\n",
    "sigma2_hat = d**2/(n - p)\n",
    "sigma2_hat"
   ]
  },
  {
   "cell_type": "code",
   "execution_count": 15,
   "id": "7df82b0e",
   "metadata": {},
   "outputs": [
    {
     "data": {
      "text/plain": [
       "array([0.46667529, 0.00117866, 0.00309783, 0.0026423 , 0.02174191,\n",
       "       0.0022893 , 0.00163561, 0.00078959, 0.00183738, 0.00345919,\n",
       "       0.0117021 , 0.04061169, 0.00965389])"
      ]
     },
     "execution_count": 15,
     "metadata": {},
     "output_type": "execute_result"
    }
   ],
   "source": [
    "L = np.linalg.cholesky(XtX)\n",
    "a = sigma2_hat * np.diag(scipy.linalg.inv(L @ L.transpose()))\n",
    "np.sqrt(a)"
   ]
  },
  {
   "cell_type": "markdown",
   "id": "82f37b3b",
   "metadata": {},
   "source": [
    "# LASSO"
   ]
  },
  {
   "cell_type": "code",
   "execution_count": 16,
   "id": "8c072e13",
   "metadata": {},
   "outputs": [],
   "source": [
    "warnings.filterwarnings(\"ignore\")  # supress warnings about using iloc\n",
    "X = pd.DataFrame(X) # make numpy array into pandas df\n",
    "\n",
    "list_numerical = X.columns[:9] # get names of numerical columns only; CHECK IF CORRECT\n",
    "\n",
    "X_train, X_test, y_train, y_test = train_test_split(\n",
    "    X, y, test_size=0.2, random_state=10\n",
    ")\n",
    "\n",
    "# Standardize Values\n",
    "scaler = preprocessing.StandardScaler().fit(X_train[list_numerical])\n",
    "X_train[list_numerical] = scaler.transform(X_train[list_numerical])\n",
    "X_test[list_numerical] = scaler.transform(X_test[list_numerical])"
   ]
  },
  {
   "cell_type": "code",
   "execution_count": 17,
   "id": "5f9e1bc4",
   "metadata": {
    "scrolled": true
   },
   "outputs": [
    {
     "data": {
      "text/plain": [
       "Text(0.5, 1.0, 'LASSO Coefficients vs Regularization Parameters')"
      ]
     },
     "execution_count": 17,
     "metadata": {},
     "output_type": "execute_result"
    },
    {
     "data": {
      "image/png": "[encoded data removed]",
      "text/plain": [
       "<Figure size 432x288 with 1 Axes>"
      ]
     },
     "metadata": {
      "needs_background": "light"
     },
     "output_type": "display_data"
    }
   ],
   "source": [
    "# Graph\n",
    "coef = []\n",
    "alphas = np.arange(0.01, 5, 0.10)\n",
    "lasso = Lasso(max_iter=10000)\n",
    "\n",
    "for a in alphas:\n",
    "    lasso.set_params(alpha=a)\n",
    "    lasso.fit(X_train, y_train)\n",
    "    coef.append(lasso.coef_)\n",
    "\n",
    "fig = plt.figure()\n",
    "ax = fig.add_subplot(111)\n",
    "ax.plot(alphas, coef)\n",
    "ax.set_xlabel(\"Lambda (Regularization Parameter)\")\n",
    "ax.set_ylabel(\"Beta (Predictor Coefficients)\")\n",
    "ax.set_title(\"LASSO Coefficients vs Regularization Parameters\")"
   ]
  },
  {
   "cell_type": "code",
   "execution_count": 18,
   "id": "7d1e2ccb",
   "metadata": {},
   "outputs": [
    {
     "data": {
      "text/plain": [
       "0.014753783496431739"
      ]
     },
     "metadata": {},
     "output_type": "display_data"
    }
   ],
   "source": [
    "# K Fold Cross Validation\n",
    "model = LassoCV(cv=10, random_state=1, max_iter=10000)\n",
    "model.fit(X_train, y_train)\n",
    "pred = model.predict(X_test)\n",
    "residuals = y_test - pred\n",
    "optimal = model.alpha_\n",
    "display(optimal)"
   ]
  },
  {
   "cell_type": "code",
   "execution_count": 19,
   "id": "a6ae6f8f",
   "metadata": {},
   "outputs": [
    {
     "data": {
      "text/html": [
       "<div>\n",
       "<style scoped>\n",
       "    .dataframe tbody tr th:only-of-type {\n",
       "        vertical-align: middle;\n",
       "    }\n",
       "\n",
       "    .dataframe tbody tr th {\n",
       "        vertical-align: top;\n",
       "    }\n",
       "\n",
       "    .dataframe thead th {\n",
       "        text-align: right;\n",
       "    }\n",
       "</style>\n",
       "<table border=\"1\" class=\"dataframe\">\n",
       "  <thead>\n",
       "    <tr style=\"text-align: right;\">\n",
       "      <th></th>\n",
       "      <th>Variable</th>\n",
       "      <th>Coef</th>\n",
       "    </tr>\n",
       "  </thead>\n",
       "  <tbody>\n",
       "    <tr>\n",
       "      <th>0</th>\n",
       "      <td>0.0</td>\n",
       "      <td>0.000000</td>\n",
       "    </tr>\n",
       "    <tr>\n",
       "      <th>1</th>\n",
       "      <td>1.0</td>\n",
       "      <td>0.000000</td>\n",
       "    </tr>\n",
       "    <tr>\n",
       "      <th>2</th>\n",
       "      <td>2.0</td>\n",
       "      <td>-0.129133</td>\n",
       "    </tr>\n",
       "    <tr>\n",
       "      <th>3</th>\n",
       "      <td>3.0</td>\n",
       "      <td>-0.000000</td>\n",
       "    </tr>\n",
       "    <tr>\n",
       "      <th>4</th>\n",
       "      <td>4.0</td>\n",
       "      <td>0.000000</td>\n",
       "    </tr>\n",
       "    <tr>\n",
       "      <th>5</th>\n",
       "      <td>5.0</td>\n",
       "      <td>-0.055721</td>\n",
       "    </tr>\n",
       "    <tr>\n",
       "      <th>6</th>\n",
       "      <td>6.0</td>\n",
       "      <td>0.078166</td>\n",
       "    </tr>\n",
       "    <tr>\n",
       "      <th>7</th>\n",
       "      <td>7.0</td>\n",
       "      <td>0.047431</td>\n",
       "    </tr>\n",
       "    <tr>\n",
       "      <th>8</th>\n",
       "      <td>8.0</td>\n",
       "      <td>0.010546</td>\n",
       "    </tr>\n",
       "    <tr>\n",
       "      <th>9</th>\n",
       "      <td>9.0</td>\n",
       "      <td>0.002267</td>\n",
       "    </tr>\n",
       "    <tr>\n",
       "      <th>10</th>\n",
       "      <td>10.0</td>\n",
       "      <td>0.078052</td>\n",
       "    </tr>\n",
       "    <tr>\n",
       "      <th>11</th>\n",
       "      <td>11.0</td>\n",
       "      <td>-0.056955</td>\n",
       "    </tr>\n",
       "    <tr>\n",
       "      <th>12</th>\n",
       "      <td>12.0</td>\n",
       "      <td>0.022339</td>\n",
       "    </tr>\n",
       "  </tbody>\n",
       "</table>\n",
       "</div>"
      ],
      "text/plain": [
       "    Variable      Coef\n",
       "0        0.0  0.000000\n",
       "1        1.0  0.000000\n",
       "2        2.0 -0.129133\n",
       "3        3.0 -0.000000\n",
       "4        4.0  0.000000\n",
       "5        5.0 -0.055721\n",
       "6        6.0  0.078166\n",
       "7        7.0  0.047431\n",
       "8        8.0  0.010546\n",
       "9        9.0  0.002267\n",
       "10      10.0  0.078052\n",
       "11      11.0 -0.056955\n",
       "12      12.0  0.022339"
      ]
     },
     "metadata": {},
     "output_type": "display_data"
    },
    {
     "data": {
      "text/plain": [
       "RangeIndex(start=0, stop=13, step=1)"
      ]
     },
     "metadata": {},
     "output_type": "display_data"
    }
   ],
   "source": [
    "coefs = np.array(model.coef_)\n",
    "comp = pd.DataFrame((X_test.columns, coefs)).T\n",
    "comp = comp.rename({0: \"Variable\", 1: \"Coef\"}, axis=1)\n",
    "display(comp)\n",
    "display(X_test.columns)\n",
    "\n",
    "new_pred = model.predict(X_test)\n",
    "new_resid = y_test - new_pred"
   ]
  },
  {
   "cell_type": "code",
   "execution_count": 20,
   "id": "5b8d88af",
   "metadata": {},
   "outputs": [
    {
     "data": {
      "text/plain": [
       "array([ 2.,  5.,  6.,  7.,  8.,  9., 10., 11., 12.])"
      ]
     },
     "execution_count": 20,
     "metadata": {},
     "output_type": "execute_result"
    }
   ],
   "source": [
    "comp_selected = comp[comp['Coef'] != 0]\n",
    "selected_features = comp_selected.Variable.unique()\n",
    "selected_features"
   ]
  },
  {
   "cell_type": "code",
   "execution_count": 21,
   "id": "c0c81ce2",
   "metadata": {},
   "outputs": [
    {
     "data": {
      "text/html": [
       "<div>\n",
       "<style scoped>\n",
       "    .dataframe tbody tr th:only-of-type {\n",
       "        vertical-align: middle;\n",
       "    }\n",
       "\n",
       "    .dataframe tbody tr th {\n",
       "        vertical-align: top;\n",
       "    }\n",
       "\n",
       "    .dataframe thead th {\n",
       "        text-align: right;\n",
       "    }\n",
       "</style>\n",
       "<table border=\"1\" class=\"dataframe\">\n",
       "  <thead>\n",
       "    <tr style=\"text-align: right;\">\n",
       "      <th></th>\n",
       "      <th>2</th>\n",
       "      <th>5</th>\n",
       "      <th>6</th>\n",
       "      <th>7</th>\n",
       "      <th>8</th>\n",
       "      <th>9</th>\n",
       "      <th>10</th>\n",
       "      <th>11</th>\n",
       "      <th>12</th>\n",
       "      <th>0</th>\n",
       "    </tr>\n",
       "  </thead>\n",
       "  <tbody>\n",
       "    <tr>\n",
       "      <th>0</th>\n",
       "      <td>81.0</td>\n",
       "      <td>23.0</td>\n",
       "      <td>23.0</td>\n",
       "      <td>203.0</td>\n",
       "      <td>0.0</td>\n",
       "      <td>6.0</td>\n",
       "      <td>0.0</td>\n",
       "      <td>1.0</td>\n",
       "      <td>3.0</td>\n",
       "      <td>-0.688503</td>\n",
       "    </tr>\n",
       "    <tr>\n",
       "      <th>1</th>\n",
       "      <td>89.0</td>\n",
       "      <td>36.0</td>\n",
       "      <td>83.0</td>\n",
       "      <td>192.0</td>\n",
       "      <td>1.0</td>\n",
       "      <td>8.0</td>\n",
       "      <td>0.0</td>\n",
       "      <td>1.0</td>\n",
       "      <td>3.0</td>\n",
       "      <td>-0.893216</td>\n",
       "    </tr>\n",
       "    <tr>\n",
       "      <th>2</th>\n",
       "      <td>48.0</td>\n",
       "      <td>9.0</td>\n",
       "      <td>96.0</td>\n",
       "      <td>243.0</td>\n",
       "      <td>20.0</td>\n",
       "      <td>3.0</td>\n",
       "      <td>0.0</td>\n",
       "      <td>2.0</td>\n",
       "      <td>9.0</td>\n",
       "      <td>-0.470267</td>\n",
       "    </tr>\n",
       "    <tr>\n",
       "      <th>3</th>\n",
       "      <td>87.0</td>\n",
       "      <td>4.0</td>\n",
       "      <td>38.0</td>\n",
       "      <td>180.0</td>\n",
       "      <td>11.0</td>\n",
       "      <td>12.0</td>\n",
       "      <td>0.0</td>\n",
       "      <td>2.0</td>\n",
       "      <td>5.0</td>\n",
       "      <td>0.547680</td>\n",
       "    </tr>\n",
       "    <tr>\n",
       "      <th>4</th>\n",
       "      <td>85.0</td>\n",
       "      <td>9.0</td>\n",
       "      <td>74.0</td>\n",
       "      <td>268.0</td>\n",
       "      <td>39.0</td>\n",
       "      <td>5.0</td>\n",
       "      <td>0.0</td>\n",
       "      <td>2.0</td>\n",
       "      <td>5.0</td>\n",
       "      <td>0.407101</td>\n",
       "    </tr>\n",
       "  </tbody>\n",
       "</table>\n",
       "</div>"
      ],
      "text/plain": [
       "     2     5     6      7     8     9    10   11   12        0 \n",
       "0  81.0  23.0  23.0  203.0   0.0   6.0  0.0  1.0  3.0 -0.688503\n",
       "1  89.0  36.0  83.0  192.0   1.0   8.0  0.0  1.0  3.0 -0.893216\n",
       "2  48.0   9.0  96.0  243.0  20.0   3.0  0.0  2.0  9.0 -0.470267\n",
       "3  87.0   4.0  38.0  180.0  11.0  12.0  0.0  2.0  5.0  0.547680\n",
       "4  85.0   9.0  74.0  268.0  39.0   5.0  0.0  2.0  5.0  0.407101"
      ]
     },
     "execution_count": 21,
     "metadata": {},
     "output_type": "execute_result"
    }
   ],
   "source": [
    "y = pd.DataFrame(y) # numpy array to pandas df\n",
    "LASSO_df = pd.concat([X[selected_features], y], axis=1)\n",
    "LASSO_df.head()"
   ]
  },
  {
   "cell_type": "markdown",
   "id": "bde6ad44",
   "metadata": {},
   "source": [
    "# Simulation Study"
   ]
  },
  {
   "cell_type": "code",
   "execution_count": 22,
   "id": "bb68e33f",
   "metadata": {},
   "outputs": [],
   "source": [
    "#num of observations\n",
    "#n = 1000\n",
    "# num of features\n",
    "#p = 9\n",
    "# determine the design matrix\n",
    "#random.seed(108)\n",
    "\n",
    "#X = np.array(np.random.normal(0, 1, n*p))\n",
    "#X = X.reshape(n,p)\n",
    "\n",
    "#beta = B_lu # beta coefficients from above\n",
    "#sigma = 10\n",
    "\n",
    "#y = X.dot(beta) + np.random.normal(0, sigma, n)"
   ]
  },
  {
   "cell_type": "code",
   "execution_count": 23,
   "id": "2abbc047",
   "metadata": {},
   "outputs": [],
   "source": [
    "random.seed(108)\n",
    "\n",
    "n = 1000\n",
    "p = 13\n",
    "\n",
    "cols = A.columns.drop(\"pop\")\n",
    "X = np.array(\n",
    "    [np.random.choice(A[x], 1000) for x in cols]\n",
    ").T\n",
    "\n",
    "X\n",
    "X = X.reshape(n,p)\n",
    "beta = B_lu # beta coefficients from above\n",
    "sigma = 10\n",
    "\n",
    "y = X.dot(beta) + np.random.normal(0, sigma, n)"
   ]
  },
  {
   "cell_type": "code",
   "execution_count": 24,
   "id": "6a26b1bb",
   "metadata": {},
   "outputs": [],
   "source": [
    "XtX = np.matrix.transpose(X).dot(X)\n",
    "Xty = np.matrix.transpose(X).dot(y)\n",
    "\n",
    "beta_est = np.linalg.solve(XtX, Xty)\n",
    "\n",
    "S = y - X.dot(beta_est)\n",
    "n = X.shape[0] # number of rows of X\n",
    "p = X.shape[1] # number of rows of X\n",
    "\n",
    "var = np.matrix.transpose(S).dot(S) / (n-p)\n",
    "sigma_est = np.sqrt(var)"
   ]
  },
  {
   "cell_type": "code",
   "execution_count": 25,
   "id": "b839d37b",
   "metadata": {},
   "outputs": [
    {
     "data": {
      "text/html": [
       "<div>\n",
       "<style scoped>\n",
       "    .dataframe tbody tr th:only-of-type {\n",
       "        vertical-align: middle;\n",
       "    }\n",
       "\n",
       "    .dataframe tbody tr th {\n",
       "        vertical-align: top;\n",
       "    }\n",
       "\n",
       "    .dataframe thead th {\n",
       "        text-align: right;\n",
       "    }\n",
       "</style>\n",
       "<table border=\"1\" class=\"dataframe\">\n",
       "  <thead>\n",
       "    <tr style=\"text-align: right;\">\n",
       "      <th></th>\n",
       "      <th>True Beta</th>\n",
       "      <th>Beta Est</th>\n",
       "    </tr>\n",
       "  </thead>\n",
       "  <tbody>\n",
       "    <tr>\n",
       "      <th>0</th>\n",
       "      <td>0.157548</td>\n",
       "      <td>-1.415839</td>\n",
       "    </tr>\n",
       "    <tr>\n",
       "      <th>1</th>\n",
       "      <td>0.000070</td>\n",
       "      <td>0.012419</td>\n",
       "    </tr>\n",
       "    <tr>\n",
       "      <th>2</th>\n",
       "      <td>-0.013194</td>\n",
       "      <td>-0.020549</td>\n",
       "    </tr>\n",
       "    <tr>\n",
       "      <th>3</th>\n",
       "      <td>-0.000191</td>\n",
       "      <td>0.005246</td>\n",
       "    </tr>\n",
       "    <tr>\n",
       "      <th>4</th>\n",
       "      <td>0.021889</td>\n",
       "      <td>-0.115218</td>\n",
       "    </tr>\n",
       "    <tr>\n",
       "      <th>5</th>\n",
       "      <td>-0.004569</td>\n",
       "      <td>0.013137</td>\n",
       "    </tr>\n",
       "    <tr>\n",
       "      <th>6</th>\n",
       "      <td>0.004872</td>\n",
       "      <td>0.026628</td>\n",
       "    </tr>\n",
       "    <tr>\n",
       "      <th>7</th>\n",
       "      <td>0.001479</td>\n",
       "      <td>-0.005604</td>\n",
       "    </tr>\n",
       "    <tr>\n",
       "      <th>8</th>\n",
       "      <td>0.000921</td>\n",
       "      <td>-0.035179</td>\n",
       "    </tr>\n",
       "    <tr>\n",
       "      <th>9</th>\n",
       "      <td>0.001288</td>\n",
       "      <td>0.020352</td>\n",
       "    </tr>\n",
       "    <tr>\n",
       "      <th>10</th>\n",
       "      <td>0.074645</td>\n",
       "      <td>0.129779</td>\n",
       "    </tr>\n",
       "    <tr>\n",
       "      <th>11</th>\n",
       "      <td>-0.074951</td>\n",
       "      <td>0.055690</td>\n",
       "    </tr>\n",
       "    <tr>\n",
       "      <th>12</th>\n",
       "      <td>0.025941</td>\n",
       "      <td>-0.007302</td>\n",
       "    </tr>\n",
       "  </tbody>\n",
       "</table>\n",
       "</div>"
      ],
      "text/plain": [
       "    True Beta  Beta Est\n",
       "0    0.157548 -1.415839\n",
       "1    0.000070  0.012419\n",
       "2   -0.013194 -0.020549\n",
       "3   -0.000191  0.005246\n",
       "4    0.021889 -0.115218\n",
       "5   -0.004569  0.013137\n",
       "6    0.004872  0.026628\n",
       "7    0.001479 -0.005604\n",
       "8    0.000921 -0.035179\n",
       "9    0.001288  0.020352\n",
       "10   0.074645  0.129779\n",
       "11  -0.074951  0.055690\n",
       "12   0.025941 -0.007302"
      ]
     },
     "execution_count": 25,
     "metadata": {},
     "output_type": "execute_result"
    }
   ],
   "source": [
    "pd.DataFrame(data={\"True Beta\": beta, \"Beta Est\": beta_est})"
   ]
  },
  {
   "cell_type": "code",
   "execution_count": 26,
   "id": "72f2af27",
   "metadata": {
    "scrolled": true
   },
   "outputs": [
    {
     "name": "stdout",
     "output_type": "stream",
     "text": [
      "True Sigma: 10\n",
      "Est sigma: 9.730361728587816\n"
     ]
    }
   ],
   "source": [
    "print(\"True Sigma: \" + str(sigma) + \"\\nEst sigma: \"+str(sigma_est))"
   ]
  },
  {
   "cell_type": "code",
   "execution_count": 27,
   "id": "e23af8de",
   "metadata": {},
   "outputs": [],
   "source": [
    "#num_datasets = 100\n",
    "#y_bar = X.dot(beta)\n",
    "#Y = [y_bar+np.random.normal(0, sigma, n) for i in range(num_datasets)]\n",
    "#Y = np.concatenate(Y, axis=0 )\n",
    "#Y = Y.reshape(n, 100)"
   ]
  },
  {
   "cell_type": "code",
   "execution_count": 28,
   "id": "5c5a166b",
   "metadata": {
    "scrolled": true
   },
   "outputs": [
    {
     "name": "stdout",
     "output_type": "stream",
     "text": [
      "(1000, 1201)\n"
     ]
    }
   ],
   "source": [
    "num_datasets = 100\n",
    "\n",
    "#cols = A.columns.drop(\"pop\")\n",
    "#print(cols)\n",
    "#X_old = np.array([np.random.choice(A[x], 1000) for x in cols]).T\n",
    "\n",
    "X = np.array([np.random.choice(A[\"bpm\"], 1000)])\n",
    "fin_mat = X\n",
    "\n",
    "for i in range(num_datasets):\n",
    "    cols = A.columns.drop([\"bpm\", \"pop\"])\n",
    "    X = np.array([np.random.choice(A[x], 1000) for x in cols])\n",
    "    fin_mat = np.vstack([fin_mat, X])\n",
    "X = fin_mat.T\n",
    "print(X.shape)\n",
    "\n",
    "y = np.array([np.random.choice(A[\"pop\"], 1000)]).T"
   ]
  },
  {
   "cell_type": "code",
   "execution_count": 29,
   "id": "2d9583ea",
   "metadata": {},
   "outputs": [
    {
     "ename": "LinAlgError",
     "evalue": "Singular matrix",
     "output_type": "error",
     "traceback": [
      "\u001b[1;31m---------------------------------------------------------------------------\u001b[0m",
      "\u001b[1;31mLinAlgError\u001b[0m                               Traceback (most recent call last)",
      "\u001b[1;32m~\\AppData\\Local\\Temp/ipykernel_36256/1881505374.py\u001b[0m in \u001b[0;36m<module>\u001b[1;34m\u001b[0m\n\u001b[0;32m      1\u001b[0m \u001b[0mXtX\u001b[0m \u001b[1;33m=\u001b[0m \u001b[0mnp\u001b[0m\u001b[1;33m.\u001b[0m\u001b[0mmatrix\u001b[0m\u001b[1;33m.\u001b[0m\u001b[0mtranspose\u001b[0m\u001b[1;33m(\u001b[0m\u001b[0mX\u001b[0m\u001b[1;33m)\u001b[0m\u001b[1;33m.\u001b[0m\u001b[0mdot\u001b[0m\u001b[1;33m(\u001b[0m\u001b[0mX\u001b[0m\u001b[1;33m)\u001b[0m\u001b[1;33m\u001b[0m\u001b[1;33m\u001b[0m\u001b[0m\n\u001b[0;32m      2\u001b[0m \u001b[0mXty\u001b[0m \u001b[1;33m=\u001b[0m \u001b[0mnp\u001b[0m\u001b[1;33m.\u001b[0m\u001b[0mmatrix\u001b[0m\u001b[1;33m.\u001b[0m\u001b[0mtranspose\u001b[0m\u001b[1;33m(\u001b[0m\u001b[0mX\u001b[0m\u001b[1;33m)\u001b[0m\u001b[1;33m.\u001b[0m\u001b[0mdot\u001b[0m\u001b[1;33m(\u001b[0m\u001b[0my\u001b[0m\u001b[1;33m)\u001b[0m\u001b[1;33m\u001b[0m\u001b[1;33m\u001b[0m\u001b[0m\n\u001b[1;32m----> 3\u001b[1;33m \u001b[0mBeta\u001b[0m \u001b[1;33m=\u001b[0m  \u001b[0mnp\u001b[0m\u001b[1;33m.\u001b[0m\u001b[0mlinalg\u001b[0m\u001b[1;33m.\u001b[0m\u001b[0msolve\u001b[0m\u001b[1;33m(\u001b[0m\u001b[0mXtX\u001b[0m\u001b[1;33m,\u001b[0m \u001b[0mXty\u001b[0m\u001b[1;33m)\u001b[0m\u001b[1;33m\u001b[0m\u001b[1;33m\u001b[0m\u001b[0m\n\u001b[0m\u001b[0;32m      4\u001b[0m \u001b[1;33m\u001b[0m\u001b[0m\n\u001b[0;32m      5\u001b[0m \u001b[1;33m\u001b[0m\u001b[0m\n",
      "\u001b[1;32m<__array_function__ internals>\u001b[0m in \u001b[0;36msolve\u001b[1;34m(*args, **kwargs)\u001b[0m\n",
      "\u001b[1;32m~\\anaconda3\\lib\\site-packages\\numpy\\linalg\\linalg.py\u001b[0m in \u001b[0;36msolve\u001b[1;34m(a, b)\u001b[0m\n\u001b[0;32m    391\u001b[0m     \u001b[0msignature\u001b[0m \u001b[1;33m=\u001b[0m \u001b[1;34m'DD->D'\u001b[0m \u001b[1;32mif\u001b[0m \u001b[0misComplexType\u001b[0m\u001b[1;33m(\u001b[0m\u001b[0mt\u001b[0m\u001b[1;33m)\u001b[0m \u001b[1;32melse\u001b[0m \u001b[1;34m'dd->d'\u001b[0m\u001b[1;33m\u001b[0m\u001b[1;33m\u001b[0m\u001b[0m\n\u001b[0;32m    392\u001b[0m     \u001b[0mextobj\u001b[0m \u001b[1;33m=\u001b[0m \u001b[0mget_linalg_error_extobj\u001b[0m\u001b[1;33m(\u001b[0m\u001b[0m_raise_linalgerror_singular\u001b[0m\u001b[1;33m)\u001b[0m\u001b[1;33m\u001b[0m\u001b[1;33m\u001b[0m\u001b[0m\n\u001b[1;32m--> 393\u001b[1;33m     \u001b[0mr\u001b[0m \u001b[1;33m=\u001b[0m \u001b[0mgufunc\u001b[0m\u001b[1;33m(\u001b[0m\u001b[0ma\u001b[0m\u001b[1;33m,\u001b[0m \u001b[0mb\u001b[0m\u001b[1;33m,\u001b[0m \u001b[0msignature\u001b[0m\u001b[1;33m=\u001b[0m\u001b[0msignature\u001b[0m\u001b[1;33m,\u001b[0m \u001b[0mextobj\u001b[0m\u001b[1;33m=\u001b[0m\u001b[0mextobj\u001b[0m\u001b[1;33m)\u001b[0m\u001b[1;33m\u001b[0m\u001b[1;33m\u001b[0m\u001b[0m\n\u001b[0m\u001b[0;32m    394\u001b[0m \u001b[1;33m\u001b[0m\u001b[0m\n\u001b[0;32m    395\u001b[0m     \u001b[1;32mreturn\u001b[0m \u001b[0mwrap\u001b[0m\u001b[1;33m(\u001b[0m\u001b[0mr\u001b[0m\u001b[1;33m.\u001b[0m\u001b[0mastype\u001b[0m\u001b[1;33m(\u001b[0m\u001b[0mresult_t\u001b[0m\u001b[1;33m,\u001b[0m \u001b[0mcopy\u001b[0m\u001b[1;33m=\u001b[0m\u001b[1;32mFalse\u001b[0m\u001b[1;33m)\u001b[0m\u001b[1;33m)\u001b[0m\u001b[1;33m\u001b[0m\u001b[1;33m\u001b[0m\u001b[0m\n",
      "\u001b[1;32m~\\anaconda3\\lib\\site-packages\\numpy\\linalg\\linalg.py\u001b[0m in \u001b[0;36m_raise_linalgerror_singular\u001b[1;34m(err, flag)\u001b[0m\n\u001b[0;32m     86\u001b[0m \u001b[1;33m\u001b[0m\u001b[0m\n\u001b[0;32m     87\u001b[0m \u001b[1;32mdef\u001b[0m \u001b[0m_raise_linalgerror_singular\u001b[0m\u001b[1;33m(\u001b[0m\u001b[0merr\u001b[0m\u001b[1;33m,\u001b[0m \u001b[0mflag\u001b[0m\u001b[1;33m)\u001b[0m\u001b[1;33m:\u001b[0m\u001b[1;33m\u001b[0m\u001b[1;33m\u001b[0m\u001b[0m\n\u001b[1;32m---> 88\u001b[1;33m     \u001b[1;32mraise\u001b[0m \u001b[0mLinAlgError\u001b[0m\u001b[1;33m(\u001b[0m\u001b[1;34m\"Singular matrix\"\u001b[0m\u001b[1;33m)\u001b[0m\u001b[1;33m\u001b[0m\u001b[1;33m\u001b[0m\u001b[0m\n\u001b[0m\u001b[0;32m     89\u001b[0m \u001b[1;33m\u001b[0m\u001b[0m\n\u001b[0;32m     90\u001b[0m \u001b[1;32mdef\u001b[0m \u001b[0m_raise_linalgerror_nonposdef\u001b[0m\u001b[1;33m(\u001b[0m\u001b[0merr\u001b[0m\u001b[1;33m,\u001b[0m \u001b[0mflag\u001b[0m\u001b[1;33m)\u001b[0m\u001b[1;33m:\u001b[0m\u001b[1;33m\u001b[0m\u001b[1;33m\u001b[0m\u001b[0m\n",
      "\u001b[1;31mLinAlgError\u001b[0m: Singular matrix"
     ]
    }
   ],
   "source": [
    "XtX = np.matrix.transpose(X).dot(X)\n",
    "Xty = np.matrix.transpose(X).dot(y)\n",
    "Beta =  np.linalg.solve(XtX, Xty)\n",
    "\n",
    "\n",
    "n = X.shape[0] # number of rows of X\n",
    "p = X.shape[1] # number of cols of X\n",
    "S = (y - X @ Beta)**2\n",
    "Sigma = np.sqrt(S.sum(axis = 0)/(n-p))\n",
    "Sigma"
   ]
  },
  {
   "cell_type": "code",
   "execution_count": null,
   "id": "82f94838",
   "metadata": {
    "scrolled": true
   },
   "outputs": [],
   "source": [
    "beta_df = pd.DataFrame(Beta)\n",
    "beta_df.head(20)\n",
    "# source: https://stackoverflow.com/questions/50529022/pandas-melt-unmelt-preserve-index"
   ]
  },
  {
   "cell_type": "code",
   "execution_count": null,
   "id": "bf82aaf2",
   "metadata": {
    "scrolled": true
   },
   "outputs": [],
   "source": [
    "beta_df2 = pd.melt(beta_df.reset_index(), id_vars=\"index\").drop(\"variable\", axis = 1)\n",
    "beta_df2.head(20)"
   ]
  },
  {
   "cell_type": "code",
   "execution_count": null,
   "id": "26a30158",
   "metadata": {
    "scrolled": true
   },
   "outputs": [],
   "source": [
    "(\n",
    "ggplot(beta_df2) \n",
    "    + geom_histogram(aes(x=\"value\"), bins = 10) \n",
    "    + facet_wrap(\"index\", scales = \"free_x\")\n",
    "    + geom_vline(xintercept = B_lu.mean(), colour = \"blue\")\n",
    "    + geom_vline(xintercept = beta_df2.value.mean(), color = \"red\")\n",
    ")"
   ]
  },
  {
   "cell_type": "code",
   "execution_count": null,
   "id": "015e0752",
   "metadata": {
    "scrolled": true
   },
   "outputs": [],
   "source": [
    "(\n",
    "ggplot() \n",
    "    + geom_histogram(aes(Sigma), bins = 15) \n",
    "    + geom_vline(xintercept = 10, color = 'blue')\n",
    "    + geom_vline(xintercept = Sigma.mean(), color = 'red')\n",
    ")"
   ]
  },
  {
   "cell_type": "code",
   "execution_count": null,
   "id": "1663d70e",
   "metadata": {},
   "outputs": [],
   "source": []
  }
 ],
 "metadata": {
  "kernelspec": {
   "display_name": "Python 3 (ipykernel)",
   "language": "python",
   "name": "python3"
  },
  "language_info": {
   "codemirror_mode": {
    "name": "ipython",
    "version": 3
   },
   "file_extension": ".py",
   "mimetype": "text/x-python",
   "name": "python",
   "nbconvert_exporter": "python",
   "pygments_lexer": "ipython3",
   "version": "3.9.7"
  }
 },
 "nbformat": 4,
 "nbformat_minor": 5
}
