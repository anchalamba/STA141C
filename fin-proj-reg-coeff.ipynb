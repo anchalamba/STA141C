{
 "cells": [
  {
   "cell_type": "code",
   "execution_count": 1,
   "id": "440e2d18",
   "metadata": {},
   "outputs": [],
   "source": [
    "import numpy as np\n",
    "import pandas as pd\n",
    "import scipy\n",
    "import math\n",
    "from math import sqrt\n",
    "from scipy.linalg import cho_factor, cho_solve"
   ]
  },
  {
   "cell_type": "markdown",
   "id": "2a38fdf3",
   "metadata": {},
   "source": [
    "## Read in Data"
   ]
  },
  {
   "cell_type": "markdown",
   "id": "43f7907e",
   "metadata": {},
   "source": [
    "**NOTE:** for now, I'm just going to use the continuous variables that describe the song (`bpm` to `spch` columns) as explanatory/predictor variables and `pop` as the response variable"
   ]
  },
  {
   "cell_type": "code",
   "execution_count": 2,
   "id": "a21fedeb",
   "metadata": {
    "scrolled": false
   },
   "outputs": [
    {
     "data": {
      "text/html": [
       "<div>\n",
       "<style scoped>\n",
       "    .dataframe tbody tr th:only-of-type {\n",
       "        vertical-align: middle;\n",
       "    }\n",
       "\n",
       "    .dataframe tbody tr th {\n",
       "        vertical-align: top;\n",
       "    }\n",
       "\n",
       "    .dataframe thead th {\n",
       "        text-align: right;\n",
       "    }\n",
       "</style>\n",
       "<table border=\"1\" class=\"dataframe\">\n",
       "  <thead>\n",
       "    <tr style=\"text-align: right;\">\n",
       "      <th></th>\n",
       "      <th>bpm</th>\n",
       "      <th>nrgy</th>\n",
       "      <th>dnce</th>\n",
       "      <th>dB</th>\n",
       "      <th>live</th>\n",
       "      <th>val</th>\n",
       "      <th>dur</th>\n",
       "      <th>acous</th>\n",
       "      <th>spch</th>\n",
       "      <th>pop</th>\n",
       "    </tr>\n",
       "  </thead>\n",
       "  <tbody>\n",
       "    <tr>\n",
       "      <th>0</th>\n",
       "      <td>140.0</td>\n",
       "      <td>81.0</td>\n",
       "      <td>61.0</td>\n",
       "      <td>-6.0</td>\n",
       "      <td>23.0</td>\n",
       "      <td>23.0</td>\n",
       "      <td>203.0</td>\n",
       "      <td>0.0</td>\n",
       "      <td>6.0</td>\n",
       "      <td>70.0</td>\n",
       "    </tr>\n",
       "    <tr>\n",
       "      <th>1</th>\n",
       "      <td>138.0</td>\n",
       "      <td>89.0</td>\n",
       "      <td>68.0</td>\n",
       "      <td>-4.0</td>\n",
       "      <td>36.0</td>\n",
       "      <td>83.0</td>\n",
       "      <td>192.0</td>\n",
       "      <td>1.0</td>\n",
       "      <td>8.0</td>\n",
       "      <td>68.0</td>\n",
       "    </tr>\n",
       "    <tr>\n",
       "      <th>2</th>\n",
       "      <td>95.0</td>\n",
       "      <td>48.0</td>\n",
       "      <td>84.0</td>\n",
       "      <td>-7.0</td>\n",
       "      <td>9.0</td>\n",
       "      <td>96.0</td>\n",
       "      <td>243.0</td>\n",
       "      <td>20.0</td>\n",
       "      <td>3.0</td>\n",
       "      <td>72.0</td>\n",
       "    </tr>\n",
       "    <tr>\n",
       "      <th>3</th>\n",
       "      <td>93.0</td>\n",
       "      <td>87.0</td>\n",
       "      <td>66.0</td>\n",
       "      <td>-4.0</td>\n",
       "      <td>4.0</td>\n",
       "      <td>38.0</td>\n",
       "      <td>180.0</td>\n",
       "      <td>11.0</td>\n",
       "      <td>12.0</td>\n",
       "      <td>80.0</td>\n",
       "    </tr>\n",
       "    <tr>\n",
       "      <th>4</th>\n",
       "      <td>104.0</td>\n",
       "      <td>85.0</td>\n",
       "      <td>69.0</td>\n",
       "      <td>-6.0</td>\n",
       "      <td>9.0</td>\n",
       "      <td>74.0</td>\n",
       "      <td>268.0</td>\n",
       "      <td>39.0</td>\n",
       "      <td>5.0</td>\n",
       "      <td>79.0</td>\n",
       "    </tr>\n",
       "    <tr>\n",
       "      <th>5</th>\n",
       "      <td>82.0</td>\n",
       "      <td>93.0</td>\n",
       "      <td>55.0</td>\n",
       "      <td>-4.0</td>\n",
       "      <td>35.0</td>\n",
       "      <td>79.0</td>\n",
       "      <td>196.0</td>\n",
       "      <td>1.0</td>\n",
       "      <td>34.0</td>\n",
       "      <td>71.0</td>\n",
       "    </tr>\n",
       "    <tr>\n",
       "      <th>6</th>\n",
       "      <td>128.0</td>\n",
       "      <td>81.0</td>\n",
       "      <td>82.0</td>\n",
       "      <td>-8.0</td>\n",
       "      <td>60.0</td>\n",
       "      <td>44.0</td>\n",
       "      <td>308.0</td>\n",
       "      <td>7.0</td>\n",
       "      <td>7.0</td>\n",
       "      <td>75.0</td>\n",
       "    </tr>\n",
       "    <tr>\n",
       "      <th>7</th>\n",
       "      <td>92.0</td>\n",
       "      <td>52.0</td>\n",
       "      <td>60.0</td>\n",
       "      <td>-7.0</td>\n",
       "      <td>31.0</td>\n",
       "      <td>41.0</td>\n",
       "      <td>258.0</td>\n",
       "      <td>18.0</td>\n",
       "      <td>37.0</td>\n",
       "      <td>71.0</td>\n",
       "    </tr>\n",
       "    <tr>\n",
       "      <th>8</th>\n",
       "      <td>146.0</td>\n",
       "      <td>59.0</td>\n",
       "      <td>50.0</td>\n",
       "      <td>-5.0</td>\n",
       "      <td>11.0</td>\n",
       "      <td>8.0</td>\n",
       "      <td>218.0</td>\n",
       "      <td>51.0</td>\n",
       "      <td>3.0</td>\n",
       "      <td>87.0</td>\n",
       "    </tr>\n",
       "    <tr>\n",
       "      <th>9</th>\n",
       "      <td>109.0</td>\n",
       "      <td>84.0</td>\n",
       "      <td>64.0</td>\n",
       "      <td>-5.0</td>\n",
       "      <td>6.0</td>\n",
       "      <td>42.0</td>\n",
       "      <td>221.0</td>\n",
       "      <td>1.0</td>\n",
       "      <td>4.0</td>\n",
       "      <td>86.0</td>\n",
       "    </tr>\n",
       "  </tbody>\n",
       "</table>\n",
       "</div>"
      ],
      "text/plain": [
       "     bpm  nrgy  dnce   dB  live   val    dur  acous  spch   pop\n",
       "0  140.0  81.0  61.0 -6.0  23.0  23.0  203.0    0.0   6.0  70.0\n",
       "1  138.0  89.0  68.0 -4.0  36.0  83.0  192.0    1.0   8.0  68.0\n",
       "2   95.0  48.0  84.0 -7.0   9.0  96.0  243.0   20.0   3.0  72.0\n",
       "3   93.0  87.0  66.0 -4.0   4.0  38.0  180.0   11.0  12.0  80.0\n",
       "4  104.0  85.0  69.0 -6.0   9.0  74.0  268.0   39.0   5.0  79.0\n",
       "5   82.0  93.0  55.0 -4.0  35.0  79.0  196.0    1.0  34.0  71.0\n",
       "6  128.0  81.0  82.0 -8.0  60.0  44.0  308.0    7.0   7.0  75.0\n",
       "7   92.0  52.0  60.0 -7.0  31.0  41.0  258.0   18.0  37.0  71.0\n",
       "8  146.0  59.0  50.0 -5.0  11.0   8.0  218.0   51.0   3.0  87.0\n",
       "9  109.0  84.0  64.0 -5.0   6.0  42.0  221.0    1.0   4.0  86.0"
      ]
     },
     "execution_count": 2,
     "metadata": {},
     "output_type": "execute_result"
    }
   ],
   "source": [
    "data = pd.read_csv(\"./data/SpotifyData.csv\")\n",
    "df = pd.DataFrame(data)\n",
    "A = df.iloc[:-3, 5:15] # last 3 rows are all NAs; want bpm to pop columns\n",
    "A.head(10)"
   ]
  },
  {
   "cell_type": "markdown",
   "id": "76ab4d7b",
   "metadata": {},
   "source": [
    "## Finding Regression Coefficients and their Standard Errors"
   ]
  },
  {
   "cell_type": "markdown",
   "id": "458b393c",
   "metadata": {},
   "source": [
    "### LU Decomposition"
   ]
  },
  {
   "cell_type": "code",
   "execution_count": 3,
   "id": "21bb9761",
   "metadata": {
    "scrolled": true
   },
   "outputs": [
    {
     "data": {
      "text/plain": [
       "array([ 0.08241961,  0.2386197 ,  0.28474722, -2.05055135, -0.0174965 ,\n",
       "        0.02652841,  0.06685668,  0.1151192 , -0.01879867])"
      ]
     },
     "execution_count": 3,
     "metadata": {},
     "output_type": "execute_result"
    }
   ],
   "source": [
    "X = np.array(A.drop(columns=[\"pop\"])) # all columns but pop\n",
    "y = np.array(A[\"pop\"]) # pop is response var\n",
    "\n",
    "XtX = np.matrix.transpose(X).dot(X)\n",
    "Xty = np.matrix.transpose(X).dot(y)\n",
    "\n",
    "B_lu = np.linalg.solve(XtX, Xty)\n",
    "B_lu"
   ]
  },
  {
   "cell_type": "markdown",
   "id": "d7a9fc19",
   "metadata": {},
   "source": [
    "For the standard errors, we will first find an estimate of the variance using the formula $\\hat{\\sigma}^2 = (Y - X\\hat{\\beta})'(Y - X\\hat{\\beta})/(n-p)$:"
   ]
  },
  {
   "cell_type": "code",
   "execution_count": 4,
   "id": "70ef5582",
   "metadata": {},
   "outputs": [
    {
     "data": {
      "text/plain": [
       "103.03890911525502"
      ]
     },
     "execution_count": 4,
     "metadata": {},
     "output_type": "execute_result"
    }
   ],
   "source": [
    "S = y - X.dot(B_lu)\n",
    "n = X.shape[0] # number of rows of X\n",
    "p = X.shape[1] # number of rows of X\n",
    "\n",
    "sigma2_hat = np.matrix.transpose(S).dot(S) / (n-p)\n",
    "sigma2_hat"
   ]
  },
  {
   "cell_type": "markdown",
   "id": "eec79001",
   "metadata": {},
   "source": [
    "Next we implement the formula $SE[\\hat{\\beta}] = \\sqrt{\\sigma^2 diag((X^TX)^{-1})}$ using `np.linalg.solve()` to find the inverse of $X^TX$:"
   ]
  },
  {
   "cell_type": "code",
   "execution_count": 5,
   "id": "2a87105c",
   "metadata": {},
   "outputs": [
    {
     "data": {
      "text/plain": [
       "array([0.01172805, 0.02408706, 0.02283366, 0.19040556, 0.02441092,\n",
       "       0.0173109 , 0.00742862, 0.01860036, 0.03621751])"
      ]
     },
     "execution_count": 5,
     "metadata": {},
     "output_type": "execute_result"
    }
   ],
   "source": [
    "a = sigma2_hat * np.diag(np.linalg.inv(XtX))\n",
    "np.sqrt(a)"
   ]
  },
  {
   "cell_type": "markdown",
   "id": "6385201b",
   "metadata": {},
   "source": [
    "### Cholesky Decomposition"
   ]
  },
  {
   "cell_type": "code",
   "execution_count": 6,
   "id": "0f1c7d7c",
   "metadata": {},
   "outputs": [
    {
     "data": {
      "text/plain": [
       "array([ 0.08241961,  0.2386197 ,  0.28474722, -2.05055135, -0.0174965 ,\n",
       "        0.02652841,  0.06685668,  0.1151192 , -0.01879867])"
      ]
     },
     "execution_count": 6,
     "metadata": {},
     "output_type": "execute_result"
    }
   ],
   "source": [
    "# using cho_factor() to obtain the lower-triangular Cholesky decomposition for X'X; equates to LL'\n",
    "L, Lt = cho_factor(XtX, lower = True)\n",
    "\n",
    "B_chol = cho_solve((L, Lt), Xty)\n",
    "B_chol"
   ]
  },
  {
   "cell_type": "markdown",
   "id": "c993ab66",
   "metadata": {},
   "source": [
    "We will then find the estimate of the variance for the standard errors. "
   ]
  },
  {
   "cell_type": "code",
   "execution_count": 7,
   "id": "6bb11e0f",
   "metadata": {
    "scrolled": true
   },
   "outputs": [
    {
     "data": {
      "text/plain": [
       "103.03890911525508"
      ]
     },
     "execution_count": 7,
     "metadata": {},
     "output_type": "execute_result"
    }
   ],
   "source": [
    "aug_mat = np.array(A)\n",
    "AtA = np.matrix.transpose(aug_mat).dot(aug_mat) # to ensure square matrix\n",
    "\n",
    "L, Lt = cho_factor(AtA, lower = True)\n",
    "\n",
    "d = L[L.shape[0]-1, L.shape[1]-1] # d is bottom right element of the lower triangular matrix\n",
    "\n",
    "n = X.shape[0] # number of rows of X\n",
    "p = X.shape[1] # number of cols of X\n",
    "\n",
    "sigma2_hat = d**2/(n - p)\n",
    "sigma2_hat"
   ]
  },
  {
   "cell_type": "code",
   "execution_count": 8,
   "id": "7df82b0e",
   "metadata": {},
   "outputs": [
    {
     "data": {
      "text/plain": [
       "array([0.01172805, 0.02408706, 0.02283366, 0.19040556, 0.02441092,\n",
       "       0.0173109 , 0.00742862, 0.01860036, 0.03621751])"
      ]
     },
     "execution_count": 8,
     "metadata": {},
     "output_type": "execute_result"
    }
   ],
   "source": [
    "L = np.linalg.cholesky(XtX)\n",
    "a = sigma2_hat * np.diag(scipy.linalg.inv(L @ L.transpose()))\n",
    "np.sqrt(a)"
   ]
  }
 ],
 "metadata": {
  "kernelspec": {
   "display_name": "Python 3 (ipykernel)",
   "language": "python",
   "name": "python3"
  },
  "language_info": {
   "codemirror_mode": {
    "name": "ipython",
    "version": 3
   },
   "file_extension": ".py",
   "mimetype": "text/x-python",
   "name": "python",
   "nbconvert_exporter": "python",
   "pygments_lexer": "ipython3",
   "version": "3.9.7"
  }
 },
 "nbformat": 4,
 "nbformat_minor": 5
}
