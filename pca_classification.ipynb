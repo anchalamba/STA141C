{
 "cells": [
  {
   "cell_type": "markdown",
   "id": "d3c7156f",
   "metadata": {},
   "source": [
    "## Principal Component Analysis"
   ]
  },
  {
   "cell_type": "code",
   "execution_count": 1,
   "id": "63e1be9a",
   "metadata": {},
   "outputs": [],
   "source": [
    "import pandas as pd\n",
    "import numpy as np\n",
    "import matplotlib.pyplot as plt\n",
    "import seaborn as sns # for heatmap\n",
    "import plotly.express as px\n",
    "import plotly.graph_objects as go\n",
    "from sklearn.decomposition import PCA"
   ]
  },
  {
   "cell_type": "markdown",
   "id": "ad43afda",
   "metadata": {},
   "source": [
    "As you may recall from lecture, PCA is a specific application of the singular value decomposition (SVD) for matrices. If we have a data matrix $X$, we can decompose it into $U$, $\\Sigma$ and $V^T$ such that $X = U \\Sigma V^T$."
   ]
  },
  {
   "cell_type": "code",
   "execution_count": 2,
   "id": "af063d46",
   "metadata": {},
   "outputs": [
    {
     "data": {
      "text/html": [
       "<div>\n",
       "<style scoped>\n",
       "    .dataframe tbody tr th:only-of-type {\n",
       "        vertical-align: middle;\n",
       "    }\n",
       "\n",
       "    .dataframe tbody tr th {\n",
       "        vertical-align: top;\n",
       "    }\n",
       "\n",
       "    .dataframe thead th {\n",
       "        text-align: right;\n",
       "    }\n",
       "</style>\n",
       "<table border=\"1\" class=\"dataframe\">\n",
       "  <thead>\n",
       "    <tr style=\"text-align: right;\">\n",
       "      <th></th>\n",
       "      <th>title</th>\n",
       "      <th>artist</th>\n",
       "      <th>top genre</th>\n",
       "      <th>year released</th>\n",
       "      <th>added</th>\n",
       "      <th>bpm</th>\n",
       "      <th>nrgy</th>\n",
       "      <th>dnce</th>\n",
       "      <th>dB</th>\n",
       "      <th>live</th>\n",
       "      <th>val</th>\n",
       "      <th>dur</th>\n",
       "      <th>acous</th>\n",
       "      <th>spch</th>\n",
       "      <th>pop</th>\n",
       "      <th>top year</th>\n",
       "      <th>artist type</th>\n",
       "      <th>top genre new</th>\n",
       "    </tr>\n",
       "  </thead>\n",
       "  <tbody>\n",
       "    <tr>\n",
       "      <th>0</th>\n",
       "      <td>STARSTRUKK (feat. Katy Perry)</td>\n",
       "      <td>3OH!3</td>\n",
       "      <td>dance pop</td>\n",
       "      <td>2009.0</td>\n",
       "      <td>2022‑02‑17</td>\n",
       "      <td>140.0</td>\n",
       "      <td>81.0</td>\n",
       "      <td>61.0</td>\n",
       "      <td>-6.0</td>\n",
       "      <td>23.0</td>\n",
       "      <td>23.0</td>\n",
       "      <td>203.0</td>\n",
       "      <td>0.0</td>\n",
       "      <td>6.0</td>\n",
       "      <td>70.0</td>\n",
       "      <td>2010.0</td>\n",
       "      <td>Duo</td>\n",
       "      <td>dance pop</td>\n",
       "    </tr>\n",
       "    <tr>\n",
       "      <th>1</th>\n",
       "      <td>My First Kiss (feat. Ke$ha)</td>\n",
       "      <td>3OH!3</td>\n",
       "      <td>dance pop</td>\n",
       "      <td>2010.0</td>\n",
       "      <td>2022‑02‑17</td>\n",
       "      <td>138.0</td>\n",
       "      <td>89.0</td>\n",
       "      <td>68.0</td>\n",
       "      <td>-4.0</td>\n",
       "      <td>36.0</td>\n",
       "      <td>83.0</td>\n",
       "      <td>192.0</td>\n",
       "      <td>1.0</td>\n",
       "      <td>8.0</td>\n",
       "      <td>68.0</td>\n",
       "      <td>2010.0</td>\n",
       "      <td>Duo</td>\n",
       "      <td>dance pop</td>\n",
       "    </tr>\n",
       "    <tr>\n",
       "      <th>2</th>\n",
       "      <td>I Need A Dollar</td>\n",
       "      <td>Aloe Blacc</td>\n",
       "      <td>pop soul</td>\n",
       "      <td>2010.0</td>\n",
       "      <td>2022‑02‑17</td>\n",
       "      <td>95.0</td>\n",
       "      <td>48.0</td>\n",
       "      <td>84.0</td>\n",
       "      <td>-7.0</td>\n",
       "      <td>9.0</td>\n",
       "      <td>96.0</td>\n",
       "      <td>243.0</td>\n",
       "      <td>20.0</td>\n",
       "      <td>3.0</td>\n",
       "      <td>72.0</td>\n",
       "      <td>2010.0</td>\n",
       "      <td>Solo</td>\n",
       "      <td>pop</td>\n",
       "    </tr>\n",
       "    <tr>\n",
       "      <th>3</th>\n",
       "      <td>Airplanes (feat. Hayley Williams of Paramore)</td>\n",
       "      <td>B.o.B</td>\n",
       "      <td>atl hip hop</td>\n",
       "      <td>2010.0</td>\n",
       "      <td>2022‑02‑17</td>\n",
       "      <td>93.0</td>\n",
       "      <td>87.0</td>\n",
       "      <td>66.0</td>\n",
       "      <td>-4.0</td>\n",
       "      <td>4.0</td>\n",
       "      <td>38.0</td>\n",
       "      <td>180.0</td>\n",
       "      <td>11.0</td>\n",
       "      <td>12.0</td>\n",
       "      <td>80.0</td>\n",
       "      <td>2010.0</td>\n",
       "      <td>Solo</td>\n",
       "      <td>hip hop</td>\n",
       "    </tr>\n",
       "    <tr>\n",
       "      <th>4</th>\n",
       "      <td>Nothin' on You (feat. Bruno Mars)</td>\n",
       "      <td>B.o.B</td>\n",
       "      <td>atl hip hop</td>\n",
       "      <td>2010.0</td>\n",
       "      <td>2022‑02‑17</td>\n",
       "      <td>104.0</td>\n",
       "      <td>85.0</td>\n",
       "      <td>69.0</td>\n",
       "      <td>-6.0</td>\n",
       "      <td>9.0</td>\n",
       "      <td>74.0</td>\n",
       "      <td>268.0</td>\n",
       "      <td>39.0</td>\n",
       "      <td>5.0</td>\n",
       "      <td>79.0</td>\n",
       "      <td>2010.0</td>\n",
       "      <td>Solo</td>\n",
       "      <td>hip hop</td>\n",
       "    </tr>\n",
       "  </tbody>\n",
       "</table>\n",
       "</div>"
      ],
      "text/plain": [
       "                                           title      artist    top genre  \\\n",
       "0                  STARSTRUKK (feat. Katy Perry)       3OH!3    dance pop   \n",
       "1                    My First Kiss (feat. Ke$ha)       3OH!3    dance pop   \n",
       "2                                I Need A Dollar  Aloe Blacc     pop soul   \n",
       "3  Airplanes (feat. Hayley Williams of Paramore)       B.o.B  atl hip hop   \n",
       "4              Nothin' on You (feat. Bruno Mars)       B.o.B  atl hip hop   \n",
       "\n",
       "   year released       added    bpm  nrgy  dnce   dB  live   val    dur  \\\n",
       "0         2009.0  2022‑02‑17  140.0  81.0  61.0 -6.0  23.0  23.0  203.0   \n",
       "1         2010.0  2022‑02‑17  138.0  89.0  68.0 -4.0  36.0  83.0  192.0   \n",
       "2         2010.0  2022‑02‑17   95.0  48.0  84.0 -7.0   9.0  96.0  243.0   \n",
       "3         2010.0  2022‑02‑17   93.0  87.0  66.0 -4.0   4.0  38.0  180.0   \n",
       "4         2010.0  2022‑02‑17  104.0  85.0  69.0 -6.0   9.0  74.0  268.0   \n",
       "\n",
       "   acous  spch   pop  top year artist type top genre new  \n",
       "0    0.0   6.0  70.0    2010.0         Duo     dance pop  \n",
       "1    1.0   8.0  68.0    2010.0         Duo     dance pop  \n",
       "2   20.0   3.0  72.0    2010.0        Solo           pop  \n",
       "3   11.0  12.0  80.0    2010.0        Solo       hip hop  \n",
       "4   39.0   5.0  79.0    2010.0        Solo       hip hop  "
      ]
     },
     "execution_count": 2,
     "metadata": {},
     "output_type": "execute_result"
    }
   ],
   "source": [
    "#read the data\n",
    "data = pd.read_csv(\"https://raw.githubusercontent.com/anchalamba/STA141C/main/data/SpotifyData_cleaned.csv\")\n",
    "df = pd.DataFrame(data)\n",
    "df.head()"
   ]
  },
  {
   "cell_type": "markdown",
   "id": "dc141c88",
   "metadata": {},
   "source": [
    "### Most common top genres in our dataset"
   ]
  },
  {
   "cell_type": "code",
   "execution_count": 3,
   "id": "d45c6b83",
   "metadata": {},
   "outputs": [
    {
     "data": {
      "text/plain": [
       "dance pop    361\n",
       "pop          199\n",
       "hip hop      126\n",
       "other        108\n",
       "rap           62\n",
       "rock          39\n",
       "boy band      21\n",
       "edm           17\n",
       "r&b           16\n",
       "dance         15\n",
       "country       14\n",
       "house         11\n",
       "indie         11\n",
       "Name: top genre new, dtype: int64"
      ]
     },
     "execution_count": 3,
     "metadata": {},
     "output_type": "execute_result"
    }
   ],
   "source": [
    "df[\"top genre new\"].value_counts()"
   ]
  },
  {
   "cell_type": "code",
   "execution_count": 4,
   "id": "e5b4cb85",
   "metadata": {},
   "outputs": [
    {
     "data": {
      "text/html": [
       "<div>\n",
       "<style scoped>\n",
       "    .dataframe tbody tr th:only-of-type {\n",
       "        vertical-align: middle;\n",
       "    }\n",
       "\n",
       "    .dataframe tbody tr th {\n",
       "        vertical-align: top;\n",
       "    }\n",
       "\n",
       "    .dataframe thead th {\n",
       "        text-align: right;\n",
       "    }\n",
       "</style>\n",
       "<table border=\"1\" class=\"dataframe\">\n",
       "  <thead>\n",
       "    <tr style=\"text-align: right;\">\n",
       "      <th></th>\n",
       "      <th>index</th>\n",
       "      <th>title</th>\n",
       "      <th>artist</th>\n",
       "      <th>top genre</th>\n",
       "      <th>year released</th>\n",
       "      <th>added</th>\n",
       "      <th>bpm</th>\n",
       "      <th>nrgy</th>\n",
       "      <th>dnce</th>\n",
       "      <th>dB</th>\n",
       "      <th>live</th>\n",
       "      <th>val</th>\n",
       "      <th>dur</th>\n",
       "      <th>acous</th>\n",
       "      <th>spch</th>\n",
       "      <th>pop</th>\n",
       "      <th>top year</th>\n",
       "      <th>artist type</th>\n",
       "      <th>top genre new</th>\n",
       "    </tr>\n",
       "  </thead>\n",
       "  <tbody>\n",
       "    <tr>\n",
       "      <th>0</th>\n",
       "      <td>0</td>\n",
       "      <td>STARSTRUKK (feat. Katy Perry)</td>\n",
       "      <td>3OH!3</td>\n",
       "      <td>dance pop</td>\n",
       "      <td>2009.0</td>\n",
       "      <td>2022‑02‑17</td>\n",
       "      <td>140.0</td>\n",
       "      <td>81.0</td>\n",
       "      <td>61.0</td>\n",
       "      <td>-6.0</td>\n",
       "      <td>23.0</td>\n",
       "      <td>23.0</td>\n",
       "      <td>203.0</td>\n",
       "      <td>0.0</td>\n",
       "      <td>6.0</td>\n",
       "      <td>70.0</td>\n",
       "      <td>2010.0</td>\n",
       "      <td>Duo</td>\n",
       "      <td>dance pop</td>\n",
       "    </tr>\n",
       "    <tr>\n",
       "      <th>1</th>\n",
       "      <td>1</td>\n",
       "      <td>My First Kiss (feat. Ke$ha)</td>\n",
       "      <td>3OH!3</td>\n",
       "      <td>dance pop</td>\n",
       "      <td>2010.0</td>\n",
       "      <td>2022‑02‑17</td>\n",
       "      <td>138.0</td>\n",
       "      <td>89.0</td>\n",
       "      <td>68.0</td>\n",
       "      <td>-4.0</td>\n",
       "      <td>36.0</td>\n",
       "      <td>83.0</td>\n",
       "      <td>192.0</td>\n",
       "      <td>1.0</td>\n",
       "      <td>8.0</td>\n",
       "      <td>68.0</td>\n",
       "      <td>2010.0</td>\n",
       "      <td>Duo</td>\n",
       "      <td>dance pop</td>\n",
       "    </tr>\n",
       "    <tr>\n",
       "      <th>2</th>\n",
       "      <td>3</td>\n",
       "      <td>Airplanes (feat. Hayley Williams of Paramore)</td>\n",
       "      <td>B.o.B</td>\n",
       "      <td>atl hip hop</td>\n",
       "      <td>2010.0</td>\n",
       "      <td>2022‑02‑17</td>\n",
       "      <td>93.0</td>\n",
       "      <td>87.0</td>\n",
       "      <td>66.0</td>\n",
       "      <td>-4.0</td>\n",
       "      <td>4.0</td>\n",
       "      <td>38.0</td>\n",
       "      <td>180.0</td>\n",
       "      <td>11.0</td>\n",
       "      <td>12.0</td>\n",
       "      <td>80.0</td>\n",
       "      <td>2010.0</td>\n",
       "      <td>Solo</td>\n",
       "      <td>hip hop</td>\n",
       "    </tr>\n",
       "    <tr>\n",
       "      <th>3</th>\n",
       "      <td>4</td>\n",
       "      <td>Nothin' on You (feat. Bruno Mars)</td>\n",
       "      <td>B.o.B</td>\n",
       "      <td>atl hip hop</td>\n",
       "      <td>2010.0</td>\n",
       "      <td>2022‑02‑17</td>\n",
       "      <td>104.0</td>\n",
       "      <td>85.0</td>\n",
       "      <td>69.0</td>\n",
       "      <td>-6.0</td>\n",
       "      <td>9.0</td>\n",
       "      <td>74.0</td>\n",
       "      <td>268.0</td>\n",
       "      <td>39.0</td>\n",
       "      <td>5.0</td>\n",
       "      <td>79.0</td>\n",
       "      <td>2010.0</td>\n",
       "      <td>Solo</td>\n",
       "      <td>hip hop</td>\n",
       "    </tr>\n",
       "    <tr>\n",
       "      <th>4</th>\n",
       "      <td>5</td>\n",
       "      <td>Magic (feat. Rivers Cuomo)</td>\n",
       "      <td>B.o.B</td>\n",
       "      <td>atl hip hop</td>\n",
       "      <td>2010.0</td>\n",
       "      <td>2022‑02‑17</td>\n",
       "      <td>82.0</td>\n",
       "      <td>93.0</td>\n",
       "      <td>55.0</td>\n",
       "      <td>-4.0</td>\n",
       "      <td>35.0</td>\n",
       "      <td>79.0</td>\n",
       "      <td>196.0</td>\n",
       "      <td>1.0</td>\n",
       "      <td>34.0</td>\n",
       "      <td>71.0</td>\n",
       "      <td>2010.0</td>\n",
       "      <td>Solo</td>\n",
       "      <td>hip hop</td>\n",
       "    </tr>\n",
       "  </tbody>\n",
       "</table>\n",
       "</div>"
      ],
      "text/plain": [
       "   index                                          title artist    top genre  \\\n",
       "0      0                  STARSTRUKK (feat. Katy Perry)  3OH!3    dance pop   \n",
       "1      1                    My First Kiss (feat. Ke$ha)  3OH!3    dance pop   \n",
       "2      3  Airplanes (feat. Hayley Williams of Paramore)  B.o.B  atl hip hop   \n",
       "3      4              Nothin' on You (feat. Bruno Mars)  B.o.B  atl hip hop   \n",
       "4      5                     Magic (feat. Rivers Cuomo)  B.o.B  atl hip hop   \n",
       "\n",
       "   year released       added    bpm  nrgy  dnce   dB  live   val    dur  \\\n",
       "0         2009.0  2022‑02‑17  140.0  81.0  61.0 -6.0  23.0  23.0  203.0   \n",
       "1         2010.0  2022‑02‑17  138.0  89.0  68.0 -4.0  36.0  83.0  192.0   \n",
       "2         2010.0  2022‑02‑17   93.0  87.0  66.0 -4.0   4.0  38.0  180.0   \n",
       "3         2010.0  2022‑02‑17  104.0  85.0  69.0 -6.0   9.0  74.0  268.0   \n",
       "4         2010.0  2022‑02‑17   82.0  93.0  55.0 -4.0  35.0  79.0  196.0   \n",
       "\n",
       "   acous  spch   pop  top year artist type top genre new  \n",
       "0    0.0   6.0  70.0    2010.0         Duo     dance pop  \n",
       "1    1.0   8.0  68.0    2010.0         Duo     dance pop  \n",
       "2   11.0  12.0  80.0    2010.0        Solo       hip hop  \n",
       "3   39.0   5.0  79.0    2010.0        Solo       hip hop  \n",
       "4    1.0  34.0  71.0    2010.0        Solo       hip hop  "
      ]
     },
     "execution_count": 4,
     "metadata": {},
     "output_type": "execute_result"
    }
   ],
   "source": [
    "ndf = df.loc[df['top genre new'].isin(['dance pop','hip hop', 'rap'])].reset_index()\n",
    "ndf.head()"
   ]
  },
  {
   "cell_type": "markdown",
   "id": "9039fe3e",
   "metadata": {},
   "source": [
    "Using PCA method, we wanted to see if we were able to effectively classify genre of songs based on its features by reducing the dimensionality of the dataset. To do so, we considered 9 numerical variables (\"bpm\", \"nrgy\", \"dnce\", \"dB\", \"live\", \"val\", \"dur\", \"acous\", \"spch\"). And we decided to focus on three genres (“dance pop”, ”hip hop”, “rap”)."
   ]
  },
  {
   "cell_type": "markdown",
   "id": "80bdaafd",
   "metadata": {},
   "source": [
    "This is because when we cleaned up our dataset, we merged all types of pop genres into one pop genre except the dance pop. Therefore, we thought that including pop in our model would not be the most effective way to classify genres as all features would have been mixed. After merging some genres, we had total 13 types of genres to classify, but because our dataset has less data on the rest of genres we selected (such as having 17 edm songs out of total 1000), we figured out that we would not have enough information to classify less-trending genres and not fair to classify them."
   ]
  },
  {
   "cell_type": "markdown",
   "id": "1723c9e9",
   "metadata": {},
   "source": [
    "### Standardize Data"
   ]
  },
  {
   "cell_type": "markdown",
   "id": "90df2211",
   "metadata": {},
   "source": [
    "https://towardsdatascience.com/pca-using-python-scikit-learn-e653f8989e60"
   ]
  },
  {
   "cell_type": "markdown",
   "id": "5ea6b934",
   "metadata": {},
   "source": [
    "After reducing the data, we run our PCA on 487 rows and standardize our numerical variables onto unit scale, as mean = 0 and variance = 1 as PCA is effected by scale. "
   ]
  },
  {
   "cell_type": "code",
   "execution_count": 5,
   "id": "82e3dd94",
   "metadata": {},
   "outputs": [],
   "source": [
    "from sklearn.preprocessing import StandardScaler\n",
    "features = [\"bpm\", \"nrgy\", \"dnce\", \"dB\", \"live\", \"val\", \"dur\", \"acous\", \"spch\"]\n",
    "# Separating out the features\n",
    "x = ndf.loc[:, features].values\n",
    "# Standardizing the features\n",
    "x = StandardScaler().fit_transform(x)"
   ]
  },
  {
   "cell_type": "markdown",
   "id": "82f1775f",
   "metadata": {},
   "source": [
    "### Looking at 2 Principal Components "
   ]
  },
  {
   "cell_type": "code",
   "execution_count": 6,
   "id": "e9ed6ec4",
   "metadata": {},
   "outputs": [],
   "source": [
    "from sklearn.decomposition import PCA\n",
    "\n",
    "#PCA, assign number of components, reduce dimension from 9 to 2\n",
    "pca = PCA(n_components=2)\n",
    "\n",
    "principalComponents = pca.fit_transform(x)\n",
    "principalDf = pd.DataFrame(data = principalComponents,\n",
    "                           columns = ['principal component 1', 'principal component 2'])"
   ]
  },
  {
   "cell_type": "markdown",
   "id": "d55095b7",
   "metadata": {},
   "source": [
    "Using built-in PCA package in sklearn, we make a dataframe with the first and the second principal component "
   ]
  },
  {
   "cell_type": "code",
   "execution_count": 7,
   "id": "14ec29bc",
   "metadata": {},
   "outputs": [
    {
     "data": {
      "text/html": [
       "<div>\n",
       "<style scoped>\n",
       "    .dataframe tbody tr th:only-of-type {\n",
       "        vertical-align: middle;\n",
       "    }\n",
       "\n",
       "    .dataframe tbody tr th {\n",
       "        vertical-align: top;\n",
       "    }\n",
       "\n",
       "    .dataframe thead th {\n",
       "        text-align: right;\n",
       "    }\n",
       "</style>\n",
       "<table border=\"1\" class=\"dataframe\">\n",
       "  <thead>\n",
       "    <tr style=\"text-align: right;\">\n",
       "      <th></th>\n",
       "      <th>principal component 1</th>\n",
       "      <th>principal component 2</th>\n",
       "      <th>top genre new</th>\n",
       "    </tr>\n",
       "  </thead>\n",
       "  <tbody>\n",
       "    <tr>\n",
       "      <th>0</th>\n",
       "      <td>-0.401765</td>\n",
       "      <td>1.039107</td>\n",
       "      <td>dance pop</td>\n",
       "    </tr>\n",
       "    <tr>\n",
       "      <th>1</th>\n",
       "      <td>-2.384419</td>\n",
       "      <td>-0.531850</td>\n",
       "      <td>dance pop</td>\n",
       "    </tr>\n",
       "    <tr>\n",
       "      <th>2</th>\n",
       "      <td>-0.756579</td>\n",
       "      <td>-0.119886</td>\n",
       "      <td>hip hop</td>\n",
       "    </tr>\n",
       "    <tr>\n",
       "      <th>3</th>\n",
       "      <td>-0.095904</td>\n",
       "      <td>0.424462</td>\n",
       "      <td>hip hop</td>\n",
       "    </tr>\n",
       "    <tr>\n",
       "      <th>4</th>\n",
       "      <td>-1.960604</td>\n",
       "      <td>-0.443770</td>\n",
       "      <td>hip hop</td>\n",
       "    </tr>\n",
       "  </tbody>\n",
       "</table>\n",
       "</div>"
      ],
      "text/plain": [
       "   principal component 1  principal component 2 top genre new\n",
       "0              -0.401765               1.039107     dance pop\n",
       "1              -2.384419              -0.531850     dance pop\n",
       "2              -0.756579              -0.119886       hip hop\n",
       "3              -0.095904               0.424462       hip hop\n",
       "4              -1.960604              -0.443770       hip hop"
      ]
     },
     "execution_count": 7,
     "metadata": {},
     "output_type": "execute_result"
    }
   ],
   "source": [
    "#merge the PC dataframe with the target variable\n",
    "fin_df = pd.concat([principalDf, ndf[[\"top genre new\"]]], axis = 1)\n",
    "fin_df.head()"
   ]
  },
  {
   "cell_type": "markdown",
   "id": "edbe5b0c",
   "metadata": {},
   "source": [
    "### Creating Loadings matrix"
   ]
  },
  {
   "cell_type": "code",
   "execution_count": 8,
   "id": "5400fd92",
   "metadata": {},
   "outputs": [
    {
     "data": {
      "text/html": [
       "<div>\n",
       "<style scoped>\n",
       "    .dataframe tbody tr th:only-of-type {\n",
       "        vertical-align: middle;\n",
       "    }\n",
       "\n",
       "    .dataframe tbody tr th {\n",
       "        vertical-align: top;\n",
       "    }\n",
       "\n",
       "    .dataframe thead th {\n",
       "        text-align: right;\n",
       "    }\n",
       "</style>\n",
       "<table border=\"1\" class=\"dataframe\">\n",
       "  <thead>\n",
       "    <tr style=\"text-align: right;\">\n",
       "      <th></th>\n",
       "      <th>pc1</th>\n",
       "      <th>pc2</th>\n",
       "    </tr>\n",
       "  </thead>\n",
       "  <tbody>\n",
       "    <tr>\n",
       "      <th>bpm</th>\n",
       "      <td>-0.136447</td>\n",
       "      <td>0.042584</td>\n",
       "    </tr>\n",
       "    <tr>\n",
       "      <th>nrgy</th>\n",
       "      <td>-0.905690</td>\n",
       "      <td>0.083370</td>\n",
       "    </tr>\n",
       "    <tr>\n",
       "      <th>dnce</th>\n",
       "      <td>0.225227</td>\n",
       "      <td>-0.774277</td>\n",
       "    </tr>\n",
       "    <tr>\n",
       "      <th>dB</th>\n",
       "      <td>-0.835940</td>\n",
       "      <td>0.043601</td>\n",
       "    </tr>\n",
       "    <tr>\n",
       "      <th>live</th>\n",
       "      <td>-0.268478</td>\n",
       "      <td>0.228337</td>\n",
       "    </tr>\n",
       "    <tr>\n",
       "      <th>val</th>\n",
       "      <td>-0.533268</td>\n",
       "      <td>-0.542538</td>\n",
       "    </tr>\n",
       "    <tr>\n",
       "      <th>dur</th>\n",
       "      <td>0.117664</td>\n",
       "      <td>0.593499</td>\n",
       "    </tr>\n",
       "    <tr>\n",
       "      <th>acous</th>\n",
       "      <td>0.482065</td>\n",
       "      <td>0.155508</td>\n",
       "    </tr>\n",
       "    <tr>\n",
       "      <th>spch</th>\n",
       "      <td>0.267109</td>\n",
       "      <td>-0.301971</td>\n",
       "    </tr>\n",
       "  </tbody>\n",
       "</table>\n",
       "</div>"
      ],
      "text/plain": [
       "            pc1       pc2\n",
       "bpm   -0.136447  0.042584\n",
       "nrgy  -0.905690  0.083370\n",
       "dnce   0.225227 -0.774277\n",
       "dB    -0.835940  0.043601\n",
       "live  -0.268478  0.228337\n",
       "val   -0.533268 -0.542538\n",
       "dur    0.117664  0.593499\n",
       "acous  0.482065  0.155508\n",
       "spch   0.267109 -0.301971"
      ]
     },
     "execution_count": 8,
     "metadata": {},
     "output_type": "execute_result"
    }
   ],
   "source": [
    "loadings = pca.components_.T * np.sqrt(pca.explained_variance_)\n",
    "loadings_df = pd.DataFrame(loadings, columns = ['pc1', 'pc2'], index = features)\n",
    "loadings_df"
   ]
  },
  {
   "cell_type": "markdown",
   "id": "6a1c5911",
   "metadata": {},
   "source": [
    "Get loadings for each dimension and each feature"
   ]
  },
  {
   "cell_type": "markdown",
   "id": "df66d5f9",
   "metadata": {},
   "source": [
    "### Loadings Plots"
   ]
  },
  {
   "cell_type": "code",
   "execution_count": 10,
   "id": "b0417d1c",
   "metadata": {},
   "outputs": [
    {
     "data": {
      "application/vnd.plotly.v1+json": {
       "config": {
        "plotlyServerURL": "https://plot.ly"
       },
       "data": [
        {
         "marker": {
          "color": "#479B55"
         },
         "type": "bar",
         "x": [
          "bpm",
          "nrgy",
          "dnce",
          "dB",
          "live",
          "val",
          "dur",
          "acous",
          "spch"
         ],
         "y": [
          -0.13644656919908038,
          -0.9056899850773549,
          0.22522728292997946,
          -0.835939556782631,
          -0.26847758396527155,
          -0.5332677205685185,
          0.11766424514924125,
          0.4820649187482987,
          0.2671087446725094
         ]
        }
       ],
       "layout": {
        "template": {
         "data": {
          "bar": [
           {
            "error_x": {
             "color": "#2a3f5f"
            },
            "error_y": {
             "color": "#2a3f5f"
            },
            "marker": {
             "line": {
              "color": "#E5ECF6",
              "width": 0.5
             },
             "pattern": {
              "fillmode": "overlay",
              "size": 10,
              "solidity": 0.2
             }
            },
            "type": "bar"
           }
          ],
          "barpolar": [
           {
            "marker": {
             "line": {
              "color": "#E5ECF6",
              "width": 0.5
             },
             "pattern": {
              "fillmode": "overlay",
              "size": 10,
              "solidity": 0.2
             }
            },
            "type": "barpolar"
           }
          ],
          "carpet": [
           {
            "aaxis": {
             "endlinecolor": "#2a3f5f",
             "gridcolor": "white",
             "linecolor": "white",
             "minorgridcolor": "white",
             "startlinecolor": "#2a3f5f"
            },
            "baxis": {
             "endlinecolor": "#2a3f5f",
             "gridcolor": "white",
             "linecolor": "white",
             "minorgridcolor": "white",
             "startlinecolor": "#2a3f5f"
            },
            "type": "carpet"
           }
          ],
          "choropleth": [
           {
            "colorbar": {
             "outlinewidth": 0,
             "ticks": ""
            },
            "type": "choropleth"
           }
          ],
          "contour": [
           {
            "colorbar": {
             "outlinewidth": 0,
             "ticks": ""
            },
            "colorscale": [
             [
              0,
              "#0d0887"
             ],
             [
              0.1111111111111111,
              "#46039f"
             ],
             [
              0.2222222222222222,
              "#7201a8"
             ],
             [
              0.3333333333333333,
              "#9c179e"
             ],
             [
              0.4444444444444444,
              "#bd3786"
             ],
             [
              0.5555555555555556,
              "#d8576b"
             ],
             [
              0.6666666666666666,
              "#ed7953"
             ],
             [
              0.7777777777777778,
              "#fb9f3a"
             ],
             [
              0.8888888888888888,
              "#fdca26"
             ],
             [
              1,
              "#f0f921"
             ]
            ],
            "type": "contour"
           }
          ],
          "contourcarpet": [
           {
            "colorbar": {
             "outlinewidth": 0,
             "ticks": ""
            },
            "type": "contourcarpet"
           }
          ],
          "heatmap": [
           {
            "colorbar": {
             "outlinewidth": 0,
             "ticks": ""
            },
            "colorscale": [
             [
              0,
              "#0d0887"
             ],
             [
              0.1111111111111111,
              "#46039f"
             ],
             [
              0.2222222222222222,
              "#7201a8"
             ],
             [
              0.3333333333333333,
              "#9c179e"
             ],
             [
              0.4444444444444444,
              "#bd3786"
             ],
             [
              0.5555555555555556,
              "#d8576b"
             ],
             [
              0.6666666666666666,
              "#ed7953"
             ],
             [
              0.7777777777777778,
              "#fb9f3a"
             ],
             [
              0.8888888888888888,
              "#fdca26"
             ],
             [
              1,
              "#f0f921"
             ]
            ],
            "type": "heatmap"
           }
          ],
          "heatmapgl": [
           {
            "colorbar": {
             "outlinewidth": 0,
             "ticks": ""
            },
            "colorscale": [
             [
              0,
              "#0d0887"
             ],
             [
              0.1111111111111111,
              "#46039f"
             ],
             [
              0.2222222222222222,
              "#7201a8"
             ],
             [
              0.3333333333333333,
              "#9c179e"
             ],
             [
              0.4444444444444444,
              "#bd3786"
             ],
             [
              0.5555555555555556,
              "#d8576b"
             ],
             [
              0.6666666666666666,
              "#ed7953"
             ],
             [
              0.7777777777777778,
              "#fb9f3a"
             ],
             [
              0.8888888888888888,
              "#fdca26"
             ],
             [
              1,
              "#f0f921"
             ]
            ],
            "type": "heatmapgl"
           }
          ],
          "histogram": [
           {
            "marker": {
             "pattern": {
              "fillmode": "overlay",
              "size": 10,
              "solidity": 0.2
             }
            },
            "type": "histogram"
           }
          ],
          "histogram2d": [
           {
            "colorbar": {
             "outlinewidth": 0,
             "ticks": ""
            },
            "colorscale": [
             [
              0,
              "#0d0887"
             ],
             [
              0.1111111111111111,
              "#46039f"
             ],
             [
              0.2222222222222222,
              "#7201a8"
             ],
             [
              0.3333333333333333,
              "#9c179e"
             ],
             [
              0.4444444444444444,
              "#bd3786"
             ],
             [
              0.5555555555555556,
              "#d8576b"
             ],
             [
              0.6666666666666666,
              "#ed7953"
             ],
             [
              0.7777777777777778,
              "#fb9f3a"
             ],
             [
              0.8888888888888888,
              "#fdca26"
             ],
             [
              1,
              "#f0f921"
             ]
            ],
            "type": "histogram2d"
           }
          ],
          "histogram2dcontour": [
           {
            "colorbar": {
             "outlinewidth": 0,
             "ticks": ""
            },
            "colorscale": [
             [
              0,
              "#0d0887"
             ],
             [
              0.1111111111111111,
              "#46039f"
             ],
             [
              0.2222222222222222,
              "#7201a8"
             ],
             [
              0.3333333333333333,
              "#9c179e"
             ],
             [
              0.4444444444444444,
              "#bd3786"
             ],
             [
              0.5555555555555556,
              "#d8576b"
             ],
             [
              0.6666666666666666,
              "#ed7953"
             ],
             [
              0.7777777777777778,
              "#fb9f3a"
             ],
             [
              0.8888888888888888,
              "#fdca26"
             ],
             [
              1,
              "#f0f921"
             ]
            ],
            "type": "histogram2dcontour"
           }
          ],
          "mesh3d": [
           {
            "colorbar": {
             "outlinewidth": 0,
             "ticks": ""
            },
            "type": "mesh3d"
           }
          ],
          "parcoords": [
           {
            "line": {
             "colorbar": {
              "outlinewidth": 0,
              "ticks": ""
             }
            },
            "type": "parcoords"
           }
          ],
          "pie": [
           {
            "automargin": true,
            "type": "pie"
           }
          ],
          "scatter": [
           {
            "marker": {
             "colorbar": {
              "outlinewidth": 0,
              "ticks": ""
             }
            },
            "type": "scatter"
           }
          ],
          "scatter3d": [
           {
            "line": {
             "colorbar": {
              "outlinewidth": 0,
              "ticks": ""
             }
            },
            "marker": {
             "colorbar": {
              "outlinewidth": 0,
              "ticks": ""
             }
            },
            "type": "scatter3d"
           }
          ],
          "scattercarpet": [
           {
            "marker": {
             "colorbar": {
              "outlinewidth": 0,
              "ticks": ""
             }
            },
            "type": "scattercarpet"
           }
          ],
          "scattergeo": [
           {
            "marker": {
             "colorbar": {
              "outlinewidth": 0,
              "ticks": ""
             }
            },
            "type": "scattergeo"
           }
          ],
          "scattergl": [
           {
            "marker": {
             "colorbar": {
              "outlinewidth": 0,
              "ticks": ""
             }
            },
            "type": "scattergl"
           }
          ],
          "scattermapbox": [
           {
            "marker": {
             "colorbar": {
              "outlinewidth": 0,
              "ticks": ""
             }
            },
            "type": "scattermapbox"
           }
          ],
          "scatterpolar": [
           {
            "marker": {
             "colorbar": {
              "outlinewidth": 0,
              "ticks": ""
             }
            },
            "type": "scatterpolar"
           }
          ],
          "scatterpolargl": [
           {
            "marker": {
             "colorbar": {
              "outlinewidth": 0,
              "ticks": ""
             }
            },
            "type": "scatterpolargl"
           }
          ],
          "scatterternary": [
           {
            "marker": {
             "colorbar": {
              "outlinewidth": 0,
              "ticks": ""
             }
            },
            "type": "scatterternary"
           }
          ],
          "surface": [
           {
            "colorbar": {
             "outlinewidth": 0,
             "ticks": ""
            },
            "colorscale": [
             [
              0,
              "#0d0887"
             ],
             [
              0.1111111111111111,
              "#46039f"
             ],
             [
              0.2222222222222222,
              "#7201a8"
             ],
             [
              0.3333333333333333,
              "#9c179e"
             ],
             [
              0.4444444444444444,
              "#bd3786"
             ],
             [
              0.5555555555555556,
              "#d8576b"
             ],
             [
              0.6666666666666666,
              "#ed7953"
             ],
             [
              0.7777777777777778,
              "#fb9f3a"
             ],
             [
              0.8888888888888888,
              "#fdca26"
             ],
             [
              1,
              "#f0f921"
             ]
            ],
            "type": "surface"
           }
          ],
          "table": [
           {
            "cells": {
             "fill": {
              "color": "#EBF0F8"
             },
             "line": {
              "color": "white"
             }
            },
            "header": {
             "fill": {
              "color": "#C8D4E3"
             },
             "line": {
              "color": "white"
             }
            },
            "type": "table"
           }
          ]
         },
         "layout": {
          "annotationdefaults": {
           "arrowcolor": "#2a3f5f",
           "arrowhead": 0,
           "arrowwidth": 1
          },
          "autotypenumbers": "strict",
          "coloraxis": {
           "colorbar": {
            "outlinewidth": 0,
            "ticks": ""
           }
          },
          "colorscale": {
           "diverging": [
            [
             0,
             "#8e0152"
            ],
            [
             0.1,
             "#c51b7d"
            ],
            [
             0.2,
             "#de77ae"
            ],
            [
             0.3,
             "#f1b6da"
            ],
            [
             0.4,
             "#fde0ef"
            ],
            [
             0.5,
             "#f7f7f7"
            ],
            [
             0.6,
             "#e6f5d0"
            ],
            [
             0.7,
             "#b8e186"
            ],
            [
             0.8,
             "#7fbc41"
            ],
            [
             0.9,
             "#4d9221"
            ],
            [
             1,
             "#276419"
            ]
           ],
           "sequential": [
            [
             0,
             "#0d0887"
            ],
            [
             0.1111111111111111,
             "#46039f"
            ],
            [
             0.2222222222222222,
             "#7201a8"
            ],
            [
             0.3333333333333333,
             "#9c179e"
            ],
            [
             0.4444444444444444,
             "#bd3786"
            ],
            [
             0.5555555555555556,
             "#d8576b"
            ],
            [
             0.6666666666666666,
             "#ed7953"
            ],
            [
             0.7777777777777778,
             "#fb9f3a"
            ],
            [
             0.8888888888888888,
             "#fdca26"
            ],
            [
             1,
             "#f0f921"
            ]
           ],
           "sequentialminus": [
            [
             0,
             "#0d0887"
            ],
            [
             0.1111111111111111,
             "#46039f"
            ],
            [
             0.2222222222222222,
             "#7201a8"
            ],
            [
             0.3333333333333333,
             "#9c179e"
            ],
            [
             0.4444444444444444,
             "#bd3786"
            ],
            [
             0.5555555555555556,
             "#d8576b"
            ],
            [
             0.6666666666666666,
             "#ed7953"
            ],
            [
             0.7777777777777778,
             "#fb9f3a"
            ],
            [
             0.8888888888888888,
             "#fdca26"
            ],
            [
             1,
             "#f0f921"
            ]
           ]
          },
          "colorway": [
           "#636efa",
           "#EF553B",
           "#00cc96",
           "#ab63fa",
           "#FFA15A",
           "#19d3f3",
           "#FF6692",
           "#B6E880",
           "#FF97FF",
           "#FECB52"
          ],
          "font": {
           "color": "#2a3f5f"
          },
          "geo": {
           "bgcolor": "white",
           "lakecolor": "white",
           "landcolor": "#E5ECF6",
           "showlakes": true,
           "showland": true,
           "subunitcolor": "white"
          },
          "hoverlabel": {
           "align": "left"
          },
          "hovermode": "closest",
          "mapbox": {
           "style": "light"
          },
          "paper_bgcolor": "white",
          "plot_bgcolor": "#E5ECF6",
          "polar": {
           "angularaxis": {
            "gridcolor": "white",
            "linecolor": "white",
            "ticks": ""
           },
           "bgcolor": "#E5ECF6",
           "radialaxis": {
            "gridcolor": "white",
            "linecolor": "white",
            "ticks": ""
           }
          },
          "scene": {
           "xaxis": {
            "backgroundcolor": "#E5ECF6",
            "gridcolor": "white",
            "gridwidth": 2,
            "linecolor": "white",
            "showbackground": true,
            "ticks": "",
            "zerolinecolor": "white"
           },
           "yaxis": {
            "backgroundcolor": "#E5ECF6",
            "gridcolor": "white",
            "gridwidth": 2,
            "linecolor": "white",
            "showbackground": true,
            "ticks": "",
            "zerolinecolor": "white"
           },
           "zaxis": {
            "backgroundcolor": "#E5ECF6",
            "gridcolor": "white",
            "gridwidth": 2,
            "linecolor": "white",
            "showbackground": true,
            "ticks": "",
            "zerolinecolor": "white"
           }
          },
          "shapedefaults": {
           "line": {
            "color": "#2a3f5f"
           }
          },
          "ternary": {
           "aaxis": {
            "gridcolor": "white",
            "linecolor": "white",
            "ticks": ""
           },
           "baxis": {
            "gridcolor": "white",
            "linecolor": "white",
            "ticks": ""
           },
           "bgcolor": "#E5ECF6",
           "caxis": {
            "gridcolor": "white",
            "linecolor": "white",
            "ticks": ""
           }
          },
          "title": {
           "x": 0.05
          },
          "xaxis": {
           "automargin": true,
           "gridcolor": "white",
           "linecolor": "white",
           "ticks": "",
           "title": {
            "standoff": 15
           },
           "zerolinecolor": "white",
           "zerolinewidth": 2
          },
          "yaxis": {
           "automargin": true,
           "gridcolor": "white",
           "linecolor": "white",
           "ticks": "",
           "title": {
            "standoff": 15
           },
           "zerolinecolor": "white",
           "zerolinewidth": 2
          }
         }
        },
        "title": {
         "text": "PC1 Loading per Feature"
        },
        "xaxis": {
         "tickfont": {
          "size": 14
         },
         "title": {
          "font": {
           "size": 16
          },
          "text": "Features"
         }
        },
        "yaxis": {
         "tickfont": {
          "size": 14
         },
         "title": {
          "font": {
           "size": 16
          },
          "text": "Loading Size"
         }
        }
       }
      },
      "text/html": [
       "<div>                            <div id=\"7611a223-94a7-4477-aad4-1f2fdddce31f\" class=\"plotly-graph-div\" style=\"height:525px; width:100%;\"></div>            <script type=\"text/javascript\">                require([\"plotly\"], function(Plotly) {                    window.PLOTLYENV=window.PLOTLYENV || {};                                    if (document.getElementById(\"7611a223-94a7-4477-aad4-1f2fdddce31f\")) {                    Plotly.newPlot(                        \"7611a223-94a7-4477-aad4-1f2fdddce31f\",                        [{\"marker\":{\"color\":\"#479B55\"},\"x\":[\"bpm\",\"nrgy\",\"dnce\",\"dB\",\"live\",\"val\",\"dur\",\"acous\",\"spch\"],\"y\":[-0.13644656919908038,-0.9056899850773549,0.22522728292997946,-0.835939556782631,-0.26847758396527155,-0.5332677205685185,0.11766424514924125,0.4820649187482987,0.2671087446725094],\"type\":\"bar\"}],                        {\"template\":{\"data\":{\"bar\":[{\"error_x\":{\"color\":\"#2a3f5f\"},\"error_y\":{\"color\":\"#2a3f5f\"},\"marker\":{\"line\":{\"color\":\"#E5ECF6\",\"width\":0.5},\"pattern\":{\"fillmode\":\"overlay\",\"size\":10,\"solidity\":0.2}},\"type\":\"bar\"}],\"barpolar\":[{\"marker\":{\"line\":{\"color\":\"#E5ECF6\",\"width\":0.5},\"pattern\":{\"fillmode\":\"overlay\",\"size\":10,\"solidity\":0.2}},\"type\":\"barpolar\"}],\"carpet\":[{\"aaxis\":{\"endlinecolor\":\"#2a3f5f\",\"gridcolor\":\"white\",\"linecolor\":\"white\",\"minorgridcolor\":\"white\",\"startlinecolor\":\"#2a3f5f\"},\"baxis\":{\"endlinecolor\":\"#2a3f5f\",\"gridcolor\":\"white\",\"linecolor\":\"white\",\"minorgridcolor\":\"white\",\"startlinecolor\":\"#2a3f5f\"},\"type\":\"carpet\"}],\"choropleth\":[{\"colorbar\":{\"outlinewidth\":0,\"ticks\":\"\"},\"type\":\"choropleth\"}],\"contour\":[{\"colorbar\":{\"outlinewidth\":0,\"ticks\":\"\"},\"colorscale\":[[0.0,\"#0d0887\"],[0.1111111111111111,\"#46039f\"],[0.2222222222222222,\"#7201a8\"],[0.3333333333333333,\"#9c179e\"],[0.4444444444444444,\"#bd3786\"],[0.5555555555555556,\"#d8576b\"],[0.6666666666666666,\"#ed7953\"],[0.7777777777777778,\"#fb9f3a\"],[0.8888888888888888,\"#fdca26\"],[1.0,\"#f0f921\"]],\"type\":\"contour\"}],\"contourcarpet\":[{\"colorbar\":{\"outlinewidth\":0,\"ticks\":\"\"},\"type\":\"contourcarpet\"}],\"heatmap\":[{\"colorbar\":{\"outlinewidth\":0,\"ticks\":\"\"},\"colorscale\":[[0.0,\"#0d0887\"],[0.1111111111111111,\"#46039f\"],[0.2222222222222222,\"#7201a8\"],[0.3333333333333333,\"#9c179e\"],[0.4444444444444444,\"#bd3786\"],[0.5555555555555556,\"#d8576b\"],[0.6666666666666666,\"#ed7953\"],[0.7777777777777778,\"#fb9f3a\"],[0.8888888888888888,\"#fdca26\"],[1.0,\"#f0f921\"]],\"type\":\"heatmap\"}],\"heatmapgl\":[{\"colorbar\":{\"outlinewidth\":0,\"ticks\":\"\"},\"colorscale\":[[0.0,\"#0d0887\"],[0.1111111111111111,\"#46039f\"],[0.2222222222222222,\"#7201a8\"],[0.3333333333333333,\"#9c179e\"],[0.4444444444444444,\"#bd3786\"],[0.5555555555555556,\"#d8576b\"],[0.6666666666666666,\"#ed7953\"],[0.7777777777777778,\"#fb9f3a\"],[0.8888888888888888,\"#fdca26\"],[1.0,\"#f0f921\"]],\"type\":\"heatmapgl\"}],\"histogram\":[{\"marker\":{\"pattern\":{\"fillmode\":\"overlay\",\"size\":10,\"solidity\":0.2}},\"type\":\"histogram\"}],\"histogram2d\":[{\"colorbar\":{\"outlinewidth\":0,\"ticks\":\"\"},\"colorscale\":[[0.0,\"#0d0887\"],[0.1111111111111111,\"#46039f\"],[0.2222222222222222,\"#7201a8\"],[0.3333333333333333,\"#9c179e\"],[0.4444444444444444,\"#bd3786\"],[0.5555555555555556,\"#d8576b\"],[0.6666666666666666,\"#ed7953\"],[0.7777777777777778,\"#fb9f3a\"],[0.8888888888888888,\"#fdca26\"],[1.0,\"#f0f921\"]],\"type\":\"histogram2d\"}],\"histogram2dcontour\":[{\"colorbar\":{\"outlinewidth\":0,\"ticks\":\"\"},\"colorscale\":[[0.0,\"#0d0887\"],[0.1111111111111111,\"#46039f\"],[0.2222222222222222,\"#7201a8\"],[0.3333333333333333,\"#9c179e\"],[0.4444444444444444,\"#bd3786\"],[0.5555555555555556,\"#d8576b\"],[0.6666666666666666,\"#ed7953\"],[0.7777777777777778,\"#fb9f3a\"],[0.8888888888888888,\"#fdca26\"],[1.0,\"#f0f921\"]],\"type\":\"histogram2dcontour\"}],\"mesh3d\":[{\"colorbar\":{\"outlinewidth\":0,\"ticks\":\"\"},\"type\":\"mesh3d\"}],\"parcoords\":[{\"line\":{\"colorbar\":{\"outlinewidth\":0,\"ticks\":\"\"}},\"type\":\"parcoords\"}],\"pie\":[{\"automargin\":true,\"type\":\"pie\"}],\"scatter\":[{\"marker\":{\"colorbar\":{\"outlinewidth\":0,\"ticks\":\"\"}},\"type\":\"scatter\"}],\"scatter3d\":[{\"line\":{\"colorbar\":{\"outlinewidth\":0,\"ticks\":\"\"}},\"marker\":{\"colorbar\":{\"outlinewidth\":0,\"ticks\":\"\"}},\"type\":\"scatter3d\"}],\"scattercarpet\":[{\"marker\":{\"colorbar\":{\"outlinewidth\":0,\"ticks\":\"\"}},\"type\":\"scattercarpet\"}],\"scattergeo\":[{\"marker\":{\"colorbar\":{\"outlinewidth\":0,\"ticks\":\"\"}},\"type\":\"scattergeo\"}],\"scattergl\":[{\"marker\":{\"colorbar\":{\"outlinewidth\":0,\"ticks\":\"\"}},\"type\":\"scattergl\"}],\"scattermapbox\":[{\"marker\":{\"colorbar\":{\"outlinewidth\":0,\"ticks\":\"\"}},\"type\":\"scattermapbox\"}],\"scatterpolar\":[{\"marker\":{\"colorbar\":{\"outlinewidth\":0,\"ticks\":\"\"}},\"type\":\"scatterpolar\"}],\"scatterpolargl\":[{\"marker\":{\"colorbar\":{\"outlinewidth\":0,\"ticks\":\"\"}},\"type\":\"scatterpolargl\"}],\"scatterternary\":[{\"marker\":{\"colorbar\":{\"outlinewidth\":0,\"ticks\":\"\"}},\"type\":\"scatterternary\"}],\"surface\":[{\"colorbar\":{\"outlinewidth\":0,\"ticks\":\"\"},\"colorscale\":[[0.0,\"#0d0887\"],[0.1111111111111111,\"#46039f\"],[0.2222222222222222,\"#7201a8\"],[0.3333333333333333,\"#9c179e\"],[0.4444444444444444,\"#bd3786\"],[0.5555555555555556,\"#d8576b\"],[0.6666666666666666,\"#ed7953\"],[0.7777777777777778,\"#fb9f3a\"],[0.8888888888888888,\"#fdca26\"],[1.0,\"#f0f921\"]],\"type\":\"surface\"}],\"table\":[{\"cells\":{\"fill\":{\"color\":\"#EBF0F8\"},\"line\":{\"color\":\"white\"}},\"header\":{\"fill\":{\"color\":\"#C8D4E3\"},\"line\":{\"color\":\"white\"}},\"type\":\"table\"}]},\"layout\":{\"annotationdefaults\":{\"arrowcolor\":\"#2a3f5f\",\"arrowhead\":0,\"arrowwidth\":1},\"autotypenumbers\":\"strict\",\"coloraxis\":{\"colorbar\":{\"outlinewidth\":0,\"ticks\":\"\"}},\"colorscale\":{\"diverging\":[[0,\"#8e0152\"],[0.1,\"#c51b7d\"],[0.2,\"#de77ae\"],[0.3,\"#f1b6da\"],[0.4,\"#fde0ef\"],[0.5,\"#f7f7f7\"],[0.6,\"#e6f5d0\"],[0.7,\"#b8e186\"],[0.8,\"#7fbc41\"],[0.9,\"#4d9221\"],[1,\"#276419\"]],\"sequential\":[[0.0,\"#0d0887\"],[0.1111111111111111,\"#46039f\"],[0.2222222222222222,\"#7201a8\"],[0.3333333333333333,\"#9c179e\"],[0.4444444444444444,\"#bd3786\"],[0.5555555555555556,\"#d8576b\"],[0.6666666666666666,\"#ed7953\"],[0.7777777777777778,\"#fb9f3a\"],[0.8888888888888888,\"#fdca26\"],[1.0,\"#f0f921\"]],\"sequentialminus\":[[0.0,\"#0d0887\"],[0.1111111111111111,\"#46039f\"],[0.2222222222222222,\"#7201a8\"],[0.3333333333333333,\"#9c179e\"],[0.4444444444444444,\"#bd3786\"],[0.5555555555555556,\"#d8576b\"],[0.6666666666666666,\"#ed7953\"],[0.7777777777777778,\"#fb9f3a\"],[0.8888888888888888,\"#fdca26\"],[1.0,\"#f0f921\"]]},\"colorway\":[\"#636efa\",\"#EF553B\",\"#00cc96\",\"#ab63fa\",\"#FFA15A\",\"#19d3f3\",\"#FF6692\",\"#B6E880\",\"#FF97FF\",\"#FECB52\"],\"font\":{\"color\":\"#2a3f5f\"},\"geo\":{\"bgcolor\":\"white\",\"lakecolor\":\"white\",\"landcolor\":\"#E5ECF6\",\"showlakes\":true,\"showland\":true,\"subunitcolor\":\"white\"},\"hoverlabel\":{\"align\":\"left\"},\"hovermode\":\"closest\",\"mapbox\":{\"style\":\"light\"},\"paper_bgcolor\":\"white\",\"plot_bgcolor\":\"#E5ECF6\",\"polar\":{\"angularaxis\":{\"gridcolor\":\"white\",\"linecolor\":\"white\",\"ticks\":\"\"},\"bgcolor\":\"#E5ECF6\",\"radialaxis\":{\"gridcolor\":\"white\",\"linecolor\":\"white\",\"ticks\":\"\"}},\"scene\":{\"xaxis\":{\"backgroundcolor\":\"#E5ECF6\",\"gridcolor\":\"white\",\"gridwidth\":2,\"linecolor\":\"white\",\"showbackground\":true,\"ticks\":\"\",\"zerolinecolor\":\"white\"},\"yaxis\":{\"backgroundcolor\":\"#E5ECF6\",\"gridcolor\":\"white\",\"gridwidth\":2,\"linecolor\":\"white\",\"showbackground\":true,\"ticks\":\"\",\"zerolinecolor\":\"white\"},\"zaxis\":{\"backgroundcolor\":\"#E5ECF6\",\"gridcolor\":\"white\",\"gridwidth\":2,\"linecolor\":\"white\",\"showbackground\":true,\"ticks\":\"\",\"zerolinecolor\":\"white\"}},\"shapedefaults\":{\"line\":{\"color\":\"#2a3f5f\"}},\"ternary\":{\"aaxis\":{\"gridcolor\":\"white\",\"linecolor\":\"white\",\"ticks\":\"\"},\"baxis\":{\"gridcolor\":\"white\",\"linecolor\":\"white\",\"ticks\":\"\"},\"bgcolor\":\"#E5ECF6\",\"caxis\":{\"gridcolor\":\"white\",\"linecolor\":\"white\",\"ticks\":\"\"}},\"title\":{\"x\":0.05},\"xaxis\":{\"automargin\":true,\"gridcolor\":\"white\",\"linecolor\":\"white\",\"ticks\":\"\",\"title\":{\"standoff\":15},\"zerolinecolor\":\"white\",\"zerolinewidth\":2},\"yaxis\":{\"automargin\":true,\"gridcolor\":\"white\",\"linecolor\":\"white\",\"ticks\":\"\",\"title\":{\"standoff\":15},\"zerolinecolor\":\"white\",\"zerolinewidth\":2}}},\"xaxis\":{\"title\":{\"text\":\"Features\",\"font\":{\"size\":16}},\"tickfont\":{\"size\":14}},\"yaxis\":{\"title\":{\"text\":\"Loading Size\",\"font\":{\"size\":16}},\"tickfont\":{\"size\":14}},\"title\":{\"text\":\"PC1 Loading per Feature\"}},                        {\"responsive\": true}                    ).then(function(){\n",
       "                            \n",
       "var gd = document.getElementById('7611a223-94a7-4477-aad4-1f2fdddce31f');\n",
       "var x = new MutationObserver(function (mutations, observer) {{\n",
       "        var display = window.getComputedStyle(gd).display;\n",
       "        if (!display || display === 'none') {{\n",
       "            console.log([gd, 'removed!']);\n",
       "            Plotly.purge(gd);\n",
       "            observer.disconnect();\n",
       "        }}\n",
       "}});\n",
       "\n",
       "// Listen for the removal of the full notebook cells\n",
       "var notebookContainer = gd.closest('#notebook-container');\n",
       "if (notebookContainer) {{\n",
       "    x.observe(notebookContainer, {childList: true});\n",
       "}}\n",
       "\n",
       "// Listen for the clearing of the current output cell\n",
       "var outputEl = gd.closest('.output');\n",
       "if (outputEl) {{\n",
       "    x.observe(outputEl, {childList: true});\n",
       "}}\n",
       "\n",
       "                        })                };                });            </script>        </div>"
      ]
     },
     "metadata": {},
     "output_type": "display_data"
    }
   ],
   "source": [
    "#PC1\n",
    "fig = go.Figure()\n",
    "fig.add_trace(go.Bar( y = loadings_df.iloc[:, 0], x = loadings_df.index, \n",
    "             marker_color='#479B55'))\n",
    "\n",
    "fig.update_layout(\n",
    "    title='PC1 Loading per Feature',\n",
    "    xaxis=dict(\n",
    "        title='Features',\n",
    "        titlefont_size=16,\n",
    "        tickfont_size=14,\n",
    "    ),\n",
    "    yaxis=dict(\n",
    "        title='Loading Size',\n",
    "        titlefont_size=16,\n",
    "        tickfont_size=14,\n",
    "    )\n",
    ")"
   ]
  },
  {
   "cell_type": "code",
   "execution_count": 11,
   "id": "ee722dd6",
   "metadata": {},
   "outputs": [
    {
     "data": {
      "application/vnd.plotly.v1+json": {
       "config": {
        "plotlyServerURL": "https://plot.ly"
       },
       "data": [
        {
         "marker": {
          "color": "#479B55"
         },
         "type": "bar",
         "x": [
          "bpm",
          "nrgy",
          "dnce",
          "dB",
          "live",
          "val",
          "dur",
          "acous",
          "spch"
         ],
         "y": [
          0.04258400254529826,
          0.08336983043834247,
          -0.7742771818987061,
          0.04360117296148999,
          0.22833735876790323,
          -0.5425377137481553,
          0.5934992582499983,
          0.1555079117260054,
          -0.301970592615044
         ]
        }
       ],
       "layout": {
        "template": {
         "data": {
          "bar": [
           {
            "error_x": {
             "color": "#2a3f5f"
            },
            "error_y": {
             "color": "#2a3f5f"
            },
            "marker": {
             "line": {
              "color": "#E5ECF6",
              "width": 0.5
             },
             "pattern": {
              "fillmode": "overlay",
              "size": 10,
              "solidity": 0.2
             }
            },
            "type": "bar"
           }
          ],
          "barpolar": [
           {
            "marker": {
             "line": {
              "color": "#E5ECF6",
              "width": 0.5
             },
             "pattern": {
              "fillmode": "overlay",
              "size": 10,
              "solidity": 0.2
             }
            },
            "type": "barpolar"
           }
          ],
          "carpet": [
           {
            "aaxis": {
             "endlinecolor": "#2a3f5f",
             "gridcolor": "white",
             "linecolor": "white",
             "minorgridcolor": "white",
             "startlinecolor": "#2a3f5f"
            },
            "baxis": {
             "endlinecolor": "#2a3f5f",
             "gridcolor": "white",
             "linecolor": "white",
             "minorgridcolor": "white",
             "startlinecolor": "#2a3f5f"
            },
            "type": "carpet"
           }
          ],
          "choropleth": [
           {
            "colorbar": {
             "outlinewidth": 0,
             "ticks": ""
            },
            "type": "choropleth"
           }
          ],
          "contour": [
           {
            "colorbar": {
             "outlinewidth": 0,
             "ticks": ""
            },
            "colorscale": [
             [
              0,
              "#0d0887"
             ],
             [
              0.1111111111111111,
              "#46039f"
             ],
             [
              0.2222222222222222,
              "#7201a8"
             ],
             [
              0.3333333333333333,
              "#9c179e"
             ],
             [
              0.4444444444444444,
              "#bd3786"
             ],
             [
              0.5555555555555556,
              "#d8576b"
             ],
             [
              0.6666666666666666,
              "#ed7953"
             ],
             [
              0.7777777777777778,
              "#fb9f3a"
             ],
             [
              0.8888888888888888,
              "#fdca26"
             ],
             [
              1,
              "#f0f921"
             ]
            ],
            "type": "contour"
           }
          ],
          "contourcarpet": [
           {
            "colorbar": {
             "outlinewidth": 0,
             "ticks": ""
            },
            "type": "contourcarpet"
           }
          ],
          "heatmap": [
           {
            "colorbar": {
             "outlinewidth": 0,
             "ticks": ""
            },
            "colorscale": [
             [
              0,
              "#0d0887"
             ],
             [
              0.1111111111111111,
              "#46039f"
             ],
             [
              0.2222222222222222,
              "#7201a8"
             ],
             [
              0.3333333333333333,
              "#9c179e"
             ],
             [
              0.4444444444444444,
              "#bd3786"
             ],
             [
              0.5555555555555556,
              "#d8576b"
             ],
             [
              0.6666666666666666,
              "#ed7953"
             ],
             [
              0.7777777777777778,
              "#fb9f3a"
             ],
             [
              0.8888888888888888,
              "#fdca26"
             ],
             [
              1,
              "#f0f921"
             ]
            ],
            "type": "heatmap"
           }
          ],
          "heatmapgl": [
           {
            "colorbar": {
             "outlinewidth": 0,
             "ticks": ""
            },
            "colorscale": [
             [
              0,
              "#0d0887"
             ],
             [
              0.1111111111111111,
              "#46039f"
             ],
             [
              0.2222222222222222,
              "#7201a8"
             ],
             [
              0.3333333333333333,
              "#9c179e"
             ],
             [
              0.4444444444444444,
              "#bd3786"
             ],
             [
              0.5555555555555556,
              "#d8576b"
             ],
             [
              0.6666666666666666,
              "#ed7953"
             ],
             [
              0.7777777777777778,
              "#fb9f3a"
             ],
             [
              0.8888888888888888,
              "#fdca26"
             ],
             [
              1,
              "#f0f921"
             ]
            ],
            "type": "heatmapgl"
           }
          ],
          "histogram": [
           {
            "marker": {
             "pattern": {
              "fillmode": "overlay",
              "size": 10,
              "solidity": 0.2
             }
            },
            "type": "histogram"
           }
          ],
          "histogram2d": [
           {
            "colorbar": {
             "outlinewidth": 0,
             "ticks": ""
            },
            "colorscale": [
             [
              0,
              "#0d0887"
             ],
             [
              0.1111111111111111,
              "#46039f"
             ],
             [
              0.2222222222222222,
              "#7201a8"
             ],
             [
              0.3333333333333333,
              "#9c179e"
             ],
             [
              0.4444444444444444,
              "#bd3786"
             ],
             [
              0.5555555555555556,
              "#d8576b"
             ],
             [
              0.6666666666666666,
              "#ed7953"
             ],
             [
              0.7777777777777778,
              "#fb9f3a"
             ],
             [
              0.8888888888888888,
              "#fdca26"
             ],
             [
              1,
              "#f0f921"
             ]
            ],
            "type": "histogram2d"
           }
          ],
          "histogram2dcontour": [
           {
            "colorbar": {
             "outlinewidth": 0,
             "ticks": ""
            },
            "colorscale": [
             [
              0,
              "#0d0887"
             ],
             [
              0.1111111111111111,
              "#46039f"
             ],
             [
              0.2222222222222222,
              "#7201a8"
             ],
             [
              0.3333333333333333,
              "#9c179e"
             ],
             [
              0.4444444444444444,
              "#bd3786"
             ],
             [
              0.5555555555555556,
              "#d8576b"
             ],
             [
              0.6666666666666666,
              "#ed7953"
             ],
             [
              0.7777777777777778,
              "#fb9f3a"
             ],
             [
              0.8888888888888888,
              "#fdca26"
             ],
             [
              1,
              "#f0f921"
             ]
            ],
            "type": "histogram2dcontour"
           }
          ],
          "mesh3d": [
           {
            "colorbar": {
             "outlinewidth": 0,
             "ticks": ""
            },
            "type": "mesh3d"
           }
          ],
          "parcoords": [
           {
            "line": {
             "colorbar": {
              "outlinewidth": 0,
              "ticks": ""
             }
            },
            "type": "parcoords"
           }
          ],
          "pie": [
           {
            "automargin": true,
            "type": "pie"
           }
          ],
          "scatter": [
           {
            "marker": {
             "colorbar": {
              "outlinewidth": 0,
              "ticks": ""
             }
            },
            "type": "scatter"
           }
          ],
          "scatter3d": [
           {
            "line": {
             "colorbar": {
              "outlinewidth": 0,
              "ticks": ""
             }
            },
            "marker": {
             "colorbar": {
              "outlinewidth": 0,
              "ticks": ""
             }
            },
            "type": "scatter3d"
           }
          ],
          "scattercarpet": [
           {
            "marker": {
             "colorbar": {
              "outlinewidth": 0,
              "ticks": ""
             }
            },
            "type": "scattercarpet"
           }
          ],
          "scattergeo": [
           {
            "marker": {
             "colorbar": {
              "outlinewidth": 0,
              "ticks": ""
             }
            },
            "type": "scattergeo"
           }
          ],
          "scattergl": [
           {
            "marker": {
             "colorbar": {
              "outlinewidth": 0,
              "ticks": ""
             }
            },
            "type": "scattergl"
           }
          ],
          "scattermapbox": [
           {
            "marker": {
             "colorbar": {
              "outlinewidth": 0,
              "ticks": ""
             }
            },
            "type": "scattermapbox"
           }
          ],
          "scatterpolar": [
           {
            "marker": {
             "colorbar": {
              "outlinewidth": 0,
              "ticks": ""
             }
            },
            "type": "scatterpolar"
           }
          ],
          "scatterpolargl": [
           {
            "marker": {
             "colorbar": {
              "outlinewidth": 0,
              "ticks": ""
             }
            },
            "type": "scatterpolargl"
           }
          ],
          "scatterternary": [
           {
            "marker": {
             "colorbar": {
              "outlinewidth": 0,
              "ticks": ""
             }
            },
            "type": "scatterternary"
           }
          ],
          "surface": [
           {
            "colorbar": {
             "outlinewidth": 0,
             "ticks": ""
            },
            "colorscale": [
             [
              0,
              "#0d0887"
             ],
             [
              0.1111111111111111,
              "#46039f"
             ],
             [
              0.2222222222222222,
              "#7201a8"
             ],
             [
              0.3333333333333333,
              "#9c179e"
             ],
             [
              0.4444444444444444,
              "#bd3786"
             ],
             [
              0.5555555555555556,
              "#d8576b"
             ],
             [
              0.6666666666666666,
              "#ed7953"
             ],
             [
              0.7777777777777778,
              "#fb9f3a"
             ],
             [
              0.8888888888888888,
              "#fdca26"
             ],
             [
              1,
              "#f0f921"
             ]
            ],
            "type": "surface"
           }
          ],
          "table": [
           {
            "cells": {
             "fill": {
              "color": "#EBF0F8"
             },
             "line": {
              "color": "white"
             }
            },
            "header": {
             "fill": {
              "color": "#C8D4E3"
             },
             "line": {
              "color": "white"
             }
            },
            "type": "table"
           }
          ]
         },
         "layout": {
          "annotationdefaults": {
           "arrowcolor": "#2a3f5f",
           "arrowhead": 0,
           "arrowwidth": 1
          },
          "autotypenumbers": "strict",
          "coloraxis": {
           "colorbar": {
            "outlinewidth": 0,
            "ticks": ""
           }
          },
          "colorscale": {
           "diverging": [
            [
             0,
             "#8e0152"
            ],
            [
             0.1,
             "#c51b7d"
            ],
            [
             0.2,
             "#de77ae"
            ],
            [
             0.3,
             "#f1b6da"
            ],
            [
             0.4,
             "#fde0ef"
            ],
            [
             0.5,
             "#f7f7f7"
            ],
            [
             0.6,
             "#e6f5d0"
            ],
            [
             0.7,
             "#b8e186"
            ],
            [
             0.8,
             "#7fbc41"
            ],
            [
             0.9,
             "#4d9221"
            ],
            [
             1,
             "#276419"
            ]
           ],
           "sequential": [
            [
             0,
             "#0d0887"
            ],
            [
             0.1111111111111111,
             "#46039f"
            ],
            [
             0.2222222222222222,
             "#7201a8"
            ],
            [
             0.3333333333333333,
             "#9c179e"
            ],
            [
             0.4444444444444444,
             "#bd3786"
            ],
            [
             0.5555555555555556,
             "#d8576b"
            ],
            [
             0.6666666666666666,
             "#ed7953"
            ],
            [
             0.7777777777777778,
             "#fb9f3a"
            ],
            [
             0.8888888888888888,
             "#fdca26"
            ],
            [
             1,
             "#f0f921"
            ]
           ],
           "sequentialminus": [
            [
             0,
             "#0d0887"
            ],
            [
             0.1111111111111111,
             "#46039f"
            ],
            [
             0.2222222222222222,
             "#7201a8"
            ],
            [
             0.3333333333333333,
             "#9c179e"
            ],
            [
             0.4444444444444444,
             "#bd3786"
            ],
            [
             0.5555555555555556,
             "#d8576b"
            ],
            [
             0.6666666666666666,
             "#ed7953"
            ],
            [
             0.7777777777777778,
             "#fb9f3a"
            ],
            [
             0.8888888888888888,
             "#fdca26"
            ],
            [
             1,
             "#f0f921"
            ]
           ]
          },
          "colorway": [
           "#636efa",
           "#EF553B",
           "#00cc96",
           "#ab63fa",
           "#FFA15A",
           "#19d3f3",
           "#FF6692",
           "#B6E880",
           "#FF97FF",
           "#FECB52"
          ],
          "font": {
           "color": "#2a3f5f"
          },
          "geo": {
           "bgcolor": "white",
           "lakecolor": "white",
           "landcolor": "#E5ECF6",
           "showlakes": true,
           "showland": true,
           "subunitcolor": "white"
          },
          "hoverlabel": {
           "align": "left"
          },
          "hovermode": "closest",
          "mapbox": {
           "style": "light"
          },
          "paper_bgcolor": "white",
          "plot_bgcolor": "#E5ECF6",
          "polar": {
           "angularaxis": {
            "gridcolor": "white",
            "linecolor": "white",
            "ticks": ""
           },
           "bgcolor": "#E5ECF6",
           "radialaxis": {
            "gridcolor": "white",
            "linecolor": "white",
            "ticks": ""
           }
          },
          "scene": {
           "xaxis": {
            "backgroundcolor": "#E5ECF6",
            "gridcolor": "white",
            "gridwidth": 2,
            "linecolor": "white",
            "showbackground": true,
            "ticks": "",
            "zerolinecolor": "white"
           },
           "yaxis": {
            "backgroundcolor": "#E5ECF6",
            "gridcolor": "white",
            "gridwidth": 2,
            "linecolor": "white",
            "showbackground": true,
            "ticks": "",
            "zerolinecolor": "white"
           },
           "zaxis": {
            "backgroundcolor": "#E5ECF6",
            "gridcolor": "white",
            "gridwidth": 2,
            "linecolor": "white",
            "showbackground": true,
            "ticks": "",
            "zerolinecolor": "white"
           }
          },
          "shapedefaults": {
           "line": {
            "color": "#2a3f5f"
           }
          },
          "ternary": {
           "aaxis": {
            "gridcolor": "white",
            "linecolor": "white",
            "ticks": ""
           },
           "baxis": {
            "gridcolor": "white",
            "linecolor": "white",
            "ticks": ""
           },
           "bgcolor": "#E5ECF6",
           "caxis": {
            "gridcolor": "white",
            "linecolor": "white",
            "ticks": ""
           }
          },
          "title": {
           "x": 0.05
          },
          "xaxis": {
           "automargin": true,
           "gridcolor": "white",
           "linecolor": "white",
           "ticks": "",
           "title": {
            "standoff": 15
           },
           "zerolinecolor": "white",
           "zerolinewidth": 2
          },
          "yaxis": {
           "automargin": true,
           "gridcolor": "white",
           "linecolor": "white",
           "ticks": "",
           "title": {
            "standoff": 15
           },
           "zerolinecolor": "white",
           "zerolinewidth": 2
          }
         }
        },
        "title": {
         "text": "PC2 Loading per Feature"
        },
        "xaxis": {
         "tickfont": {
          "size": 14
         },
         "title": {
          "font": {
           "size": 16
          },
          "text": "Features"
         }
        },
        "yaxis": {
         "tickfont": {
          "size": 14
         },
         "title": {
          "font": {
           "size": 16
          },
          "text": "Loading Size"
         }
        }
       }
      },
      "text/html": [
       "<div>                            <div id=\"97f58c05-3e98-4fa6-b090-91759a4953e3\" class=\"plotly-graph-div\" style=\"height:525px; width:100%;\"></div>            <script type=\"text/javascript\">                require([\"plotly\"], function(Plotly) {                    window.PLOTLYENV=window.PLOTLYENV || {};                                    if (document.getElementById(\"97f58c05-3e98-4fa6-b090-91759a4953e3\")) {                    Plotly.newPlot(                        \"97f58c05-3e98-4fa6-b090-91759a4953e3\",                        [{\"marker\":{\"color\":\"#479B55\"},\"x\":[\"bpm\",\"nrgy\",\"dnce\",\"dB\",\"live\",\"val\",\"dur\",\"acous\",\"spch\"],\"y\":[0.04258400254529826,0.08336983043834247,-0.7742771818987061,0.04360117296148999,0.22833735876790323,-0.5425377137481553,0.5934992582499983,0.1555079117260054,-0.301970592615044],\"type\":\"bar\"}],                        {\"template\":{\"data\":{\"bar\":[{\"error_x\":{\"color\":\"#2a3f5f\"},\"error_y\":{\"color\":\"#2a3f5f\"},\"marker\":{\"line\":{\"color\":\"#E5ECF6\",\"width\":0.5},\"pattern\":{\"fillmode\":\"overlay\",\"size\":10,\"solidity\":0.2}},\"type\":\"bar\"}],\"barpolar\":[{\"marker\":{\"line\":{\"color\":\"#E5ECF6\",\"width\":0.5},\"pattern\":{\"fillmode\":\"overlay\",\"size\":10,\"solidity\":0.2}},\"type\":\"barpolar\"}],\"carpet\":[{\"aaxis\":{\"endlinecolor\":\"#2a3f5f\",\"gridcolor\":\"white\",\"linecolor\":\"white\",\"minorgridcolor\":\"white\",\"startlinecolor\":\"#2a3f5f\"},\"baxis\":{\"endlinecolor\":\"#2a3f5f\",\"gridcolor\":\"white\",\"linecolor\":\"white\",\"minorgridcolor\":\"white\",\"startlinecolor\":\"#2a3f5f\"},\"type\":\"carpet\"}],\"choropleth\":[{\"colorbar\":{\"outlinewidth\":0,\"ticks\":\"\"},\"type\":\"choropleth\"}],\"contour\":[{\"colorbar\":{\"outlinewidth\":0,\"ticks\":\"\"},\"colorscale\":[[0.0,\"#0d0887\"],[0.1111111111111111,\"#46039f\"],[0.2222222222222222,\"#7201a8\"],[0.3333333333333333,\"#9c179e\"],[0.4444444444444444,\"#bd3786\"],[0.5555555555555556,\"#d8576b\"],[0.6666666666666666,\"#ed7953\"],[0.7777777777777778,\"#fb9f3a\"],[0.8888888888888888,\"#fdca26\"],[1.0,\"#f0f921\"]],\"type\":\"contour\"}],\"contourcarpet\":[{\"colorbar\":{\"outlinewidth\":0,\"ticks\":\"\"},\"type\":\"contourcarpet\"}],\"heatmap\":[{\"colorbar\":{\"outlinewidth\":0,\"ticks\":\"\"},\"colorscale\":[[0.0,\"#0d0887\"],[0.1111111111111111,\"#46039f\"],[0.2222222222222222,\"#7201a8\"],[0.3333333333333333,\"#9c179e\"],[0.4444444444444444,\"#bd3786\"],[0.5555555555555556,\"#d8576b\"],[0.6666666666666666,\"#ed7953\"],[0.7777777777777778,\"#fb9f3a\"],[0.8888888888888888,\"#fdca26\"],[1.0,\"#f0f921\"]],\"type\":\"heatmap\"}],\"heatmapgl\":[{\"colorbar\":{\"outlinewidth\":0,\"ticks\":\"\"},\"colorscale\":[[0.0,\"#0d0887\"],[0.1111111111111111,\"#46039f\"],[0.2222222222222222,\"#7201a8\"],[0.3333333333333333,\"#9c179e\"],[0.4444444444444444,\"#bd3786\"],[0.5555555555555556,\"#d8576b\"],[0.6666666666666666,\"#ed7953\"],[0.7777777777777778,\"#fb9f3a\"],[0.8888888888888888,\"#fdca26\"],[1.0,\"#f0f921\"]],\"type\":\"heatmapgl\"}],\"histogram\":[{\"marker\":{\"pattern\":{\"fillmode\":\"overlay\",\"size\":10,\"solidity\":0.2}},\"type\":\"histogram\"}],\"histogram2d\":[{\"colorbar\":{\"outlinewidth\":0,\"ticks\":\"\"},\"colorscale\":[[0.0,\"#0d0887\"],[0.1111111111111111,\"#46039f\"],[0.2222222222222222,\"#7201a8\"],[0.3333333333333333,\"#9c179e\"],[0.4444444444444444,\"#bd3786\"],[0.5555555555555556,\"#d8576b\"],[0.6666666666666666,\"#ed7953\"],[0.7777777777777778,\"#fb9f3a\"],[0.8888888888888888,\"#fdca26\"],[1.0,\"#f0f921\"]],\"type\":\"histogram2d\"}],\"histogram2dcontour\":[{\"colorbar\":{\"outlinewidth\":0,\"ticks\":\"\"},\"colorscale\":[[0.0,\"#0d0887\"],[0.1111111111111111,\"#46039f\"],[0.2222222222222222,\"#7201a8\"],[0.3333333333333333,\"#9c179e\"],[0.4444444444444444,\"#bd3786\"],[0.5555555555555556,\"#d8576b\"],[0.6666666666666666,\"#ed7953\"],[0.7777777777777778,\"#fb9f3a\"],[0.8888888888888888,\"#fdca26\"],[1.0,\"#f0f921\"]],\"type\":\"histogram2dcontour\"}],\"mesh3d\":[{\"colorbar\":{\"outlinewidth\":0,\"ticks\":\"\"},\"type\":\"mesh3d\"}],\"parcoords\":[{\"line\":{\"colorbar\":{\"outlinewidth\":0,\"ticks\":\"\"}},\"type\":\"parcoords\"}],\"pie\":[{\"automargin\":true,\"type\":\"pie\"}],\"scatter\":[{\"marker\":{\"colorbar\":{\"outlinewidth\":0,\"ticks\":\"\"}},\"type\":\"scatter\"}],\"scatter3d\":[{\"line\":{\"colorbar\":{\"outlinewidth\":0,\"ticks\":\"\"}},\"marker\":{\"colorbar\":{\"outlinewidth\":0,\"ticks\":\"\"}},\"type\":\"scatter3d\"}],\"scattercarpet\":[{\"marker\":{\"colorbar\":{\"outlinewidth\":0,\"ticks\":\"\"}},\"type\":\"scattercarpet\"}],\"scattergeo\":[{\"marker\":{\"colorbar\":{\"outlinewidth\":0,\"ticks\":\"\"}},\"type\":\"scattergeo\"}],\"scattergl\":[{\"marker\":{\"colorbar\":{\"outlinewidth\":0,\"ticks\":\"\"}},\"type\":\"scattergl\"}],\"scattermapbox\":[{\"marker\":{\"colorbar\":{\"outlinewidth\":0,\"ticks\":\"\"}},\"type\":\"scattermapbox\"}],\"scatterpolar\":[{\"marker\":{\"colorbar\":{\"outlinewidth\":0,\"ticks\":\"\"}},\"type\":\"scatterpolar\"}],\"scatterpolargl\":[{\"marker\":{\"colorbar\":{\"outlinewidth\":0,\"ticks\":\"\"}},\"type\":\"scatterpolargl\"}],\"scatterternary\":[{\"marker\":{\"colorbar\":{\"outlinewidth\":0,\"ticks\":\"\"}},\"type\":\"scatterternary\"}],\"surface\":[{\"colorbar\":{\"outlinewidth\":0,\"ticks\":\"\"},\"colorscale\":[[0.0,\"#0d0887\"],[0.1111111111111111,\"#46039f\"],[0.2222222222222222,\"#7201a8\"],[0.3333333333333333,\"#9c179e\"],[0.4444444444444444,\"#bd3786\"],[0.5555555555555556,\"#d8576b\"],[0.6666666666666666,\"#ed7953\"],[0.7777777777777778,\"#fb9f3a\"],[0.8888888888888888,\"#fdca26\"],[1.0,\"#f0f921\"]],\"type\":\"surface\"}],\"table\":[{\"cells\":{\"fill\":{\"color\":\"#EBF0F8\"},\"line\":{\"color\":\"white\"}},\"header\":{\"fill\":{\"color\":\"#C8D4E3\"},\"line\":{\"color\":\"white\"}},\"type\":\"table\"}]},\"layout\":{\"annotationdefaults\":{\"arrowcolor\":\"#2a3f5f\",\"arrowhead\":0,\"arrowwidth\":1},\"autotypenumbers\":\"strict\",\"coloraxis\":{\"colorbar\":{\"outlinewidth\":0,\"ticks\":\"\"}},\"colorscale\":{\"diverging\":[[0,\"#8e0152\"],[0.1,\"#c51b7d\"],[0.2,\"#de77ae\"],[0.3,\"#f1b6da\"],[0.4,\"#fde0ef\"],[0.5,\"#f7f7f7\"],[0.6,\"#e6f5d0\"],[0.7,\"#b8e186\"],[0.8,\"#7fbc41\"],[0.9,\"#4d9221\"],[1,\"#276419\"]],\"sequential\":[[0.0,\"#0d0887\"],[0.1111111111111111,\"#46039f\"],[0.2222222222222222,\"#7201a8\"],[0.3333333333333333,\"#9c179e\"],[0.4444444444444444,\"#bd3786\"],[0.5555555555555556,\"#d8576b\"],[0.6666666666666666,\"#ed7953\"],[0.7777777777777778,\"#fb9f3a\"],[0.8888888888888888,\"#fdca26\"],[1.0,\"#f0f921\"]],\"sequentialminus\":[[0.0,\"#0d0887\"],[0.1111111111111111,\"#46039f\"],[0.2222222222222222,\"#7201a8\"],[0.3333333333333333,\"#9c179e\"],[0.4444444444444444,\"#bd3786\"],[0.5555555555555556,\"#d8576b\"],[0.6666666666666666,\"#ed7953\"],[0.7777777777777778,\"#fb9f3a\"],[0.8888888888888888,\"#fdca26\"],[1.0,\"#f0f921\"]]},\"colorway\":[\"#636efa\",\"#EF553B\",\"#00cc96\",\"#ab63fa\",\"#FFA15A\",\"#19d3f3\",\"#FF6692\",\"#B6E880\",\"#FF97FF\",\"#FECB52\"],\"font\":{\"color\":\"#2a3f5f\"},\"geo\":{\"bgcolor\":\"white\",\"lakecolor\":\"white\",\"landcolor\":\"#E5ECF6\",\"showlakes\":true,\"showland\":true,\"subunitcolor\":\"white\"},\"hoverlabel\":{\"align\":\"left\"},\"hovermode\":\"closest\",\"mapbox\":{\"style\":\"light\"},\"paper_bgcolor\":\"white\",\"plot_bgcolor\":\"#E5ECF6\",\"polar\":{\"angularaxis\":{\"gridcolor\":\"white\",\"linecolor\":\"white\",\"ticks\":\"\"},\"bgcolor\":\"#E5ECF6\",\"radialaxis\":{\"gridcolor\":\"white\",\"linecolor\":\"white\",\"ticks\":\"\"}},\"scene\":{\"xaxis\":{\"backgroundcolor\":\"#E5ECF6\",\"gridcolor\":\"white\",\"gridwidth\":2,\"linecolor\":\"white\",\"showbackground\":true,\"ticks\":\"\",\"zerolinecolor\":\"white\"},\"yaxis\":{\"backgroundcolor\":\"#E5ECF6\",\"gridcolor\":\"white\",\"gridwidth\":2,\"linecolor\":\"white\",\"showbackground\":true,\"ticks\":\"\",\"zerolinecolor\":\"white\"},\"zaxis\":{\"backgroundcolor\":\"#E5ECF6\",\"gridcolor\":\"white\",\"gridwidth\":2,\"linecolor\":\"white\",\"showbackground\":true,\"ticks\":\"\",\"zerolinecolor\":\"white\"}},\"shapedefaults\":{\"line\":{\"color\":\"#2a3f5f\"}},\"ternary\":{\"aaxis\":{\"gridcolor\":\"white\",\"linecolor\":\"white\",\"ticks\":\"\"},\"baxis\":{\"gridcolor\":\"white\",\"linecolor\":\"white\",\"ticks\":\"\"},\"bgcolor\":\"#E5ECF6\",\"caxis\":{\"gridcolor\":\"white\",\"linecolor\":\"white\",\"ticks\":\"\"}},\"title\":{\"x\":0.05},\"xaxis\":{\"automargin\":true,\"gridcolor\":\"white\",\"linecolor\":\"white\",\"ticks\":\"\",\"title\":{\"standoff\":15},\"zerolinecolor\":\"white\",\"zerolinewidth\":2},\"yaxis\":{\"automargin\":true,\"gridcolor\":\"white\",\"linecolor\":\"white\",\"ticks\":\"\",\"title\":{\"standoff\":15},\"zerolinecolor\":\"white\",\"zerolinewidth\":2}}},\"xaxis\":{\"title\":{\"text\":\"Features\",\"font\":{\"size\":16}},\"tickfont\":{\"size\":14}},\"yaxis\":{\"title\":{\"text\":\"Loading Size\",\"font\":{\"size\":16}},\"tickfont\":{\"size\":14}},\"title\":{\"text\":\"PC2 Loading per Feature\"}},                        {\"responsive\": true}                    ).then(function(){\n",
       "                            \n",
       "var gd = document.getElementById('97f58c05-3e98-4fa6-b090-91759a4953e3');\n",
       "var x = new MutationObserver(function (mutations, observer) {{\n",
       "        var display = window.getComputedStyle(gd).display;\n",
       "        if (!display || display === 'none') {{\n",
       "            console.log([gd, 'removed!']);\n",
       "            Plotly.purge(gd);\n",
       "            observer.disconnect();\n",
       "        }}\n",
       "}});\n",
       "\n",
       "// Listen for the removal of the full notebook cells\n",
       "var notebookContainer = gd.closest('#notebook-container');\n",
       "if (notebookContainer) {{\n",
       "    x.observe(notebookContainer, {childList: true});\n",
       "}}\n",
       "\n",
       "// Listen for the clearing of the current output cell\n",
       "var outputEl = gd.closest('.output');\n",
       "if (outputEl) {{\n",
       "    x.observe(outputEl, {childList: true});\n",
       "}}\n",
       "\n",
       "                        })                };                });            </script>        </div>"
      ]
     },
     "metadata": {},
     "output_type": "display_data"
    }
   ],
   "source": [
    "#PC2\n",
    "fig = go.Figure()\n",
    "fig.add_trace(go.Bar( y = loadings_df.iloc[:, 1], x = loadings_df.index, \n",
    "             marker_color='#479B55'))\n",
    "\n",
    "fig.update_layout(\n",
    "    title='PC2 Loading per Feature',\n",
    "    xaxis=dict(\n",
    "        title='Features',\n",
    "        titlefont_size=16,\n",
    "        tickfont_size=14,\n",
    "    ),\n",
    "    yaxis=dict(\n",
    "        title='Loading Size',\n",
    "        titlefont_size=16,\n",
    "        tickfont_size=14,\n",
    "    )\n",
    ")"
   ]
  },
  {
   "cell_type": "markdown",
   "id": "91a17e6d",
   "metadata": {},
   "source": [
    "### Scatter Plot for 2 PCA"
   ]
  },
  {
   "cell_type": "markdown",
   "id": "85d0a115",
   "metadata": {},
   "source": [
    "https://plotly.com/python/pca-visualization/"
   ]
  },
  {
   "cell_type": "code",
   "execution_count": 12,
   "id": "eac622d8",
   "metadata": {},
   "outputs": [
    {
     "data": {
      "application/vnd.plotly.v1+json": {
       "config": {
        "plotlyServerURL": "https://plot.ly"
       },
       "data": [
        {
         "hovertemplate": "color=dance pop<br>0=%{x}<br>1=%{y}<extra></extra>",
         "legendgroup": "dance pop",
         "marker": {
          "color": "#636efa",
          "symbol": "circle"
         },
         "mode": "markers",
         "name": "dance pop",
         "orientation": "v",
         "showlegend": true,
         "type": "scatter",
         "x": [
          -0.4017648908230388,
          -2.3844192847744243,
          0.056004286176590035,
          1.8437053377763724,
          1.4580003914875443,
          -0.7724491004625516,
          0.3871829304072873,
          -0.716341871727134,
          -1.4020708148838612,
          -2.222990387572483,
          -2.016348500631883,
          -1.3282521724973668,
          0.7007899545275796,
          0.5920155467370406,
          -0.5428670352112981,
          -1.134306500571565,
          -1.6841512940198098,
          -0.9944406038979876,
          -0.5663134518940504,
          -0.7037324472472841,
          -0.8942530841971031,
          -1.739343951954008,
          -0.5405872747133915,
          -0.7049329473999407,
          -1.7252177786988778,
          -1.3950315957190176,
          -2.306837658699596,
          -2.4614536419800417,
          -1.2947582777256441,
          -0.3160850314840131,
          -1.581919460559473,
          -1.3618394175942636,
          -1.8242028830772448,
          1.1230267348525589,
          0.8817245564776416,
          -1.1726949629603607,
          -1.7453803966334736,
          -1.4959131906559606,
          0.6675779301380471,
          0.5545091321059581,
          -2.5941505873974915,
          0.5965107189435165,
          -2.1019086911378873,
          -1.0933604840148636,
          0.08058595402987713,
          2.211825409565089,
          0.0058817762293852886,
          -0.08498185364443854,
          1.570930643173917,
          -0.25686485627306405,
          -0.6587653203263335,
          -3.3641875403730435,
          0.19206872328444294,
          -2.033672932964352,
          -0.4339697793983378,
          3.2833434816825027,
          -2.018055408044206,
          -1.7318008021312934,
          -0.7436171421348206,
          -0.9999130673466802,
          -1.927773157897002,
          -0.9712861089179504,
          -0.12781342933801712,
          -1.072864953253327,
          -0.4179742216487952,
          -1.4260231969623438,
          -2.4073640061885384,
          -0.9303574640791231,
          -1.7445027844348602,
          -1.0693353977188007,
          -1.1010919823271883,
          -1.2395063556714419,
          -0.4793254146696211,
          -1.314990378989599,
          1.028541350019064,
          -1.442028362122802,
          -1.532573251301607,
          0.5480038599239334,
          -0.5084222522814617,
          -1.6705815970626239,
          -2.4359662957612556,
          -0.9548142727480164,
          -2.208403036024198,
          0.631623885032702,
          -1.6910327656520652,
          -1.1919104127898872,
          -0.8331492845252687,
          -0.7423574994949119,
          -1.1462593260187235,
          -0.8673564462512101,
          0.006126499960024442,
          -1.5020663192951023,
          0.28516574896711955,
          -2.776317398935753,
          -2.5398622419405545,
          -2.4777118605590625,
          -2.1775402210032166,
          -0.9923649269047037,
          -1.272714715844217,
          -0.9591019593411108,
          -1.8090074507958498,
          -1.2890557756732623,
          -1.7264332980669865,
          -1.8348100370603992,
          -1.7463439074141085,
          -1.0537707366793656,
          -0.4297581255212051,
          -1.314990378989599,
          0.7324564038814629,
          -1.6189432790520004,
          -1.2759357643333806,
          -2.0256116880789303,
          -2.5322997836326757,
          -1.8130134364220372,
          -0.6349239264888314,
          -0.6148287235214126,
          -1.3983333084287228,
          -1.8965341030159093,
          -2.5539124739643397,
          -1.0630427572639907,
          4.169873552876903,
          1.1238096454098252,
          -0.3757379768331668,
          -0.6768596149155685,
          -1.4882847191951103,
          -0.856307957499346,
          -1.1554838298585048,
          -1.7062247400233512,
          -0.3071203114137308,
          -1.5020663192951023,
          4.728155315488061,
          -1.13352574788775,
          -1.3558540235056433,
          -0.48884652484981683,
          -1.7365222227980932,
          -1.3497584694570308,
          -0.5804126988494855,
          0.2981796121097645,
          -1.1185042191861445,
          -1.5830080736954708,
          0.1966832302366984,
          -1.3151189347657428,
          -0.8852087463326259,
          1.969903029968608,
          0.7620994358215839,
          -0.29857231466978335,
          5.050517492746965,
          -2.1113152586062287,
          1.4692549436833513,
          4.141357792791011,
          -0.6593458666583177,
          -0.005812726594895442,
          -1.8642595198878946,
          -1.062976760286437,
          -1.0874080918761369,
          -2.759666853342444,
          -0.7889570173735071,
          -0.4141826766401054,
          -1.1283047868916996,
          0.496345710997858,
          0.7252352323834639,
          -0.9602805904269908,
          -0.44763824197883817,
          -0.9208002028420547,
          -0.16308986687869118,
          -0.6853008560441892,
          1.6894944321986938,
          0.6462006465427733,
          -1.907756025415764,
          -1.6447358483329186,
          -1.8670879499592197,
          0.7128672225030873,
          -0.264554152119655,
          0.9442967395050579,
          0.06886293825620701,
          -0.6367806098642597,
          -0.3786107191602024,
          -0.9983052398791873,
          0.1966832302366984,
          0.7309002407572569,
          1.0340125253442536,
          -1.6397574174676612,
          3.706664227342791,
          0.43370477968747967,
          0.8631388469154084,
          -2.0849044190822092,
          -1.028348774595453,
          -0.9165476798429975,
          0.6359207931851201,
          -2.0534531591674314,
          -1.4622034149703942,
          -0.19226413626271469,
          -0.25757129699831194,
          -1.6355651005540293,
          -2.3131265628416178,
          2.5062374647205794,
          -0.9580942763051208,
          -1.680496013710507,
          -1.728838140240498,
          1.996387773048076,
          0.4549908616181071,
          -0.4708687524486705,
          -0.44763824197883817,
          -1.648234871220272,
          -0.6529582714946662,
          -0.39455484025263576,
          -0.9556853331926435,
          -1.309800193851566,
          0.19768194615948934,
          0.3685442794789465,
          -0.13597863653113532,
          -2.2991496179796473,
          -0.6367806098642597,
          0.7514726497936457,
          0.23249579105941925,
          -0.7388553414802336,
          -1.6404295325328988,
          -1.1225526157429673,
          -0.1613664327928692,
          -1.58497896644569,
          -1.8594188176443414,
          0.3556204775604808,
          -0.6786306278801431,
          -0.19226413626271469,
          -1.335108690282116,
          -1.183689055723827,
          0.24336385007154268,
          1.1612800551663847,
          0.2425944128270088,
          -0.21495002268990945,
          1.0720010599458403,
          0.9016844223632654,
          -1.540300557417713,
          3.55286353494576,
          1.996387773048076,
          -1.9343323517902866,
          2.836767234126566,
          -1.623888800433525,
          -0.11661632015755657,
          0.12624222988951736,
          -0.3454410014287444,
          0.07291681467417506,
          0.7822409621266241,
          -1.6335610903887172,
          -1.6597826139844474,
          2.81640521260281,
          0.836801880108681,
          2.3357919281304866,
          0.4763906667946791,
          -0.10916895056545202,
          -0.7675104471875465,
          0.20753421788850118,
          0.07569170664635681,
          -0.7631175456038313,
          -1.4963987826048477,
          -2.1343736178129915,
          0.6344844732750723,
          -0.9996148257245263,
          -0.7388553414802336,
          -2.306226700857661,
          0.45991737026022017,
          -0.9743282098582586,
          1.3575435715793545,
          -0.8344057896519509,
          -1.1729388258158402,
          -0.7921792118891084,
          0.6514561661498381,
          -1.9322627794437848,
          0.9400508672376071,
          0.05066430103234993,
          3.6594745830885826,
          0.5946367682648868,
          0.07514592410117261,
          -0.15388870219754544,
          0.32582714948676095,
          -0.21495002268990945,
          1.0720010599458403,
          -1.8440176295793524,
          -1.3934427174450272,
          1.3986047046085743,
          -0.7870556360413102,
          0.0542520987975691,
          -0.09116279776479946,
          -0.4376674029508486,
          -0.2727694001215935,
          -0.5097071413493691,
          -0.9847274758815557,
          -0.29066884690737704,
          -1.0444015485317906,
          -1.3546804897466835,
          -0.4240092889955365,
          0.6575251319063314,
          0.29485511752520616,
          0.8222296745597407,
          -0.41876198663001163,
          -0.10683307703904192,
          -0.9029754658153235,
          -1.0938593463037418,
          1.178242220037047,
          0.3183726354091517,
          1.0098052956601817,
          -1.3057612158483118,
          3.087414046023633,
          -0.10452118755718798,
          0.9255667178827816,
          3.1913359677214297,
          -1.4417492361697941,
          0.07160228754619043,
          0.5839668464988751,
          0.6034755841107423,
          -0.41556305496349827,
          0.1205348110349692,
          -0.017782320226537664,
          -2.0045381475457367,
          -1.4506128992484189,
          -1.4831674575944598,
          -0.01857374173687109,
          -0.8937553998529891,
          0.29485511752520616,
          1.7233561552393881,
          0.6031268647213409,
          0.4189967268311977,
          -0.11848657598759467,
          0.4002800120491607,
          -0.3402461184503914,
          0.9881001864326826,
          1.0282202167198198,
          -0.008058706107122268,
          -1.105354121541612,
          -1.0501127983278762,
          -0.4759715262789483,
          3.055360093154781,
          -0.9561254249288111,
          -0.5289738098222836,
          0.6248138886110264,
          1.1441418043754117,
          1.3407491226168473,
          1.5615572664675572,
          -0.9838048935826432,
          4.989189657457989,
          0.8549632570319047,
          0.44206487666246136,
          -1.1917856413207593,
          0.6998433203607308,
          1.787478152312936,
          -0.6063165304020887,
          -0.9309057361169738,
          1.6878936493769163,
          -0.7062463478630496,
          -1.4956895851241891,
          0.5165893063873191,
          0.3855205969538632,
          -0.40885436568043576,
          -1.7995075189522185,
          -0.3958135713139556,
          -0.6321964756267311,
          1.0983202368963576,
          -2.5457086622268803,
          -0.972533021363274,
          -0.5858074534980127,
          -1.1884255425455958
         ],
         "xaxis": "x",
         "y": [
          1.0391073940475184,
          -0.5318503581293428,
          1.197295566458657,
          0.6140042284385615,
          2.383174513387923,
          0.5059513940524519,
          1.1031671526892637,
          1.2773336111475884,
          0.8389636826355303,
          0.018874953959285477,
          0.08192001418218088,
          0.7689087474324118,
          -0.5689958643529315,
          0.2812250901187301,
          -0.010549014577925083,
          1.0554620779476553,
          -0.8848795093644446,
          -0.690676275130865,
          -1.6292132484719888,
          -0.055161410330468716,
          -0.09373795607592038,
          -0.7921515813637339,
          -1.7889965284112859,
          -0.7140328951313156,
          -0.45125873229003666,
          0.27459938562028546,
          -0.7063463195389913,
          1.5921760763347093,
          -1.0244435139852568,
          -1.2762405173953926,
          -0.286038229160228,
          -1.286957822950669,
          0.2810442587078365,
          1.552680738074764,
          1.2264058641435684,
          0.07424748771057377,
          0.8348139939144053,
          -0.3048557850427233,
          -0.3024670128102579,
          -0.10208910242957511,
          -0.031933325847424636,
          0.07358337490839592,
          -0.7991510435612369,
          1.0977252989198671,
          1.7117235712362358,
          0.3937394724372316,
          -0.519209491605225,
          0.4535960943843811,
          0.562785392650104,
          1.0182002321001071,
          -1.548874187136885,
          0.028760109510159265,
          -0.6718580034189335,
          -0.09338369672817219,
          1.208740380110212,
          3.4514770142474385,
          -0.37778048847485973,
          2.7223953803295,
          0.9671369612575874,
          1.1033539422680985,
          -0.33163012610360876,
          -0.881420743253199,
          0.09491071964639544,
          -0.26502539278870785,
          0.5380715527738609,
          0.6613006027205106,
          0.6681632761245895,
          0.26366606581007435,
          0.1365998057567274,
          -0.6478616074683038,
          -0.6077704140927926,
          -0.9251449591907671,
          0.5819378108033766,
          -1.3175330149634779,
          -0.341469225175773,
          -0.08646311618228966,
          -1.6138418888496013,
          0.41678322930810774,
          -0.6363054643710576,
          0.7685516301194413,
          0.40658595143675313,
          -2.091140423148563,
          -0.4530818046934294,
          1.0188492656184995,
          -0.586577831230134,
          0.3280292409820537,
          0.5348404536455234,
          1.858666722670564,
          0.9095035196405479,
          -0.17295231119790308,
          -1.7533612141537709,
          -0.4124881659574432,
          1.4207292279624832,
          -0.7967305916001495,
          -0.359201651269846,
          1.2364913047140442,
          0.5160657799584358,
          0.3612090369362459,
          0.3151220419278813,
          -0.503665898716713,
          0.2738481575741713,
          -0.14381927572665104,
          -1.148449881328074,
          -0.41604279054366194,
          -0.4403493355757428,
          -0.6349239127451735,
          1.0196561168220655,
          -1.3175330149634779,
          0.43414483951319544,
          -0.595947188502598,
          -0.528442541897983,
          -1.6285645074476098,
          0.830423994911526,
          1.6661969979043183,
          -1.1461098445471942,
          3.2615179732521358,
          0.7356904267905114,
          -1.0036621308533922,
          0.5993944631421695,
          0.7870666565633253,
          -1.8813532629552283,
          -0.6170871133615695,
          2.9408171110098773,
          -0.13914174737581586,
          -0.3070461995186192,
          0.983711682146796,
          1.2055664312545455,
          -0.8058001828485266,
          -0.23103965599507004,
          -0.4124881659574432,
          1.0781946049913933,
          -1.9805839923265036,
          0.509545783190625,
          0.6086758899479682,
          -0.2491001521636547,
          0.40134026403984735,
          -0.005531088315247998,
          2.1854817848895656,
          1.1574541362903237,
          -0.08392304110169722,
          -1.6109641136047075,
          0.8169472830447019,
          1.9989921331816518,
          3.7119170520080393,
          0.6902410943464178,
          -0.7942758900133864,
          2.808653074577405,
          0.08193909745672744,
          -1.3818314190531926,
          1.6957797933206402,
          1.1199770158778592,
          0.9301456885468266,
          -0.31356291278975124,
          0.7079601850926116,
          0.32223280760042106,
          -0.8148916049003448,
          2.673213280559803,
          1.262076701958677,
          0.739846993324534,
          0.32846265427017884,
          0.2595552644850414,
          1.3729181078481145,
          1.9501086099128533,
          -0.5169986958305863,
          0.6042678848133786,
          1.3237822213684185,
          0.7613302361652832,
          2.0367813666558323,
          0.24823904409290623,
          2.1104450538180894,
          0.5863627504498647,
          -0.474000448738166,
          0.4549605035997157,
          -0.3607637021488464,
          -0.10105833197891922,
          2.4040742760757285,
          -0.4444161652789461,
          0.4541929956075793,
          -1.6109641136047075,
          -1.2861538373148265,
          -0.14538482181091952,
          -0.2285931259687916,
          8.558931539568047,
          0.5562920299116488,
          -0.5088455930622646,
          -1.7455721317516073,
          -1.2487557138862102,
          0.5956208287233394,
          -1.3908441995638285,
          -0.3482273808035591,
          -1.5847636731959385,
          -0.3510290787638875,
          0.794934952447333,
          -0.33939595189551425,
          -0.0936360471648126,
          1.9174890756746639,
          -0.6907969309412777,
          1.4005187285883536,
          -1.6135383090605175,
          0.987324424838068,
          0.5891455874085534,
          -0.37711084561443486,
          1.9501086099128533,
          0.3594578623570279,
          0.9473021018153134,
          -0.6011948264282929,
          1.082514693976588,
          0.5118957818542351,
          -1.020801642707809,
          0.8990492565122027,
          0.6868582907718621,
          0.5956467131866834,
          2.4040742760757285,
          3.396367335479507,
          -0.3948236752703159,
          -0.7870945063635681,
          -0.5418728172124855,
          1.3839832153913307,
          1.1446416507189294,
          0.5252165288223491,
          -1.1989901929641102,
          -1.44037744925772,
          -1.1396431030337633,
          -0.3510290787638875,
          0.38870766156046543,
          0.11421136694639623,
          0.6891311108420655,
          -0.1457080618443779,
          2.079169494341383,
          0.5253542811630543,
          -0.737003139666654,
          1.162389958675824,
          0.17293456989231717,
          0.40666501182092823,
          0.987324424838068,
          0.4127055054097958,
          0.5899919097289527,
          1.3496925353250027,
          -1.4455129072461597,
          0.8548539569728811,
          -0.089562879736852,
          1.2179836045093564,
          0.14603805240325998,
          0.8740491998763965,
          -0.41986896230334525,
          0.4066606114208575,
          0.23412897034999594,
          0.6262629523337411,
          1.3903014643648606,
          -0.9659978976632275,
          1.1555069967858134,
          0.9695715646999029,
          1.1634242125680034,
          -1.1840842787877193,
          0.3682143250531685,
          -1.0462154073648893,
          -0.8381567424630152,
          -0.6729801389668477,
          -0.7870945063635681,
          -0.4982392173307288,
          -0.37168006865773023,
          -0.2998643044598065,
          0.4907175984106579,
          -0.09290664144192948,
          -0.7403238574147821,
          0.21534033456113916,
          1.956036266761556,
          0.7966571035173057,
          0.5233677317819606,
          -0.7216706715363944,
          1.3475929097225468,
          0.7802723420716718,
          0.7934326747979428,
          0.056342096380628356,
          2.226060527147825,
          0.5253542811630543,
          -0.737003139666654,
          -0.00529495266181429,
          0.2237362565920267,
          -0.05604138435032231,
          0.9230252755232701,
          0.6241156543717863,
          0.21563299496353672,
          -1.1536919833354886,
          1.2547916037944347,
          0.6522908661174469,
          0.27404115307941807,
          -1.7487760539824662,
          -0.78508302841438,
          -1.7157775333130654,
          0.5735766030262138,
          -0.02189937960233966,
          -1.050564565618924,
          -0.6607160709325482,
          0.20475290491423354,
          -1.345615955528097,
          0.6808565667077365,
          0.00939596527133699,
          -0.5163890708693278,
          0.2806556327069449,
          -1.189187256255064,
          0.41662453671670563,
          1.2610214619013183,
          1.2018680192931863,
          -1.6099524248875947,
          0.318254986470022,
          -0.013624678227179757,
          -0.04827328160798257,
          0.9010651677759531,
          0.8522779684754606,
          1.6611686681897573,
          0.914964609500492,
          0.3919743217023372,
          -1.0485863279794796,
          -1.1384938907033542,
          -0.7602746834247296,
          1.129644341058366,
          -0.27335818958217006,
          -1.050564565618924,
          -1.7828697001346976,
          -0.4971268884162869,
          -1.7414921629537643,
          -1.6986582177602452,
          -1.1617662898929149,
          0.30173578743143303,
          -1.0110481942834042,
          1.2239183777377893,
          1.7219213012317744,
          -0.8506902327314002,
          -0.47750110490572417,
          -0.1252590880086862,
          -0.6021620693655194,
          -1.0646623451360753,
          -0.7318278346711415,
          0.6147924126289375,
          0.4284009455674336,
          -0.056361872504145365,
          -0.754013788652171,
          -0.43308558424695864,
          -1.0282066707035449,
          0.0031555716338869623,
          -0.23373718015715772,
          0.04161851742498636,
          -0.9547424965933906,
          -1.7931767737775401,
          -0.5329082985789388,
          -1.3241169507592276,
          -0.4768510013602178,
          0.18711185201940478,
          -0.9768009539273138,
          0.8737108702248699,
          -0.3118688262067231,
          -0.4503690463925063,
          -0.011136266974209141,
          1.3869597792144306,
          -1.4027622105188884,
          1.8007859422167531,
          -0.27583907006404007,
          -2.3863106198493136,
          -0.4232911958962119,
          -1.2939908057394203
         ],
         "yaxis": "y"
        },
        {
         "hovertemplate": "color=hip hop<br>0=%{x}<br>1=%{y}<extra></extra>",
         "legendgroup": "hip hop",
         "marker": {
          "color": "#EF553B",
          "symbol": "circle"
         },
         "mode": "markers",
         "name": "hip hop",
         "orientation": "v",
         "showlegend": true,
         "type": "scatter",
         "x": [
          -0.7565785523174139,
          -0.09590383984588106,
          -1.9606043912245055,
          -1.6561810554382357,
          -0.63932966717222,
          0.18605216361199003,
          -0.9766253073673438,
          -1.296193592644942,
          -0.10299990899357508,
          0.41359555997377107,
          -2.026082514869154,
          -1.2838812191461957,
          0.21595990133399373,
          1.0243303343708021,
          -1.7355061413238964,
          0.2344871539762455,
          -0.5178008305746417,
          0.5162843887011884,
          2.461443093217044,
          1.626438272403164,
          -0.2391059933026176,
          0.8084079460251407,
          -0.7742871227265201,
          0.3004279319995984,
          -1.42817743851331,
          -1.4913991955314916,
          -2.7485026638082304,
          0.5162843887011884,
          -1.1691454246944042,
          2.713967891287517,
          2.351693056489257,
          -0.7170954985027513,
          2.398402436545919,
          0.7527900283611217,
          -1.2470285669554404,
          3.075719460061607,
          -0.8258389139819641,
          0.7473901081261619,
          1.3364234374979052,
          2.050919326752509,
          1.4724743462586884,
          -1.1796529241522162,
          -1.1592071605225336,
          1.272156099458559,
          1.5817297276148585,
          0.22998052521582082,
          0.03006583479248678,
          -0.4139775355315222,
          1.880342189698875,
          -0.1708011352342731,
          2.6659669313686845,
          1.1017732485159237,
          0.7420246878621432,
          0.5653906914898044,
          0.14169315937019192,
          0.5109411046116195,
          2.2582241076368077,
          0.3328932815639884,
          0.9407036833417228,
          2.5570768138053337,
          2.6659669313686845,
          2.9780145735529895,
          1.3175264210519775,
          3.507234334343913,
          -1.4873408753699626,
          1.5180486651189042,
          3.1165705492724847,
          3.50235332892682,
          1.4296283027020957,
          3.3834669325785414,
          3.511081905049953,
          2.3297674053356525,
          2.9417116115040534,
          0.8607102846993615,
          0.8616573872196046,
          1.4674703944464662,
          0.41658290225370187,
          2.429044846531932,
          0.46129995306580396,
          1.2124047775828715,
          0.9610171126147492,
          0.2779428190844628,
          0.8450322760572997,
          3.3045961747775263,
          0.8768543987073475,
          3.9684469135170297,
          -0.7135499762926764,
          0.7764565136272356,
          -2.022854422220599,
          1.058687906224459,
          1.1016170306488333,
          1.8832012718407094,
          2.183406300870433,
          -1.1865118675953583,
          0.6273377251183253,
          2.2627260436434327,
          0.7955298561063748,
          0.08883107468174156,
          0.8616573872196046,
          0.08500658097355208,
          3.2522475289897974,
          -0.7851543134925902,
          0.40458788522854444,
          0.7435207637596566,
          1.1973957253297522,
          -0.6862938492125372,
          0.47865392306839344,
          2.7087791608794904,
          -0.804135609653216,
          2.32635789546781,
          -0.2209564130578967,
          1.2435729200778396,
          0.555565808355181,
          1.8655748888271593,
          1.1666074486672262,
          3.8798474537125425,
          0.25018690151105294,
          0.8682227245357518,
          0.8412693803432557,
          1.3760706014844815,
          1.0804481149612162,
          1.4184162266760283,
          0.09490781049839067,
          -0.2209564130578967,
          1.3676617865302294,
          1.5676372143641972
         ],
         "xaxis": "x",
         "y": [
          -0.11988562700327783,
          0.42446201888618706,
          -0.4437698529206247,
          -0.28265370802952916,
          1.7560313352402668,
          -0.8126294309463155,
          0.3053688160522104,
          -0.6218097107556356,
          -0.25277824891585743,
          2.069269063727372,
          1.622759143188139,
          2.2717566734763714,
          -0.4410787586911728,
          -0.46388635348199797,
          -0.15661306742725783,
          1.0891872708688655,
          0.972701357124374,
          0.65380441487949,
          1.5620800854114953,
          0.7262386083798177,
          0.7830303470233003,
          0.5903182936847492,
          1.4619551880228825,
          1.0671879227511318,
          -0.6361896462423883,
          -1.0192450105734072,
          0.6124466796797152,
          0.65380441487949,
          -0.06848842395468933,
          0.7208720863889692,
          -1.4379942765484577,
          -1.2183138745119053,
          1.1706996526981208,
          3.077507885921015,
          -0.4516136467985085,
          1.0714741151025307,
          -0.057830668741418456,
          -1.6007802405770046,
          0.33074492902856567,
          -0.2341384412518848,
          -1.555361200967612,
          -0.24646882332173914,
          -0.7920294593518739,
          0.6089103639683557,
          2.299476098615997,
          0.5449627767445719,
          -1.1329104031566517,
          -0.30625824874318985,
          -0.8912738153200509,
          0.6210582150124521,
          -0.3707909320313866,
          -0.7312613165048162,
          -1.3735490441185447,
          -0.2496785215620703,
          -0.8440416224409724,
          0.7300332415558167,
          -1.1052295110528632,
          -1.5140262915540197,
          1.247048185620711,
          -0.7846640027764503,
          -0.3707909320313866,
          0.6526195841347582,
          0.06018657443204116,
          1.9408086744030126,
          1.1957575611100186,
          -1.233280007291468,
          -1.7280691933640977,
          -2.8899141634701304,
          -0.14170814264024603,
          0.5870768158148554,
          0.646501962178911,
          -2.1174699247742947,
          -1.407699743637264,
          -1.6025920728258132,
          -1.1157142052082567,
          -0.8278575753912442,
          -0.9864807547279303,
          1.5060193279083254,
          0.6822608618019216,
          0.5287456227710378,
          -0.9776401250041211,
          -0.7210181078828638,
          -1.0912936918107348,
          0.5642973213278585,
          0.7719973259371574,
          0.4391509516295648,
          -0.1124715853448199,
          0.02818191845988279,
          -2.0959713233879502,
          -2.4368541436920363,
          -0.7531135412971226,
          0.0015543867065755065,
          -1.0224324494140813,
          -0.01614162966569342,
          -0.2857438499130935,
          -1.6897093391790832,
          -1.7421222056646317,
          0.06125714386708871,
          -1.1157142052082567,
          -0.03751345631978523,
          -3.8036549444106886,
          0.2467633290781418,
          0.13408125036241667,
          -0.47324503118818734,
          0.527874135558552,
          -1.3404841415198896,
          0.4026174356130025,
          -1.6108678486201418,
          0.9950386037130684,
          -0.9504483356372688,
          0.19251252846779496,
          0.7566301785016424,
          -3.307351124277341,
          -0.9731705986984165,
          0.0017115034153260403,
          -1.2428324607271177,
          -2.0948888138946646,
          -2.6070799854860964,
          -0.9835430018297331,
          -1.3846256390882494,
          -2.5902391743424644,
          -1.106977788425682,
          -0.8161754893579374,
          0.19251252846779496,
          1.4643971168062846,
          -0.400090420782021
         ],
         "yaxis": "y"
        },
        {
         "hovertemplate": "color=rap<br>0=%{x}<br>1=%{y}<extra></extra>",
         "legendgroup": "rap",
         "marker": {
          "color": "#00cc96",
          "symbol": "circle"
         },
         "mode": "markers",
         "name": "rap",
         "orientation": "v",
         "showlegend": true,
         "type": "scatter",
         "x": [
          0.8623429397011643,
          -0.9561626754572766,
          -1.7784057192413059,
          2.4408890272395904,
          -0.31730368518021723,
          0.523043299267439,
          -1.1485111780082815,
          0.09116289140523737,
          1.197097187260698,
          2.241658861452659,
          1.7415424324086193,
          1.3667188488877522,
          0.022920049491109734,
          -0.8722457359498813,
          -0.885491254367688,
          -2.063030166229707,
          -1.2632142574254752,
          -0.5715672559370389,
          1.3667188488877522,
          3.1410211332098976,
          -0.17087516743193396,
          -0.5415618257673104,
          -0.8631602126020618,
          -0.7093597670128349,
          2.038926431187082,
          1.4498512588982386,
          1.2441546575386966,
          0.0559291163205162,
          -0.9032043605926443,
          0.37622838661163926,
          3.1410211332098976,
          3.24896654697089,
          2.2997727703452746,
          3.261682209952914,
          -0.9181405101081228,
          1.8705279369384251,
          0.21410777863209068,
          1.2508134466946237,
          1.2201452673388884,
          2.426764263966168,
          0.36391777053590846,
          0.826721678034895,
          1.53522656017471,
          4.498738937859284,
          2.931635044341901,
          0.2679681821499109,
          0.8991383196097242,
          4.473789623344413,
          -1.395910325009617,
          0.6333119119289773,
          0.38594703350446136,
          0.26392492587457267,
          0.971863934996817,
          0.8168554471251761,
          0.9320817028375672,
          1.7980300654161188,
          -0.9315454016262383,
          1.2201452673388884,
          0.54837574069476,
          1.7472614287595771,
          0.7354280312052422,
          -0.12252706186916253
         ],
         "xaxis": "x",
         "y": [
          -0.2724842102734355,
          2.6445652024763375,
          0.5291893240639282,
          1.242360005802258,
          0.9844868624484633,
          0.49393272645923825,
          1.9923089754303542,
          -0.8262657973848497,
          -0.08335081746677386,
          -1.0879550927403119,
          0.045455049358577165,
          -1.7618609102576142,
          0.05285376791134073,
          0.18925253075884385,
          0.04200891953188806,
          -0.6493908130549703,
          -0.3083995017192378,
          1.4744595879893434,
          -1.7618609102576142,
          -1.3862299367947166,
          -1.0489849918971947,
          -1.511661836723008,
          -1.94305985794818,
          -0.6519269325846563,
          1.5551679029861107,
          2.128281288683189,
          -2.7349092874475,
          -0.7759630550115495,
          0.8526374534095961,
          1.3740877674977854,
          -1.3862299367947166,
          -1.9628240215541861,
          -1.3140812105141721,
          -2.4203819423191546,
          -0.9537041211138622,
          1.9010244228103612,
          -1.2344038014136212,
          1.3689334989834647,
          0.8759947566490118,
          0.05301685335274467,
          0.3376974764193861,
          -0.8610678444392793,
          -2.2870542140371835,
          -0.6087906164369616,
          -0.05319628398892998,
          -0.25460555288705183,
          -0.6938571787721051,
          -2.65325163438195,
          -1.0790314735922668,
          0.016476103503847803,
          -0.4878363329823861,
          0.7693591638190149,
          -1.1384166056947742,
          -1.324877305090782,
          0.8286870926404862,
          -1.4480897898569225,
          0.057832813394385466,
          0.8759947566490118,
          -1.6953744258697636,
          -1.6985111977188576,
          1.3224838131667016,
          -2.904007383911169
         ],
         "yaxis": "y"
        }
       ],
       "layout": {
        "annotations": [
         {
          "ax": 0,
          "ay": 0,
          "text": "bpm",
          "x": -0.13644656919908038,
          "xanchor": "center",
          "y": 0.04258400254529826,
          "yanchor": "bottom"
         },
         {
          "ax": 0,
          "ay": 0,
          "text": "nrgy",
          "x": -0.9056899850773549,
          "xanchor": "center",
          "y": 0.08336983043834247,
          "yanchor": "bottom"
         },
         {
          "ax": 0,
          "ay": 0,
          "text": "dnce",
          "x": 0.22522728292997946,
          "xanchor": "center",
          "y": -0.7742771818987061,
          "yanchor": "bottom"
         },
         {
          "ax": 0,
          "ay": 0,
          "text": "dB",
          "x": -0.835939556782631,
          "xanchor": "center",
          "y": 0.04360117296148999,
          "yanchor": "bottom"
         },
         {
          "ax": 0,
          "ay": 0,
          "text": "live",
          "x": -0.26847758396527155,
          "xanchor": "center",
          "y": 0.22833735876790323,
          "yanchor": "bottom"
         },
         {
          "ax": 0,
          "ay": 0,
          "text": "val",
          "x": -0.5332677205685185,
          "xanchor": "center",
          "y": -0.5425377137481553,
          "yanchor": "bottom"
         },
         {
          "ax": 0,
          "ay": 0,
          "text": "dur",
          "x": 0.11766424514924125,
          "xanchor": "center",
          "y": 0.5934992582499983,
          "yanchor": "bottom"
         },
         {
          "ax": 0,
          "ay": 0,
          "text": "acous",
          "x": 0.4820649187482987,
          "xanchor": "center",
          "y": 0.1555079117260054,
          "yanchor": "bottom"
         },
         {
          "ax": 0,
          "ay": 0,
          "text": "spch",
          "x": 0.2671087446725094,
          "xanchor": "center",
          "y": -0.301970592615044,
          "yanchor": "bottom"
         }
        ],
        "legend": {
         "title": {
          "text": "color"
         },
         "tracegroupgap": 0
        },
        "shapes": [
         {
          "type": "line",
          "x0": 0,
          "x1": -0.13644656919908038,
          "y0": 0,
          "y1": 0.04258400254529826
         },
         {
          "type": "line",
          "x0": 0,
          "x1": -0.9056899850773549,
          "y0": 0,
          "y1": 0.08336983043834247
         },
         {
          "type": "line",
          "x0": 0,
          "x1": 0.22522728292997946,
          "y0": 0,
          "y1": -0.7742771818987061
         },
         {
          "type": "line",
          "x0": 0,
          "x1": -0.835939556782631,
          "y0": 0,
          "y1": 0.04360117296148999
         },
         {
          "type": "line",
          "x0": 0,
          "x1": -0.26847758396527155,
          "y0": 0,
          "y1": 0.22833735876790323
         },
         {
          "type": "line",
          "x0": 0,
          "x1": -0.5332677205685185,
          "y0": 0,
          "y1": -0.5425377137481553
         },
         {
          "type": "line",
          "x0": 0,
          "x1": 0.11766424514924125,
          "y0": 0,
          "y1": 0.5934992582499983
         },
         {
          "type": "line",
          "x0": 0,
          "x1": 0.4820649187482987,
          "y0": 0,
          "y1": 0.1555079117260054
         },
         {
          "type": "line",
          "x0": 0,
          "x1": 0.2671087446725094,
          "y0": 0,
          "y1": -0.301970592615044
         }
        ],
        "template": {
         "data": {
          "bar": [
           {
            "error_x": {
             "color": "#2a3f5f"
            },
            "error_y": {
             "color": "#2a3f5f"
            },
            "marker": {
             "line": {
              "color": "#E5ECF6",
              "width": 0.5
             },
             "pattern": {
              "fillmode": "overlay",
              "size": 10,
              "solidity": 0.2
             }
            },
            "type": "bar"
           }
          ],
          "barpolar": [
           {
            "marker": {
             "line": {
              "color": "#E5ECF6",
              "width": 0.5
             },
             "pattern": {
              "fillmode": "overlay",
              "size": 10,
              "solidity": 0.2
             }
            },
            "type": "barpolar"
           }
          ],
          "carpet": [
           {
            "aaxis": {
             "endlinecolor": "#2a3f5f",
             "gridcolor": "white",
             "linecolor": "white",
             "minorgridcolor": "white",
             "startlinecolor": "#2a3f5f"
            },
            "baxis": {
             "endlinecolor": "#2a3f5f",
             "gridcolor": "white",
             "linecolor": "white",
             "minorgridcolor": "white",
             "startlinecolor": "#2a3f5f"
            },
            "type": "carpet"
           }
          ],
          "choropleth": [
           {
            "colorbar": {
             "outlinewidth": 0,
             "ticks": ""
            },
            "type": "choropleth"
           }
          ],
          "contour": [
           {
            "colorbar": {
             "outlinewidth": 0,
             "ticks": ""
            },
            "colorscale": [
             [
              0,
              "#0d0887"
             ],
             [
              0.1111111111111111,
              "#46039f"
             ],
             [
              0.2222222222222222,
              "#7201a8"
             ],
             [
              0.3333333333333333,
              "#9c179e"
             ],
             [
              0.4444444444444444,
              "#bd3786"
             ],
             [
              0.5555555555555556,
              "#d8576b"
             ],
             [
              0.6666666666666666,
              "#ed7953"
             ],
             [
              0.7777777777777778,
              "#fb9f3a"
             ],
             [
              0.8888888888888888,
              "#fdca26"
             ],
             [
              1,
              "#f0f921"
             ]
            ],
            "type": "contour"
           }
          ],
          "contourcarpet": [
           {
            "colorbar": {
             "outlinewidth": 0,
             "ticks": ""
            },
            "type": "contourcarpet"
           }
          ],
          "heatmap": [
           {
            "colorbar": {
             "outlinewidth": 0,
             "ticks": ""
            },
            "colorscale": [
             [
              0,
              "#0d0887"
             ],
             [
              0.1111111111111111,
              "#46039f"
             ],
             [
              0.2222222222222222,
              "#7201a8"
             ],
             [
              0.3333333333333333,
              "#9c179e"
             ],
             [
              0.4444444444444444,
              "#bd3786"
             ],
             [
              0.5555555555555556,
              "#d8576b"
             ],
             [
              0.6666666666666666,
              "#ed7953"
             ],
             [
              0.7777777777777778,
              "#fb9f3a"
             ],
             [
              0.8888888888888888,
              "#fdca26"
             ],
             [
              1,
              "#f0f921"
             ]
            ],
            "type": "heatmap"
           }
          ],
          "heatmapgl": [
           {
            "colorbar": {
             "outlinewidth": 0,
             "ticks": ""
            },
            "colorscale": [
             [
              0,
              "#0d0887"
             ],
             [
              0.1111111111111111,
              "#46039f"
             ],
             [
              0.2222222222222222,
              "#7201a8"
             ],
             [
              0.3333333333333333,
              "#9c179e"
             ],
             [
              0.4444444444444444,
              "#bd3786"
             ],
             [
              0.5555555555555556,
              "#d8576b"
             ],
             [
              0.6666666666666666,
              "#ed7953"
             ],
             [
              0.7777777777777778,
              "#fb9f3a"
             ],
             [
              0.8888888888888888,
              "#fdca26"
             ],
             [
              1,
              "#f0f921"
             ]
            ],
            "type": "heatmapgl"
           }
          ],
          "histogram": [
           {
            "marker": {
             "pattern": {
              "fillmode": "overlay",
              "size": 10,
              "solidity": 0.2
             }
            },
            "type": "histogram"
           }
          ],
          "histogram2d": [
           {
            "colorbar": {
             "outlinewidth": 0,
             "ticks": ""
            },
            "colorscale": [
             [
              0,
              "#0d0887"
             ],
             [
              0.1111111111111111,
              "#46039f"
             ],
             [
              0.2222222222222222,
              "#7201a8"
             ],
             [
              0.3333333333333333,
              "#9c179e"
             ],
             [
              0.4444444444444444,
              "#bd3786"
             ],
             [
              0.5555555555555556,
              "#d8576b"
             ],
             [
              0.6666666666666666,
              "#ed7953"
             ],
             [
              0.7777777777777778,
              "#fb9f3a"
             ],
             [
              0.8888888888888888,
              "#fdca26"
             ],
             [
              1,
              "#f0f921"
             ]
            ],
            "type": "histogram2d"
           }
          ],
          "histogram2dcontour": [
           {
            "colorbar": {
             "outlinewidth": 0,
             "ticks": ""
            },
            "colorscale": [
             [
              0,
              "#0d0887"
             ],
             [
              0.1111111111111111,
              "#46039f"
             ],
             [
              0.2222222222222222,
              "#7201a8"
             ],
             [
              0.3333333333333333,
              "#9c179e"
             ],
             [
              0.4444444444444444,
              "#bd3786"
             ],
             [
              0.5555555555555556,
              "#d8576b"
             ],
             [
              0.6666666666666666,
              "#ed7953"
             ],
             [
              0.7777777777777778,
              "#fb9f3a"
             ],
             [
              0.8888888888888888,
              "#fdca26"
             ],
             [
              1,
              "#f0f921"
             ]
            ],
            "type": "histogram2dcontour"
           }
          ],
          "mesh3d": [
           {
            "colorbar": {
             "outlinewidth": 0,
             "ticks": ""
            },
            "type": "mesh3d"
           }
          ],
          "parcoords": [
           {
            "line": {
             "colorbar": {
              "outlinewidth": 0,
              "ticks": ""
             }
            },
            "type": "parcoords"
           }
          ],
          "pie": [
           {
            "automargin": true,
            "type": "pie"
           }
          ],
          "scatter": [
           {
            "marker": {
             "colorbar": {
              "outlinewidth": 0,
              "ticks": ""
             }
            },
            "type": "scatter"
           }
          ],
          "scatter3d": [
           {
            "line": {
             "colorbar": {
              "outlinewidth": 0,
              "ticks": ""
             }
            },
            "marker": {
             "colorbar": {
              "outlinewidth": 0,
              "ticks": ""
             }
            },
            "type": "scatter3d"
           }
          ],
          "scattercarpet": [
           {
            "marker": {
             "colorbar": {
              "outlinewidth": 0,
              "ticks": ""
             }
            },
            "type": "scattercarpet"
           }
          ],
          "scattergeo": [
           {
            "marker": {
             "colorbar": {
              "outlinewidth": 0,
              "ticks": ""
             }
            },
            "type": "scattergeo"
           }
          ],
          "scattergl": [
           {
            "marker": {
             "colorbar": {
              "outlinewidth": 0,
              "ticks": ""
             }
            },
            "type": "scattergl"
           }
          ],
          "scattermapbox": [
           {
            "marker": {
             "colorbar": {
              "outlinewidth": 0,
              "ticks": ""
             }
            },
            "type": "scattermapbox"
           }
          ],
          "scatterpolar": [
           {
            "marker": {
             "colorbar": {
              "outlinewidth": 0,
              "ticks": ""
             }
            },
            "type": "scatterpolar"
           }
          ],
          "scatterpolargl": [
           {
            "marker": {
             "colorbar": {
              "outlinewidth": 0,
              "ticks": ""
             }
            },
            "type": "scatterpolargl"
           }
          ],
          "scatterternary": [
           {
            "marker": {
             "colorbar": {
              "outlinewidth": 0,
              "ticks": ""
             }
            },
            "type": "scatterternary"
           }
          ],
          "surface": [
           {
            "colorbar": {
             "outlinewidth": 0,
             "ticks": ""
            },
            "colorscale": [
             [
              0,
              "#0d0887"
             ],
             [
              0.1111111111111111,
              "#46039f"
             ],
             [
              0.2222222222222222,
              "#7201a8"
             ],
             [
              0.3333333333333333,
              "#9c179e"
             ],
             [
              0.4444444444444444,
              "#bd3786"
             ],
             [
              0.5555555555555556,
              "#d8576b"
             ],
             [
              0.6666666666666666,
              "#ed7953"
             ],
             [
              0.7777777777777778,
              "#fb9f3a"
             ],
             [
              0.8888888888888888,
              "#fdca26"
             ],
             [
              1,
              "#f0f921"
             ]
            ],
            "type": "surface"
           }
          ],
          "table": [
           {
            "cells": {
             "fill": {
              "color": "#EBF0F8"
             },
             "line": {
              "color": "white"
             }
            },
            "header": {
             "fill": {
              "color": "#C8D4E3"
             },
             "line": {
              "color": "white"
             }
            },
            "type": "table"
           }
          ]
         },
         "layout": {
          "annotationdefaults": {
           "arrowcolor": "#2a3f5f",
           "arrowhead": 0,
           "arrowwidth": 1
          },
          "autotypenumbers": "strict",
          "coloraxis": {
           "colorbar": {
            "outlinewidth": 0,
            "ticks": ""
           }
          },
          "colorscale": {
           "diverging": [
            [
             0,
             "#8e0152"
            ],
            [
             0.1,
             "#c51b7d"
            ],
            [
             0.2,
             "#de77ae"
            ],
            [
             0.3,
             "#f1b6da"
            ],
            [
             0.4,
             "#fde0ef"
            ],
            [
             0.5,
             "#f7f7f7"
            ],
            [
             0.6,
             "#e6f5d0"
            ],
            [
             0.7,
             "#b8e186"
            ],
            [
             0.8,
             "#7fbc41"
            ],
            [
             0.9,
             "#4d9221"
            ],
            [
             1,
             "#276419"
            ]
           ],
           "sequential": [
            [
             0,
             "#0d0887"
            ],
            [
             0.1111111111111111,
             "#46039f"
            ],
            [
             0.2222222222222222,
             "#7201a8"
            ],
            [
             0.3333333333333333,
             "#9c179e"
            ],
            [
             0.4444444444444444,
             "#bd3786"
            ],
            [
             0.5555555555555556,
             "#d8576b"
            ],
            [
             0.6666666666666666,
             "#ed7953"
            ],
            [
             0.7777777777777778,
             "#fb9f3a"
            ],
            [
             0.8888888888888888,
             "#fdca26"
            ],
            [
             1,
             "#f0f921"
            ]
           ],
           "sequentialminus": [
            [
             0,
             "#0d0887"
            ],
            [
             0.1111111111111111,
             "#46039f"
            ],
            [
             0.2222222222222222,
             "#7201a8"
            ],
            [
             0.3333333333333333,
             "#9c179e"
            ],
            [
             0.4444444444444444,
             "#bd3786"
            ],
            [
             0.5555555555555556,
             "#d8576b"
            ],
            [
             0.6666666666666666,
             "#ed7953"
            ],
            [
             0.7777777777777778,
             "#fb9f3a"
            ],
            [
             0.8888888888888888,
             "#fdca26"
            ],
            [
             1,
             "#f0f921"
            ]
           ]
          },
          "colorway": [
           "#636efa",
           "#EF553B",
           "#00cc96",
           "#ab63fa",
           "#FFA15A",
           "#19d3f3",
           "#FF6692",
           "#B6E880",
           "#FF97FF",
           "#FECB52"
          ],
          "font": {
           "color": "#2a3f5f"
          },
          "geo": {
           "bgcolor": "white",
           "lakecolor": "white",
           "landcolor": "#E5ECF6",
           "showlakes": true,
           "showland": true,
           "subunitcolor": "white"
          },
          "hoverlabel": {
           "align": "left"
          },
          "hovermode": "closest",
          "mapbox": {
           "style": "light"
          },
          "paper_bgcolor": "white",
          "plot_bgcolor": "#E5ECF6",
          "polar": {
           "angularaxis": {
            "gridcolor": "white",
            "linecolor": "white",
            "ticks": ""
           },
           "bgcolor": "#E5ECF6",
           "radialaxis": {
            "gridcolor": "white",
            "linecolor": "white",
            "ticks": ""
           }
          },
          "scene": {
           "xaxis": {
            "backgroundcolor": "#E5ECF6",
            "gridcolor": "white",
            "gridwidth": 2,
            "linecolor": "white",
            "showbackground": true,
            "ticks": "",
            "zerolinecolor": "white"
           },
           "yaxis": {
            "backgroundcolor": "#E5ECF6",
            "gridcolor": "white",
            "gridwidth": 2,
            "linecolor": "white",
            "showbackground": true,
            "ticks": "",
            "zerolinecolor": "white"
           },
           "zaxis": {
            "backgroundcolor": "#E5ECF6",
            "gridcolor": "white",
            "gridwidth": 2,
            "linecolor": "white",
            "showbackground": true,
            "ticks": "",
            "zerolinecolor": "white"
           }
          },
          "shapedefaults": {
           "line": {
            "color": "#2a3f5f"
           }
          },
          "ternary": {
           "aaxis": {
            "gridcolor": "white",
            "linecolor": "white",
            "ticks": ""
           },
           "baxis": {
            "gridcolor": "white",
            "linecolor": "white",
            "ticks": ""
           },
           "bgcolor": "#E5ECF6",
           "caxis": {
            "gridcolor": "white",
            "linecolor": "white",
            "ticks": ""
           }
          },
          "title": {
           "x": 0.05
          },
          "xaxis": {
           "automargin": true,
           "gridcolor": "white",
           "linecolor": "white",
           "ticks": "",
           "title": {
            "standoff": 15
           },
           "zerolinecolor": "white",
           "zerolinewidth": 2
          },
          "yaxis": {
           "automargin": true,
           "gridcolor": "white",
           "linecolor": "white",
           "ticks": "",
           "title": {
            "standoff": 15
           },
           "zerolinecolor": "white",
           "zerolinewidth": 2
          }
         }
        },
        "title": {
         "text": "2D PCA Scatter Plot with Three Genre"
        },
        "xaxis": {
         "anchor": "y",
         "domain": [
          0,
          1
         ],
         "title": {
          "text": "0"
         }
        },
        "yaxis": {
         "anchor": "x",
         "domain": [
          0,
          1
         ],
         "title": {
          "text": "1"
         }
        }
       }
      },
      "text/html": [
       "<div>                            <div id=\"fb0a153f-aa0c-4c37-a2ac-5d160dc58305\" class=\"plotly-graph-div\" style=\"height:525px; width:100%;\"></div>            <script type=\"text/javascript\">                require([\"plotly\"], function(Plotly) {                    window.PLOTLYENV=window.PLOTLYENV || {};                                    if (document.getElementById(\"fb0a153f-aa0c-4c37-a2ac-5d160dc58305\")) {                    Plotly.newPlot(                        \"fb0a153f-aa0c-4c37-a2ac-5d160dc58305\",                        [{\"hovertemplate\":\"color=dance pop<br>0=%{x}<br>1=%{y}<extra></extra>\",\"legendgroup\":\"dance pop\",\"marker\":{\"color\":\"#636efa\",\"symbol\":\"circle\"},\"mode\":\"markers\",\"name\":\"dance pop\",\"orientation\":\"v\",\"showlegend\":true,\"x\":[-0.4017648908230388,-2.3844192847744243,0.056004286176590035,1.8437053377763724,1.4580003914875443,-0.7724491004625516,0.3871829304072873,-0.716341871727134,-1.4020708148838612,-2.222990387572483,-2.016348500631883,-1.3282521724973668,0.7007899545275796,0.5920155467370406,-0.5428670352112981,-1.134306500571565,-1.6841512940198098,-0.9944406038979876,-0.5663134518940504,-0.7037324472472841,-0.8942530841971031,-1.739343951954008,-0.5405872747133915,-0.7049329473999407,-1.7252177786988778,-1.3950315957190176,-2.306837658699596,-2.4614536419800417,-1.2947582777256441,-0.3160850314840131,-1.581919460559473,-1.3618394175942636,-1.8242028830772448,1.1230267348525589,0.8817245564776416,-1.1726949629603607,-1.7453803966334736,-1.4959131906559606,0.6675779301380471,0.5545091321059581,-2.5941505873974915,0.5965107189435165,-2.1019086911378873,-1.0933604840148636,0.08058595402987713,2.211825409565089,0.0058817762293852886,-0.08498185364443854,1.570930643173917,-0.25686485627306405,-0.6587653203263335,-3.3641875403730435,0.19206872328444294,-2.033672932964352,-0.4339697793983378,3.2833434816825027,-2.018055408044206,-1.7318008021312934,-0.7436171421348206,-0.9999130673466802,-1.927773157897002,-0.9712861089179504,-0.12781342933801712,-1.072864953253327,-0.4179742216487952,-1.4260231969623438,-2.4073640061885384,-0.9303574640791231,-1.7445027844348602,-1.0693353977188007,-1.1010919823271883,-1.2395063556714419,-0.4793254146696211,-1.314990378989599,1.028541350019064,-1.442028362122802,-1.532573251301607,0.5480038599239334,-0.5084222522814617,-1.6705815970626239,-2.4359662957612556,-0.9548142727480164,-2.208403036024198,0.631623885032702,-1.6910327656520652,-1.1919104127898872,-0.8331492845252687,-0.7423574994949119,-1.1462593260187235,-0.8673564462512101,0.006126499960024442,-1.5020663192951023,0.28516574896711955,-2.776317398935753,-2.5398622419405545,-2.4777118605590625,-2.1775402210032166,-0.9923649269047037,-1.272714715844217,-0.9591019593411108,-1.8090074507958498,-1.2890557756732623,-1.7264332980669865,-1.8348100370603992,-1.7463439074141085,-1.0537707366793656,-0.4297581255212051,-1.314990378989599,0.7324564038814629,-1.6189432790520004,-1.2759357643333806,-2.0256116880789303,-2.5322997836326757,-1.8130134364220372,-0.6349239264888314,-0.6148287235214126,-1.3983333084287228,-1.8965341030159093,-2.5539124739643397,-1.0630427572639907,4.169873552876903,1.1238096454098252,-0.3757379768331668,-0.6768596149155685,-1.4882847191951103,-0.856307957499346,-1.1554838298585048,-1.7062247400233512,-0.3071203114137308,-1.5020663192951023,4.728155315488061,-1.13352574788775,-1.3558540235056433,-0.48884652484981683,-1.7365222227980932,-1.3497584694570308,-0.5804126988494855,0.2981796121097645,-1.1185042191861445,-1.5830080736954708,0.1966832302366984,-1.3151189347657428,-0.8852087463326259,1.969903029968608,0.7620994358215839,-0.29857231466978335,5.050517492746965,-2.1113152586062287,1.4692549436833513,4.141357792791011,-0.6593458666583177,-0.005812726594895442,-1.8642595198878946,-1.062976760286437,-1.0874080918761369,-2.759666853342444,-0.7889570173735071,-0.4141826766401054,-1.1283047868916996,0.496345710997858,0.7252352323834639,-0.9602805904269908,-0.44763824197883817,-0.9208002028420547,-0.16308986687869118,-0.6853008560441892,1.6894944321986938,0.6462006465427733,-1.907756025415764,-1.6447358483329186,-1.8670879499592197,0.7128672225030873,-0.264554152119655,0.9442967395050579,0.06886293825620701,-0.6367806098642597,-0.3786107191602024,-0.9983052398791873,0.1966832302366984,0.7309002407572569,1.0340125253442536,-1.6397574174676612,3.706664227342791,0.43370477968747967,0.8631388469154084,-2.0849044190822092,-1.028348774595453,-0.9165476798429975,0.6359207931851201,-2.0534531591674314,-1.4622034149703942,-0.19226413626271469,-0.25757129699831194,-1.6355651005540293,-2.3131265628416178,2.5062374647205794,-0.9580942763051208,-1.680496013710507,-1.728838140240498,1.996387773048076,0.4549908616181071,-0.4708687524486705,-0.44763824197883817,-1.648234871220272,-0.6529582714946662,-0.39455484025263576,-0.9556853331926435,-1.309800193851566,0.19768194615948934,0.3685442794789465,-0.13597863653113532,-2.2991496179796473,-0.6367806098642597,0.7514726497936457,0.23249579105941925,-0.7388553414802336,-1.6404295325328988,-1.1225526157429673,-0.1613664327928692,-1.58497896644569,-1.8594188176443414,0.3556204775604808,-0.6786306278801431,-0.19226413626271469,-1.335108690282116,-1.183689055723827,0.24336385007154268,1.1612800551663847,0.2425944128270088,-0.21495002268990945,1.0720010599458403,0.9016844223632654,-1.540300557417713,3.55286353494576,1.996387773048076,-1.9343323517902866,2.836767234126566,-1.623888800433525,-0.11661632015755657,0.12624222988951736,-0.3454410014287444,0.07291681467417506,0.7822409621266241,-1.6335610903887172,-1.6597826139844474,2.81640521260281,0.836801880108681,2.3357919281304866,0.4763906667946791,-0.10916895056545202,-0.7675104471875465,0.20753421788850118,0.07569170664635681,-0.7631175456038313,-1.4963987826048477,-2.1343736178129915,0.6344844732750723,-0.9996148257245263,-0.7388553414802336,-2.306226700857661,0.45991737026022017,-0.9743282098582586,1.3575435715793545,-0.8344057896519509,-1.1729388258158402,-0.7921792118891084,0.6514561661498381,-1.9322627794437848,0.9400508672376071,0.05066430103234993,3.6594745830885826,0.5946367682648868,0.07514592410117261,-0.15388870219754544,0.32582714948676095,-0.21495002268990945,1.0720010599458403,-1.8440176295793524,-1.3934427174450272,1.3986047046085743,-0.7870556360413102,0.0542520987975691,-0.09116279776479946,-0.4376674029508486,-0.2727694001215935,-0.5097071413493691,-0.9847274758815557,-0.29066884690737704,-1.0444015485317906,-1.3546804897466835,-0.4240092889955365,0.6575251319063314,0.29485511752520616,0.8222296745597407,-0.41876198663001163,-0.10683307703904192,-0.9029754658153235,-1.0938593463037418,1.178242220037047,0.3183726354091517,1.0098052956601817,-1.3057612158483118,3.087414046023633,-0.10452118755718798,0.9255667178827816,3.1913359677214297,-1.4417492361697941,0.07160228754619043,0.5839668464988751,0.6034755841107423,-0.41556305496349827,0.1205348110349692,-0.017782320226537664,-2.0045381475457367,-1.4506128992484189,-1.4831674575944598,-0.01857374173687109,-0.8937553998529891,0.29485511752520616,1.7233561552393881,0.6031268647213409,0.4189967268311977,-0.11848657598759467,0.4002800120491607,-0.3402461184503914,0.9881001864326826,1.0282202167198198,-0.008058706107122268,-1.105354121541612,-1.0501127983278762,-0.4759715262789483,3.055360093154781,-0.9561254249288111,-0.5289738098222836,0.6248138886110264,1.1441418043754117,1.3407491226168473,1.5615572664675572,-0.9838048935826432,4.989189657457989,0.8549632570319047,0.44206487666246136,-1.1917856413207593,0.6998433203607308,1.787478152312936,-0.6063165304020887,-0.9309057361169738,1.6878936493769163,-0.7062463478630496,-1.4956895851241891,0.5165893063873191,0.3855205969538632,-0.40885436568043576,-1.7995075189522185,-0.3958135713139556,-0.6321964756267311,1.0983202368963576,-2.5457086622268803,-0.972533021363274,-0.5858074534980127,-1.1884255425455958],\"xaxis\":\"x\",\"y\":[1.0391073940475184,-0.5318503581293428,1.197295566458657,0.6140042284385615,2.383174513387923,0.5059513940524519,1.1031671526892637,1.2773336111475884,0.8389636826355303,0.018874953959285477,0.08192001418218088,0.7689087474324118,-0.5689958643529315,0.2812250901187301,-0.010549014577925083,1.0554620779476553,-0.8848795093644446,-0.690676275130865,-1.6292132484719888,-0.055161410330468716,-0.09373795607592038,-0.7921515813637339,-1.7889965284112859,-0.7140328951313156,-0.45125873229003666,0.27459938562028546,-0.7063463195389913,1.5921760763347093,-1.0244435139852568,-1.2762405173953926,-0.286038229160228,-1.286957822950669,0.2810442587078365,1.552680738074764,1.2264058641435684,0.07424748771057377,0.8348139939144053,-0.3048557850427233,-0.3024670128102579,-0.10208910242957511,-0.031933325847424636,0.07358337490839592,-0.7991510435612369,1.0977252989198671,1.7117235712362358,0.3937394724372316,-0.519209491605225,0.4535960943843811,0.562785392650104,1.0182002321001071,-1.548874187136885,0.028760109510159265,-0.6718580034189335,-0.09338369672817219,1.208740380110212,3.4514770142474385,-0.37778048847485973,2.7223953803295,0.9671369612575874,1.1033539422680985,-0.33163012610360876,-0.881420743253199,0.09491071964639544,-0.26502539278870785,0.5380715527738609,0.6613006027205106,0.6681632761245895,0.26366606581007435,0.1365998057567274,-0.6478616074683038,-0.6077704140927926,-0.9251449591907671,0.5819378108033766,-1.3175330149634779,-0.341469225175773,-0.08646311618228966,-1.6138418888496013,0.41678322930810774,-0.6363054643710576,0.7685516301194413,0.40658595143675313,-2.091140423148563,-0.4530818046934294,1.0188492656184995,-0.586577831230134,0.3280292409820537,0.5348404536455234,1.858666722670564,0.9095035196405479,-0.17295231119790308,-1.7533612141537709,-0.4124881659574432,1.4207292279624832,-0.7967305916001495,-0.359201651269846,1.2364913047140442,0.5160657799584358,0.3612090369362459,0.3151220419278813,-0.503665898716713,0.2738481575741713,-0.14381927572665104,-1.148449881328074,-0.41604279054366194,-0.4403493355757428,-0.6349239127451735,1.0196561168220655,-1.3175330149634779,0.43414483951319544,-0.595947188502598,-0.528442541897983,-1.6285645074476098,0.830423994911526,1.6661969979043183,-1.1461098445471942,3.2615179732521358,0.7356904267905114,-1.0036621308533922,0.5993944631421695,0.7870666565633253,-1.8813532629552283,-0.6170871133615695,2.9408171110098773,-0.13914174737581586,-0.3070461995186192,0.983711682146796,1.2055664312545455,-0.8058001828485266,-0.23103965599507004,-0.4124881659574432,1.0781946049913933,-1.9805839923265036,0.509545783190625,0.6086758899479682,-0.2491001521636547,0.40134026403984735,-0.005531088315247998,2.1854817848895656,1.1574541362903237,-0.08392304110169722,-1.6109641136047075,0.8169472830447019,1.9989921331816518,3.7119170520080393,0.6902410943464178,-0.7942758900133864,2.808653074577405,0.08193909745672744,-1.3818314190531926,1.6957797933206402,1.1199770158778592,0.9301456885468266,-0.31356291278975124,0.7079601850926116,0.32223280760042106,-0.8148916049003448,2.673213280559803,1.262076701958677,0.739846993324534,0.32846265427017884,0.2595552644850414,1.3729181078481145,1.9501086099128533,-0.5169986958305863,0.6042678848133786,1.3237822213684185,0.7613302361652832,2.0367813666558323,0.24823904409290623,2.1104450538180894,0.5863627504498647,-0.474000448738166,0.4549605035997157,-0.3607637021488464,-0.10105833197891922,2.4040742760757285,-0.4444161652789461,0.4541929956075793,-1.6109641136047075,-1.2861538373148265,-0.14538482181091952,-0.2285931259687916,8.558931539568047,0.5562920299116488,-0.5088455930622646,-1.7455721317516073,-1.2487557138862102,0.5956208287233394,-1.3908441995638285,-0.3482273808035591,-1.5847636731959385,-0.3510290787638875,0.794934952447333,-0.33939595189551425,-0.0936360471648126,1.9174890756746639,-0.6907969309412777,1.4005187285883536,-1.6135383090605175,0.987324424838068,0.5891455874085534,-0.37711084561443486,1.9501086099128533,0.3594578623570279,0.9473021018153134,-0.6011948264282929,1.082514693976588,0.5118957818542351,-1.020801642707809,0.8990492565122027,0.6868582907718621,0.5956467131866834,2.4040742760757285,3.396367335479507,-0.3948236752703159,-0.7870945063635681,-0.5418728172124855,1.3839832153913307,1.1446416507189294,0.5252165288223491,-1.1989901929641102,-1.44037744925772,-1.1396431030337633,-0.3510290787638875,0.38870766156046543,0.11421136694639623,0.6891311108420655,-0.1457080618443779,2.079169494341383,0.5253542811630543,-0.737003139666654,1.162389958675824,0.17293456989231717,0.40666501182092823,0.987324424838068,0.4127055054097958,0.5899919097289527,1.3496925353250027,-1.4455129072461597,0.8548539569728811,-0.089562879736852,1.2179836045093564,0.14603805240325998,0.8740491998763965,-0.41986896230334525,0.4066606114208575,0.23412897034999594,0.6262629523337411,1.3903014643648606,-0.9659978976632275,1.1555069967858134,0.9695715646999029,1.1634242125680034,-1.1840842787877193,0.3682143250531685,-1.0462154073648893,-0.8381567424630152,-0.6729801389668477,-0.7870945063635681,-0.4982392173307288,-0.37168006865773023,-0.2998643044598065,0.4907175984106579,-0.09290664144192948,-0.7403238574147821,0.21534033456113916,1.956036266761556,0.7966571035173057,0.5233677317819606,-0.7216706715363944,1.3475929097225468,0.7802723420716718,0.7934326747979428,0.056342096380628356,2.226060527147825,0.5253542811630543,-0.737003139666654,-0.00529495266181429,0.2237362565920267,-0.05604138435032231,0.9230252755232701,0.6241156543717863,0.21563299496353672,-1.1536919833354886,1.2547916037944347,0.6522908661174469,0.27404115307941807,-1.7487760539824662,-0.78508302841438,-1.7157775333130654,0.5735766030262138,-0.02189937960233966,-1.050564565618924,-0.6607160709325482,0.20475290491423354,-1.345615955528097,0.6808565667077365,0.00939596527133699,-0.5163890708693278,0.2806556327069449,-1.189187256255064,0.41662453671670563,1.2610214619013183,1.2018680192931863,-1.6099524248875947,0.318254986470022,-0.013624678227179757,-0.04827328160798257,0.9010651677759531,0.8522779684754606,1.6611686681897573,0.914964609500492,0.3919743217023372,-1.0485863279794796,-1.1384938907033542,-0.7602746834247296,1.129644341058366,-0.27335818958217006,-1.050564565618924,-1.7828697001346976,-0.4971268884162869,-1.7414921629537643,-1.6986582177602452,-1.1617662898929149,0.30173578743143303,-1.0110481942834042,1.2239183777377893,1.7219213012317744,-0.8506902327314002,-0.47750110490572417,-0.1252590880086862,-0.6021620693655194,-1.0646623451360753,-0.7318278346711415,0.6147924126289375,0.4284009455674336,-0.056361872504145365,-0.754013788652171,-0.43308558424695864,-1.0282066707035449,0.0031555716338869623,-0.23373718015715772,0.04161851742498636,-0.9547424965933906,-1.7931767737775401,-0.5329082985789388,-1.3241169507592276,-0.4768510013602178,0.18711185201940478,-0.9768009539273138,0.8737108702248699,-0.3118688262067231,-0.4503690463925063,-0.011136266974209141,1.3869597792144306,-1.4027622105188884,1.8007859422167531,-0.27583907006404007,-2.3863106198493136,-0.4232911958962119,-1.2939908057394203],\"yaxis\":\"y\",\"type\":\"scatter\"},{\"hovertemplate\":\"color=hip hop<br>0=%{x}<br>1=%{y}<extra></extra>\",\"legendgroup\":\"hip hop\",\"marker\":{\"color\":\"#EF553B\",\"symbol\":\"circle\"},\"mode\":\"markers\",\"name\":\"hip hop\",\"orientation\":\"v\",\"showlegend\":true,\"x\":[-0.7565785523174139,-0.09590383984588106,-1.9606043912245055,-1.6561810554382357,-0.63932966717222,0.18605216361199003,-0.9766253073673438,-1.296193592644942,-0.10299990899357508,0.41359555997377107,-2.026082514869154,-1.2838812191461957,0.21595990133399373,1.0243303343708021,-1.7355061413238964,0.2344871539762455,-0.5178008305746417,0.5162843887011884,2.461443093217044,1.626438272403164,-0.2391059933026176,0.8084079460251407,-0.7742871227265201,0.3004279319995984,-1.42817743851331,-1.4913991955314916,-2.7485026638082304,0.5162843887011884,-1.1691454246944042,2.713967891287517,2.351693056489257,-0.7170954985027513,2.398402436545919,0.7527900283611217,-1.2470285669554404,3.075719460061607,-0.8258389139819641,0.7473901081261619,1.3364234374979052,2.050919326752509,1.4724743462586884,-1.1796529241522162,-1.1592071605225336,1.272156099458559,1.5817297276148585,0.22998052521582082,0.03006583479248678,-0.4139775355315222,1.880342189698875,-0.1708011352342731,2.6659669313686845,1.1017732485159237,0.7420246878621432,0.5653906914898044,0.14169315937019192,0.5109411046116195,2.2582241076368077,0.3328932815639884,0.9407036833417228,2.5570768138053337,2.6659669313686845,2.9780145735529895,1.3175264210519775,3.507234334343913,-1.4873408753699626,1.5180486651189042,3.1165705492724847,3.50235332892682,1.4296283027020957,3.3834669325785414,3.511081905049953,2.3297674053356525,2.9417116115040534,0.8607102846993615,0.8616573872196046,1.4674703944464662,0.41658290225370187,2.429044846531932,0.46129995306580396,1.2124047775828715,0.9610171126147492,0.2779428190844628,0.8450322760572997,3.3045961747775263,0.8768543987073475,3.9684469135170297,-0.7135499762926764,0.7764565136272356,-2.022854422220599,1.058687906224459,1.1016170306488333,1.8832012718407094,2.183406300870433,-1.1865118675953583,0.6273377251183253,2.2627260436434327,0.7955298561063748,0.08883107468174156,0.8616573872196046,0.08500658097355208,3.2522475289897974,-0.7851543134925902,0.40458788522854444,0.7435207637596566,1.1973957253297522,-0.6862938492125372,0.47865392306839344,2.7087791608794904,-0.804135609653216,2.32635789546781,-0.2209564130578967,1.2435729200778396,0.555565808355181,1.8655748888271593,1.1666074486672262,3.8798474537125425,0.25018690151105294,0.8682227245357518,0.8412693803432557,1.3760706014844815,1.0804481149612162,1.4184162266760283,0.09490781049839067,-0.2209564130578967,1.3676617865302294,1.5676372143641972],\"xaxis\":\"x\",\"y\":[-0.11988562700327783,0.42446201888618706,-0.4437698529206247,-0.28265370802952916,1.7560313352402668,-0.8126294309463155,0.3053688160522104,-0.6218097107556356,-0.25277824891585743,2.069269063727372,1.622759143188139,2.2717566734763714,-0.4410787586911728,-0.46388635348199797,-0.15661306742725783,1.0891872708688655,0.972701357124374,0.65380441487949,1.5620800854114953,0.7262386083798177,0.7830303470233003,0.5903182936847492,1.4619551880228825,1.0671879227511318,-0.6361896462423883,-1.0192450105734072,0.6124466796797152,0.65380441487949,-0.06848842395468933,0.7208720863889692,-1.4379942765484577,-1.2183138745119053,1.1706996526981208,3.077507885921015,-0.4516136467985085,1.0714741151025307,-0.057830668741418456,-1.6007802405770046,0.33074492902856567,-0.2341384412518848,-1.555361200967612,-0.24646882332173914,-0.7920294593518739,0.6089103639683557,2.299476098615997,0.5449627767445719,-1.1329104031566517,-0.30625824874318985,-0.8912738153200509,0.6210582150124521,-0.3707909320313866,-0.7312613165048162,-1.3735490441185447,-0.2496785215620703,-0.8440416224409724,0.7300332415558167,-1.1052295110528632,-1.5140262915540197,1.247048185620711,-0.7846640027764503,-0.3707909320313866,0.6526195841347582,0.06018657443204116,1.9408086744030126,1.1957575611100186,-1.233280007291468,-1.7280691933640977,-2.8899141634701304,-0.14170814264024603,0.5870768158148554,0.646501962178911,-2.1174699247742947,-1.407699743637264,-1.6025920728258132,-1.1157142052082567,-0.8278575753912442,-0.9864807547279303,1.5060193279083254,0.6822608618019216,0.5287456227710378,-0.9776401250041211,-0.7210181078828638,-1.0912936918107348,0.5642973213278585,0.7719973259371574,0.4391509516295648,-0.1124715853448199,0.02818191845988279,-2.0959713233879502,-2.4368541436920363,-0.7531135412971226,0.0015543867065755065,-1.0224324494140813,-0.01614162966569342,-0.2857438499130935,-1.6897093391790832,-1.7421222056646317,0.06125714386708871,-1.1157142052082567,-0.03751345631978523,-3.8036549444106886,0.2467633290781418,0.13408125036241667,-0.47324503118818734,0.527874135558552,-1.3404841415198896,0.4026174356130025,-1.6108678486201418,0.9950386037130684,-0.9504483356372688,0.19251252846779496,0.7566301785016424,-3.307351124277341,-0.9731705986984165,0.0017115034153260403,-1.2428324607271177,-2.0948888138946646,-2.6070799854860964,-0.9835430018297331,-1.3846256390882494,-2.5902391743424644,-1.106977788425682,-0.8161754893579374,0.19251252846779496,1.4643971168062846,-0.400090420782021],\"yaxis\":\"y\",\"type\":\"scatter\"},{\"hovertemplate\":\"color=rap<br>0=%{x}<br>1=%{y}<extra></extra>\",\"legendgroup\":\"rap\",\"marker\":{\"color\":\"#00cc96\",\"symbol\":\"circle\"},\"mode\":\"markers\",\"name\":\"rap\",\"orientation\":\"v\",\"showlegend\":true,\"x\":[0.8623429397011643,-0.9561626754572766,-1.7784057192413059,2.4408890272395904,-0.31730368518021723,0.523043299267439,-1.1485111780082815,0.09116289140523737,1.197097187260698,2.241658861452659,1.7415424324086193,1.3667188488877522,0.022920049491109734,-0.8722457359498813,-0.885491254367688,-2.063030166229707,-1.2632142574254752,-0.5715672559370389,1.3667188488877522,3.1410211332098976,-0.17087516743193396,-0.5415618257673104,-0.8631602126020618,-0.7093597670128349,2.038926431187082,1.4498512588982386,1.2441546575386966,0.0559291163205162,-0.9032043605926443,0.37622838661163926,3.1410211332098976,3.24896654697089,2.2997727703452746,3.261682209952914,-0.9181405101081228,1.8705279369384251,0.21410777863209068,1.2508134466946237,1.2201452673388884,2.426764263966168,0.36391777053590846,0.826721678034895,1.53522656017471,4.498738937859284,2.931635044341901,0.2679681821499109,0.8991383196097242,4.473789623344413,-1.395910325009617,0.6333119119289773,0.38594703350446136,0.26392492587457267,0.971863934996817,0.8168554471251761,0.9320817028375672,1.7980300654161188,-0.9315454016262383,1.2201452673388884,0.54837574069476,1.7472614287595771,0.7354280312052422,-0.12252706186916253],\"xaxis\":\"x\",\"y\":[-0.2724842102734355,2.6445652024763375,0.5291893240639282,1.242360005802258,0.9844868624484633,0.49393272645923825,1.9923089754303542,-0.8262657973848497,-0.08335081746677386,-1.0879550927403119,0.045455049358577165,-1.7618609102576142,0.05285376791134073,0.18925253075884385,0.04200891953188806,-0.6493908130549703,-0.3083995017192378,1.4744595879893434,-1.7618609102576142,-1.3862299367947166,-1.0489849918971947,-1.511661836723008,-1.94305985794818,-0.6519269325846563,1.5551679029861107,2.128281288683189,-2.7349092874475,-0.7759630550115495,0.8526374534095961,1.3740877674977854,-1.3862299367947166,-1.9628240215541861,-1.3140812105141721,-2.4203819423191546,-0.9537041211138622,1.9010244228103612,-1.2344038014136212,1.3689334989834647,0.8759947566490118,0.05301685335274467,0.3376974764193861,-0.8610678444392793,-2.2870542140371835,-0.6087906164369616,-0.05319628398892998,-0.25460555288705183,-0.6938571787721051,-2.65325163438195,-1.0790314735922668,0.016476103503847803,-0.4878363329823861,0.7693591638190149,-1.1384166056947742,-1.324877305090782,0.8286870926404862,-1.4480897898569225,0.057832813394385466,0.8759947566490118,-1.6953744258697636,-1.6985111977188576,1.3224838131667016,-2.904007383911169],\"yaxis\":\"y\",\"type\":\"scatter\"}],                        {\"template\":{\"data\":{\"bar\":[{\"error_x\":{\"color\":\"#2a3f5f\"},\"error_y\":{\"color\":\"#2a3f5f\"},\"marker\":{\"line\":{\"color\":\"#E5ECF6\",\"width\":0.5},\"pattern\":{\"fillmode\":\"overlay\",\"size\":10,\"solidity\":0.2}},\"type\":\"bar\"}],\"barpolar\":[{\"marker\":{\"line\":{\"color\":\"#E5ECF6\",\"width\":0.5},\"pattern\":{\"fillmode\":\"overlay\",\"size\":10,\"solidity\":0.2}},\"type\":\"barpolar\"}],\"carpet\":[{\"aaxis\":{\"endlinecolor\":\"#2a3f5f\",\"gridcolor\":\"white\",\"linecolor\":\"white\",\"minorgridcolor\":\"white\",\"startlinecolor\":\"#2a3f5f\"},\"baxis\":{\"endlinecolor\":\"#2a3f5f\",\"gridcolor\":\"white\",\"linecolor\":\"white\",\"minorgridcolor\":\"white\",\"startlinecolor\":\"#2a3f5f\"},\"type\":\"carpet\"}],\"choropleth\":[{\"colorbar\":{\"outlinewidth\":0,\"ticks\":\"\"},\"type\":\"choropleth\"}],\"contour\":[{\"colorbar\":{\"outlinewidth\":0,\"ticks\":\"\"},\"colorscale\":[[0.0,\"#0d0887\"],[0.1111111111111111,\"#46039f\"],[0.2222222222222222,\"#7201a8\"],[0.3333333333333333,\"#9c179e\"],[0.4444444444444444,\"#bd3786\"],[0.5555555555555556,\"#d8576b\"],[0.6666666666666666,\"#ed7953\"],[0.7777777777777778,\"#fb9f3a\"],[0.8888888888888888,\"#fdca26\"],[1.0,\"#f0f921\"]],\"type\":\"contour\"}],\"contourcarpet\":[{\"colorbar\":{\"outlinewidth\":0,\"ticks\":\"\"},\"type\":\"contourcarpet\"}],\"heatmap\":[{\"colorbar\":{\"outlinewidth\":0,\"ticks\":\"\"},\"colorscale\":[[0.0,\"#0d0887\"],[0.1111111111111111,\"#46039f\"],[0.2222222222222222,\"#7201a8\"],[0.3333333333333333,\"#9c179e\"],[0.4444444444444444,\"#bd3786\"],[0.5555555555555556,\"#d8576b\"],[0.6666666666666666,\"#ed7953\"],[0.7777777777777778,\"#fb9f3a\"],[0.8888888888888888,\"#fdca26\"],[1.0,\"#f0f921\"]],\"type\":\"heatmap\"}],\"heatmapgl\":[{\"colorbar\":{\"outlinewidth\":0,\"ticks\":\"\"},\"colorscale\":[[0.0,\"#0d0887\"],[0.1111111111111111,\"#46039f\"],[0.2222222222222222,\"#7201a8\"],[0.3333333333333333,\"#9c179e\"],[0.4444444444444444,\"#bd3786\"],[0.5555555555555556,\"#d8576b\"],[0.6666666666666666,\"#ed7953\"],[0.7777777777777778,\"#fb9f3a\"],[0.8888888888888888,\"#fdca26\"],[1.0,\"#f0f921\"]],\"type\":\"heatmapgl\"}],\"histogram\":[{\"marker\":{\"pattern\":{\"fillmode\":\"overlay\",\"size\":10,\"solidity\":0.2}},\"type\":\"histogram\"}],\"histogram2d\":[{\"colorbar\":{\"outlinewidth\":0,\"ticks\":\"\"},\"colorscale\":[[0.0,\"#0d0887\"],[0.1111111111111111,\"#46039f\"],[0.2222222222222222,\"#7201a8\"],[0.3333333333333333,\"#9c179e\"],[0.4444444444444444,\"#bd3786\"],[0.5555555555555556,\"#d8576b\"],[0.6666666666666666,\"#ed7953\"],[0.7777777777777778,\"#fb9f3a\"],[0.8888888888888888,\"#fdca26\"],[1.0,\"#f0f921\"]],\"type\":\"histogram2d\"}],\"histogram2dcontour\":[{\"colorbar\":{\"outlinewidth\":0,\"ticks\":\"\"},\"colorscale\":[[0.0,\"#0d0887\"],[0.1111111111111111,\"#46039f\"],[0.2222222222222222,\"#7201a8\"],[0.3333333333333333,\"#9c179e\"],[0.4444444444444444,\"#bd3786\"],[0.5555555555555556,\"#d8576b\"],[0.6666666666666666,\"#ed7953\"],[0.7777777777777778,\"#fb9f3a\"],[0.8888888888888888,\"#fdca26\"],[1.0,\"#f0f921\"]],\"type\":\"histogram2dcontour\"}],\"mesh3d\":[{\"colorbar\":{\"outlinewidth\":0,\"ticks\":\"\"},\"type\":\"mesh3d\"}],\"parcoords\":[{\"line\":{\"colorbar\":{\"outlinewidth\":0,\"ticks\":\"\"}},\"type\":\"parcoords\"}],\"pie\":[{\"automargin\":true,\"type\":\"pie\"}],\"scatter\":[{\"marker\":{\"colorbar\":{\"outlinewidth\":0,\"ticks\":\"\"}},\"type\":\"scatter\"}],\"scatter3d\":[{\"line\":{\"colorbar\":{\"outlinewidth\":0,\"ticks\":\"\"}},\"marker\":{\"colorbar\":{\"outlinewidth\":0,\"ticks\":\"\"}},\"type\":\"scatter3d\"}],\"scattercarpet\":[{\"marker\":{\"colorbar\":{\"outlinewidth\":0,\"ticks\":\"\"}},\"type\":\"scattercarpet\"}],\"scattergeo\":[{\"marker\":{\"colorbar\":{\"outlinewidth\":0,\"ticks\":\"\"}},\"type\":\"scattergeo\"}],\"scattergl\":[{\"marker\":{\"colorbar\":{\"outlinewidth\":0,\"ticks\":\"\"}},\"type\":\"scattergl\"}],\"scattermapbox\":[{\"marker\":{\"colorbar\":{\"outlinewidth\":0,\"ticks\":\"\"}},\"type\":\"scattermapbox\"}],\"scatterpolar\":[{\"marker\":{\"colorbar\":{\"outlinewidth\":0,\"ticks\":\"\"}},\"type\":\"scatterpolar\"}],\"scatterpolargl\":[{\"marker\":{\"colorbar\":{\"outlinewidth\":0,\"ticks\":\"\"}},\"type\":\"scatterpolargl\"}],\"scatterternary\":[{\"marker\":{\"colorbar\":{\"outlinewidth\":0,\"ticks\":\"\"}},\"type\":\"scatterternary\"}],\"surface\":[{\"colorbar\":{\"outlinewidth\":0,\"ticks\":\"\"},\"colorscale\":[[0.0,\"#0d0887\"],[0.1111111111111111,\"#46039f\"],[0.2222222222222222,\"#7201a8\"],[0.3333333333333333,\"#9c179e\"],[0.4444444444444444,\"#bd3786\"],[0.5555555555555556,\"#d8576b\"],[0.6666666666666666,\"#ed7953\"],[0.7777777777777778,\"#fb9f3a\"],[0.8888888888888888,\"#fdca26\"],[1.0,\"#f0f921\"]],\"type\":\"surface\"}],\"table\":[{\"cells\":{\"fill\":{\"color\":\"#EBF0F8\"},\"line\":{\"color\":\"white\"}},\"header\":{\"fill\":{\"color\":\"#C8D4E3\"},\"line\":{\"color\":\"white\"}},\"type\":\"table\"}]},\"layout\":{\"annotationdefaults\":{\"arrowcolor\":\"#2a3f5f\",\"arrowhead\":0,\"arrowwidth\":1},\"autotypenumbers\":\"strict\",\"coloraxis\":{\"colorbar\":{\"outlinewidth\":0,\"ticks\":\"\"}},\"colorscale\":{\"diverging\":[[0,\"#8e0152\"],[0.1,\"#c51b7d\"],[0.2,\"#de77ae\"],[0.3,\"#f1b6da\"],[0.4,\"#fde0ef\"],[0.5,\"#f7f7f7\"],[0.6,\"#e6f5d0\"],[0.7,\"#b8e186\"],[0.8,\"#7fbc41\"],[0.9,\"#4d9221\"],[1,\"#276419\"]],\"sequential\":[[0.0,\"#0d0887\"],[0.1111111111111111,\"#46039f\"],[0.2222222222222222,\"#7201a8\"],[0.3333333333333333,\"#9c179e\"],[0.4444444444444444,\"#bd3786\"],[0.5555555555555556,\"#d8576b\"],[0.6666666666666666,\"#ed7953\"],[0.7777777777777778,\"#fb9f3a\"],[0.8888888888888888,\"#fdca26\"],[1.0,\"#f0f921\"]],\"sequentialminus\":[[0.0,\"#0d0887\"],[0.1111111111111111,\"#46039f\"],[0.2222222222222222,\"#7201a8\"],[0.3333333333333333,\"#9c179e\"],[0.4444444444444444,\"#bd3786\"],[0.5555555555555556,\"#d8576b\"],[0.6666666666666666,\"#ed7953\"],[0.7777777777777778,\"#fb9f3a\"],[0.8888888888888888,\"#fdca26\"],[1.0,\"#f0f921\"]]},\"colorway\":[\"#636efa\",\"#EF553B\",\"#00cc96\",\"#ab63fa\",\"#FFA15A\",\"#19d3f3\",\"#FF6692\",\"#B6E880\",\"#FF97FF\",\"#FECB52\"],\"font\":{\"color\":\"#2a3f5f\"},\"geo\":{\"bgcolor\":\"white\",\"lakecolor\":\"white\",\"landcolor\":\"#E5ECF6\",\"showlakes\":true,\"showland\":true,\"subunitcolor\":\"white\"},\"hoverlabel\":{\"align\":\"left\"},\"hovermode\":\"closest\",\"mapbox\":{\"style\":\"light\"},\"paper_bgcolor\":\"white\",\"plot_bgcolor\":\"#E5ECF6\",\"polar\":{\"angularaxis\":{\"gridcolor\":\"white\",\"linecolor\":\"white\",\"ticks\":\"\"},\"bgcolor\":\"#E5ECF6\",\"radialaxis\":{\"gridcolor\":\"white\",\"linecolor\":\"white\",\"ticks\":\"\"}},\"scene\":{\"xaxis\":{\"backgroundcolor\":\"#E5ECF6\",\"gridcolor\":\"white\",\"gridwidth\":2,\"linecolor\":\"white\",\"showbackground\":true,\"ticks\":\"\",\"zerolinecolor\":\"white\"},\"yaxis\":{\"backgroundcolor\":\"#E5ECF6\",\"gridcolor\":\"white\",\"gridwidth\":2,\"linecolor\":\"white\",\"showbackground\":true,\"ticks\":\"\",\"zerolinecolor\":\"white\"},\"zaxis\":{\"backgroundcolor\":\"#E5ECF6\",\"gridcolor\":\"white\",\"gridwidth\":2,\"linecolor\":\"white\",\"showbackground\":true,\"ticks\":\"\",\"zerolinecolor\":\"white\"}},\"shapedefaults\":{\"line\":{\"color\":\"#2a3f5f\"}},\"ternary\":{\"aaxis\":{\"gridcolor\":\"white\",\"linecolor\":\"white\",\"ticks\":\"\"},\"baxis\":{\"gridcolor\":\"white\",\"linecolor\":\"white\",\"ticks\":\"\"},\"bgcolor\":\"#E5ECF6\",\"caxis\":{\"gridcolor\":\"white\",\"linecolor\":\"white\",\"ticks\":\"\"}},\"title\":{\"x\":0.05},\"xaxis\":{\"automargin\":true,\"gridcolor\":\"white\",\"linecolor\":\"white\",\"ticks\":\"\",\"title\":{\"standoff\":15},\"zerolinecolor\":\"white\",\"zerolinewidth\":2},\"yaxis\":{\"automargin\":true,\"gridcolor\":\"white\",\"linecolor\":\"white\",\"ticks\":\"\",\"title\":{\"standoff\":15},\"zerolinecolor\":\"white\",\"zerolinewidth\":2}}},\"xaxis\":{\"anchor\":\"y\",\"domain\":[0.0,1.0],\"title\":{\"text\":\"0\"}},\"yaxis\":{\"anchor\":\"x\",\"domain\":[0.0,1.0],\"title\":{\"text\":\"1\"}},\"legend\":{\"title\":{\"text\":\"color\"},\"tracegroupgap\":0},\"title\":{\"text\":\"2D PCA Scatter Plot with Three Genre\"},\"shapes\":[{\"type\":\"line\",\"x0\":0,\"x1\":-0.13644656919908038,\"y0\":0,\"y1\":0.04258400254529826},{\"type\":\"line\",\"x0\":0,\"x1\":-0.9056899850773549,\"y0\":0,\"y1\":0.08336983043834247},{\"type\":\"line\",\"x0\":0,\"x1\":0.22522728292997946,\"y0\":0,\"y1\":-0.7742771818987061},{\"type\":\"line\",\"x0\":0,\"x1\":-0.835939556782631,\"y0\":0,\"y1\":0.04360117296148999},{\"type\":\"line\",\"x0\":0,\"x1\":-0.26847758396527155,\"y0\":0,\"y1\":0.22833735876790323},{\"type\":\"line\",\"x0\":0,\"x1\":-0.5332677205685185,\"y0\":0,\"y1\":-0.5425377137481553},{\"type\":\"line\",\"x0\":0,\"x1\":0.11766424514924125,\"y0\":0,\"y1\":0.5934992582499983},{\"type\":\"line\",\"x0\":0,\"x1\":0.4820649187482987,\"y0\":0,\"y1\":0.1555079117260054},{\"type\":\"line\",\"x0\":0,\"x1\":0.2671087446725094,\"y0\":0,\"y1\":-0.301970592615044}],\"annotations\":[{\"ax\":0,\"ay\":0,\"text\":\"bpm\",\"x\":-0.13644656919908038,\"xanchor\":\"center\",\"y\":0.04258400254529826,\"yanchor\":\"bottom\"},{\"ax\":0,\"ay\":0,\"text\":\"nrgy\",\"x\":-0.9056899850773549,\"xanchor\":\"center\",\"y\":0.08336983043834247,\"yanchor\":\"bottom\"},{\"ax\":0,\"ay\":0,\"text\":\"dnce\",\"x\":0.22522728292997946,\"xanchor\":\"center\",\"y\":-0.7742771818987061,\"yanchor\":\"bottom\"},{\"ax\":0,\"ay\":0,\"text\":\"dB\",\"x\":-0.835939556782631,\"xanchor\":\"center\",\"y\":0.04360117296148999,\"yanchor\":\"bottom\"},{\"ax\":0,\"ay\":0,\"text\":\"live\",\"x\":-0.26847758396527155,\"xanchor\":\"center\",\"y\":0.22833735876790323,\"yanchor\":\"bottom\"},{\"ax\":0,\"ay\":0,\"text\":\"val\",\"x\":-0.5332677205685185,\"xanchor\":\"center\",\"y\":-0.5425377137481553,\"yanchor\":\"bottom\"},{\"ax\":0,\"ay\":0,\"text\":\"dur\",\"x\":0.11766424514924125,\"xanchor\":\"center\",\"y\":0.5934992582499983,\"yanchor\":\"bottom\"},{\"ax\":0,\"ay\":0,\"text\":\"acous\",\"x\":0.4820649187482987,\"xanchor\":\"center\",\"y\":0.1555079117260054,\"yanchor\":\"bottom\"},{\"ax\":0,\"ay\":0,\"text\":\"spch\",\"x\":0.2671087446725094,\"xanchor\":\"center\",\"y\":-0.301970592615044,\"yanchor\":\"bottom\"}]},                        {\"responsive\": true}                    ).then(function(){\n",
       "                            \n",
       "var gd = document.getElementById('fb0a153f-aa0c-4c37-a2ac-5d160dc58305');\n",
       "var x = new MutationObserver(function (mutations, observer) {{\n",
       "        var display = window.getComputedStyle(gd).display;\n",
       "        if (!display || display === 'none') {{\n",
       "            console.log([gd, 'removed!']);\n",
       "            Plotly.purge(gd);\n",
       "            observer.disconnect();\n",
       "        }}\n",
       "}});\n",
       "\n",
       "// Listen for the removal of the full notebook cells\n",
       "var notebookContainer = gd.closest('#notebook-container');\n",
       "if (notebookContainer) {{\n",
       "    x.observe(notebookContainer, {childList: true});\n",
       "}}\n",
       "\n",
       "// Listen for the clearing of the current output cell\n",
       "var outputEl = gd.closest('.output');\n",
       "if (outputEl) {{\n",
       "    x.observe(outputEl, {childList: true});\n",
       "}}\n",
       "\n",
       "                        })                };                });            </script>        </div>"
      ]
     },
     "metadata": {},
     "output_type": "display_data"
    }
   ],
   "source": [
    "fig = px.scatter(principalComponents, x=0, y=1, color=fin_df['top genre new'], labels={\"x\": \"Features\", \"y\": \"Loadings\"}, \n",
    "                 title=\"2D PCA Scatter Plot with Three Genre\")\n",
    "\n",
    "for i, feature in enumerate(features):\n",
    "    fig.add_shape(\n",
    "        type='line',\n",
    "        x0=0, y0=0,\n",
    "        x1=loadings[i, 0],\n",
    "        y1=loadings[i, 1]\n",
    "    )\n",
    "    fig.add_annotation(\n",
    "        x=loadings[i, 0],\n",
    "        y=loadings[i, 1],\n",
    "        ax=0, ay=0,\n",
    "        xanchor=\"center\",\n",
    "        yanchor=\"bottom\",\n",
    "        text=feature,\n",
    "    )\n",
    "# fig.update_layout(\n",
    "#     title={\n",
    "#         'text': \"2D PCA Scatter Plot with Three Genre\"})    \n",
    "\n",
    "fig.show()\n"
   ]
  },
  {
   "cell_type": "markdown",
   "id": "cbe5392b",
   "metadata": {},
   "source": [
    "### Explained Variance Plot"
   ]
  },
  {
   "cell_type": "code",
   "execution_count": 26,
   "id": "a1e1482a",
   "metadata": {},
   "outputs": [
    {
     "data": {
      "application/vnd.plotly.v1+json": {
       "config": {
        "plotlyServerURL": "https://plot.ly"
       },
       "data": [
        {
         "hovertemplate": "# Components=%{x}<br>Explained Variance=%{y}<extra></extra>",
         "legendgroup": "",
         "line": {
          "color": "#636efa"
         },
         "marker": {
          "symbol": "circle"
         },
         "mode": "lines",
         "name": "",
         "orientation": "v",
         "showlegend": false,
         "stackgroup": "1",
         "type": "scatter",
         "x": [
          1,
          2,
          3,
          4,
          5,
          6,
          7,
          8,
          9
         ],
         "xaxis": "x",
         "y": [
          0.25092516333646586,
          0.4088886401276464,
          0.5489449654742358,
          0.6562572994631557,
          0.7505257358540598,
          0.8392841815227375,
          0.9152687539942933,
          0.973153091070183,
          1
         ],
         "yaxis": "y"
        }
       ],
       "layout": {
        "legend": {
         "tracegroupgap": 0
        },
        "template": {
         "data": {
          "bar": [
           {
            "error_x": {
             "color": "#2a3f5f"
            },
            "error_y": {
             "color": "#2a3f5f"
            },
            "marker": {
             "line": {
              "color": "#E5ECF6",
              "width": 0.5
             },
             "pattern": {
              "fillmode": "overlay",
              "size": 10,
              "solidity": 0.2
             }
            },
            "type": "bar"
           }
          ],
          "barpolar": [
           {
            "marker": {
             "line": {
              "color": "#E5ECF6",
              "width": 0.5
             },
             "pattern": {
              "fillmode": "overlay",
              "size": 10,
              "solidity": 0.2
             }
            },
            "type": "barpolar"
           }
          ],
          "carpet": [
           {
            "aaxis": {
             "endlinecolor": "#2a3f5f",
             "gridcolor": "white",
             "linecolor": "white",
             "minorgridcolor": "white",
             "startlinecolor": "#2a3f5f"
            },
            "baxis": {
             "endlinecolor": "#2a3f5f",
             "gridcolor": "white",
             "linecolor": "white",
             "minorgridcolor": "white",
             "startlinecolor": "#2a3f5f"
            },
            "type": "carpet"
           }
          ],
          "choropleth": [
           {
            "colorbar": {
             "outlinewidth": 0,
             "ticks": ""
            },
            "type": "choropleth"
           }
          ],
          "contour": [
           {
            "colorbar": {
             "outlinewidth": 0,
             "ticks": ""
            },
            "colorscale": [
             [
              0,
              "#0d0887"
             ],
             [
              0.1111111111111111,
              "#46039f"
             ],
             [
              0.2222222222222222,
              "#7201a8"
             ],
             [
              0.3333333333333333,
              "#9c179e"
             ],
             [
              0.4444444444444444,
              "#bd3786"
             ],
             [
              0.5555555555555556,
              "#d8576b"
             ],
             [
              0.6666666666666666,
              "#ed7953"
             ],
             [
              0.7777777777777778,
              "#fb9f3a"
             ],
             [
              0.8888888888888888,
              "#fdca26"
             ],
             [
              1,
              "#f0f921"
             ]
            ],
            "type": "contour"
           }
          ],
          "contourcarpet": [
           {
            "colorbar": {
             "outlinewidth": 0,
             "ticks": ""
            },
            "type": "contourcarpet"
           }
          ],
          "heatmap": [
           {
            "colorbar": {
             "outlinewidth": 0,
             "ticks": ""
            },
            "colorscale": [
             [
              0,
              "#0d0887"
             ],
             [
              0.1111111111111111,
              "#46039f"
             ],
             [
              0.2222222222222222,
              "#7201a8"
             ],
             [
              0.3333333333333333,
              "#9c179e"
             ],
             [
              0.4444444444444444,
              "#bd3786"
             ],
             [
              0.5555555555555556,
              "#d8576b"
             ],
             [
              0.6666666666666666,
              "#ed7953"
             ],
             [
              0.7777777777777778,
              "#fb9f3a"
             ],
             [
              0.8888888888888888,
              "#fdca26"
             ],
             [
              1,
              "#f0f921"
             ]
            ],
            "type": "heatmap"
           }
          ],
          "heatmapgl": [
           {
            "colorbar": {
             "outlinewidth": 0,
             "ticks": ""
            },
            "colorscale": [
             [
              0,
              "#0d0887"
             ],
             [
              0.1111111111111111,
              "#46039f"
             ],
             [
              0.2222222222222222,
              "#7201a8"
             ],
             [
              0.3333333333333333,
              "#9c179e"
             ],
             [
              0.4444444444444444,
              "#bd3786"
             ],
             [
              0.5555555555555556,
              "#d8576b"
             ],
             [
              0.6666666666666666,
              "#ed7953"
             ],
             [
              0.7777777777777778,
              "#fb9f3a"
             ],
             [
              0.8888888888888888,
              "#fdca26"
             ],
             [
              1,
              "#f0f921"
             ]
            ],
            "type": "heatmapgl"
           }
          ],
          "histogram": [
           {
            "marker": {
             "pattern": {
              "fillmode": "overlay",
              "size": 10,
              "solidity": 0.2
             }
            },
            "type": "histogram"
           }
          ],
          "histogram2d": [
           {
            "colorbar": {
             "outlinewidth": 0,
             "ticks": ""
            },
            "colorscale": [
             [
              0,
              "#0d0887"
             ],
             [
              0.1111111111111111,
              "#46039f"
             ],
             [
              0.2222222222222222,
              "#7201a8"
             ],
             [
              0.3333333333333333,
              "#9c179e"
             ],
             [
              0.4444444444444444,
              "#bd3786"
             ],
             [
              0.5555555555555556,
              "#d8576b"
             ],
             [
              0.6666666666666666,
              "#ed7953"
             ],
             [
              0.7777777777777778,
              "#fb9f3a"
             ],
             [
              0.8888888888888888,
              "#fdca26"
             ],
             [
              1,
              "#f0f921"
             ]
            ],
            "type": "histogram2d"
           }
          ],
          "histogram2dcontour": [
           {
            "colorbar": {
             "outlinewidth": 0,
             "ticks": ""
            },
            "colorscale": [
             [
              0,
              "#0d0887"
             ],
             [
              0.1111111111111111,
              "#46039f"
             ],
             [
              0.2222222222222222,
              "#7201a8"
             ],
             [
              0.3333333333333333,
              "#9c179e"
             ],
             [
              0.4444444444444444,
              "#bd3786"
             ],
             [
              0.5555555555555556,
              "#d8576b"
             ],
             [
              0.6666666666666666,
              "#ed7953"
             ],
             [
              0.7777777777777778,
              "#fb9f3a"
             ],
             [
              0.8888888888888888,
              "#fdca26"
             ],
             [
              1,
              "#f0f921"
             ]
            ],
            "type": "histogram2dcontour"
           }
          ],
          "mesh3d": [
           {
            "colorbar": {
             "outlinewidth": 0,
             "ticks": ""
            },
            "type": "mesh3d"
           }
          ],
          "parcoords": [
           {
            "line": {
             "colorbar": {
              "outlinewidth": 0,
              "ticks": ""
             }
            },
            "type": "parcoords"
           }
          ],
          "pie": [
           {
            "automargin": true,
            "type": "pie"
           }
          ],
          "scatter": [
           {
            "marker": {
             "colorbar": {
              "outlinewidth": 0,
              "ticks": ""
             }
            },
            "type": "scatter"
           }
          ],
          "scatter3d": [
           {
            "line": {
             "colorbar": {
              "outlinewidth": 0,
              "ticks": ""
             }
            },
            "marker": {
             "colorbar": {
              "outlinewidth": 0,
              "ticks": ""
             }
            },
            "type": "scatter3d"
           }
          ],
          "scattercarpet": [
           {
            "marker": {
             "colorbar": {
              "outlinewidth": 0,
              "ticks": ""
             }
            },
            "type": "scattercarpet"
           }
          ],
          "scattergeo": [
           {
            "marker": {
             "colorbar": {
              "outlinewidth": 0,
              "ticks": ""
             }
            },
            "type": "scattergeo"
           }
          ],
          "scattergl": [
           {
            "marker": {
             "colorbar": {
              "outlinewidth": 0,
              "ticks": ""
             }
            },
            "type": "scattergl"
           }
          ],
          "scattermapbox": [
           {
            "marker": {
             "colorbar": {
              "outlinewidth": 0,
              "ticks": ""
             }
            },
            "type": "scattermapbox"
           }
          ],
          "scatterpolar": [
           {
            "marker": {
             "colorbar": {
              "outlinewidth": 0,
              "ticks": ""
             }
            },
            "type": "scatterpolar"
           }
          ],
          "scatterpolargl": [
           {
            "marker": {
             "colorbar": {
              "outlinewidth": 0,
              "ticks": ""
             }
            },
            "type": "scatterpolargl"
           }
          ],
          "scatterternary": [
           {
            "marker": {
             "colorbar": {
              "outlinewidth": 0,
              "ticks": ""
             }
            },
            "type": "scatterternary"
           }
          ],
          "surface": [
           {
            "colorbar": {
             "outlinewidth": 0,
             "ticks": ""
            },
            "colorscale": [
             [
              0,
              "#0d0887"
             ],
             [
              0.1111111111111111,
              "#46039f"
             ],
             [
              0.2222222222222222,
              "#7201a8"
             ],
             [
              0.3333333333333333,
              "#9c179e"
             ],
             [
              0.4444444444444444,
              "#bd3786"
             ],
             [
              0.5555555555555556,
              "#d8576b"
             ],
             [
              0.6666666666666666,
              "#ed7953"
             ],
             [
              0.7777777777777778,
              "#fb9f3a"
             ],
             [
              0.8888888888888888,
              "#fdca26"
             ],
             [
              1,
              "#f0f921"
             ]
            ],
            "type": "surface"
           }
          ],
          "table": [
           {
            "cells": {
             "fill": {
              "color": "#EBF0F8"
             },
             "line": {
              "color": "white"
             }
            },
            "header": {
             "fill": {
              "color": "#C8D4E3"
             },
             "line": {
              "color": "white"
             }
            },
            "type": "table"
           }
          ]
         },
         "layout": {
          "annotationdefaults": {
           "arrowcolor": "#2a3f5f",
           "arrowhead": 0,
           "arrowwidth": 1
          },
          "autotypenumbers": "strict",
          "coloraxis": {
           "colorbar": {
            "outlinewidth": 0,
            "ticks": ""
           }
          },
          "colorscale": {
           "diverging": [
            [
             0,
             "#8e0152"
            ],
            [
             0.1,
             "#c51b7d"
            ],
            [
             0.2,
             "#de77ae"
            ],
            [
             0.3,
             "#f1b6da"
            ],
            [
             0.4,
             "#fde0ef"
            ],
            [
             0.5,
             "#f7f7f7"
            ],
            [
             0.6,
             "#e6f5d0"
            ],
            [
             0.7,
             "#b8e186"
            ],
            [
             0.8,
             "#7fbc41"
            ],
            [
             0.9,
             "#4d9221"
            ],
            [
             1,
             "#276419"
            ]
           ],
           "sequential": [
            [
             0,
             "#0d0887"
            ],
            [
             0.1111111111111111,
             "#46039f"
            ],
            [
             0.2222222222222222,
             "#7201a8"
            ],
            [
             0.3333333333333333,
             "#9c179e"
            ],
            [
             0.4444444444444444,
             "#bd3786"
            ],
            [
             0.5555555555555556,
             "#d8576b"
            ],
            [
             0.6666666666666666,
             "#ed7953"
            ],
            [
             0.7777777777777778,
             "#fb9f3a"
            ],
            [
             0.8888888888888888,
             "#fdca26"
            ],
            [
             1,
             "#f0f921"
            ]
           ],
           "sequentialminus": [
            [
             0,
             "#0d0887"
            ],
            [
             0.1111111111111111,
             "#46039f"
            ],
            [
             0.2222222222222222,
             "#7201a8"
            ],
            [
             0.3333333333333333,
             "#9c179e"
            ],
            [
             0.4444444444444444,
             "#bd3786"
            ],
            [
             0.5555555555555556,
             "#d8576b"
            ],
            [
             0.6666666666666666,
             "#ed7953"
            ],
            [
             0.7777777777777778,
             "#fb9f3a"
            ],
            [
             0.8888888888888888,
             "#fdca26"
            ],
            [
             1,
             "#f0f921"
            ]
           ]
          },
          "colorway": [
           "#636efa",
           "#EF553B",
           "#00cc96",
           "#ab63fa",
           "#FFA15A",
           "#19d3f3",
           "#FF6692",
           "#B6E880",
           "#FF97FF",
           "#FECB52"
          ],
          "font": {
           "color": "#2a3f5f"
          },
          "geo": {
           "bgcolor": "white",
           "lakecolor": "white",
           "landcolor": "#E5ECF6",
           "showlakes": true,
           "showland": true,
           "subunitcolor": "white"
          },
          "hoverlabel": {
           "align": "left"
          },
          "hovermode": "closest",
          "mapbox": {
           "style": "light"
          },
          "paper_bgcolor": "white",
          "plot_bgcolor": "#E5ECF6",
          "polar": {
           "angularaxis": {
            "gridcolor": "white",
            "linecolor": "white",
            "ticks": ""
           },
           "bgcolor": "#E5ECF6",
           "radialaxis": {
            "gridcolor": "white",
            "linecolor": "white",
            "ticks": ""
           }
          },
          "scene": {
           "xaxis": {
            "backgroundcolor": "#E5ECF6",
            "gridcolor": "white",
            "gridwidth": 2,
            "linecolor": "white",
            "showbackground": true,
            "ticks": "",
            "zerolinecolor": "white"
           },
           "yaxis": {
            "backgroundcolor": "#E5ECF6",
            "gridcolor": "white",
            "gridwidth": 2,
            "linecolor": "white",
            "showbackground": true,
            "ticks": "",
            "zerolinecolor": "white"
           },
           "zaxis": {
            "backgroundcolor": "#E5ECF6",
            "gridcolor": "white",
            "gridwidth": 2,
            "linecolor": "white",
            "showbackground": true,
            "ticks": "",
            "zerolinecolor": "white"
           }
          },
          "shapedefaults": {
           "line": {
            "color": "#2a3f5f"
           }
          },
          "ternary": {
           "aaxis": {
            "gridcolor": "white",
            "linecolor": "white",
            "ticks": ""
           },
           "baxis": {
            "gridcolor": "white",
            "linecolor": "white",
            "ticks": ""
           },
           "bgcolor": "#E5ECF6",
           "caxis": {
            "gridcolor": "white",
            "linecolor": "white",
            "ticks": ""
           }
          },
          "title": {
           "x": 0.05
          },
          "xaxis": {
           "automargin": true,
           "gridcolor": "white",
           "linecolor": "white",
           "ticks": "",
           "title": {
            "standoff": 15
           },
           "zerolinecolor": "white",
           "zerolinewidth": 2
          },
          "yaxis": {
           "automargin": true,
           "gridcolor": "white",
           "linecolor": "white",
           "ticks": "",
           "title": {
            "standoff": 15
           },
           "zerolinecolor": "white",
           "zerolinewidth": 2
          }
         }
        },
        "title": {
         "text": "The cumulative sum of explained variance"
        },
        "xaxis": {
         "anchor": "y",
         "domain": [
          0,
          1
         ],
         "title": {
          "text": "# Components"
         }
        },
        "yaxis": {
         "anchor": "x",
         "domain": [
          0,
          1
         ],
         "title": {
          "text": "Explained Variance"
         }
        }
       }
      },
      "text/html": [
       "<div>                            <div id=\"1b5a7006-627f-4093-a2ea-f4e4d8c4d164\" class=\"plotly-graph-div\" style=\"height:525px; width:100%;\"></div>            <script type=\"text/javascript\">                require([\"plotly\"], function(Plotly) {                    window.PLOTLYENV=window.PLOTLYENV || {};                                    if (document.getElementById(\"1b5a7006-627f-4093-a2ea-f4e4d8c4d164\")) {                    Plotly.newPlot(                        \"1b5a7006-627f-4093-a2ea-f4e4d8c4d164\",                        [{\"hovertemplate\":\"# Components=%{x}<br>Explained Variance=%{y}<extra></extra>\",\"legendgroup\":\"\",\"line\":{\"color\":\"#636efa\"},\"marker\":{\"symbol\":\"circle\"},\"mode\":\"lines\",\"name\":\"\",\"orientation\":\"v\",\"showlegend\":false,\"stackgroup\":\"1\",\"x\":[1,2,3,4,5,6,7,8,9],\"xaxis\":\"x\",\"y\":[0.25092516333646586,0.4088886401276464,0.5489449654742358,0.6562572994631557,0.7505257358540598,0.8392841815227375,0.9152687539942933,0.973153091070183,1.0],\"yaxis\":\"y\",\"type\":\"scatter\"}],                        {\"template\":{\"data\":{\"bar\":[{\"error_x\":{\"color\":\"#2a3f5f\"},\"error_y\":{\"color\":\"#2a3f5f\"},\"marker\":{\"line\":{\"color\":\"#E5ECF6\",\"width\":0.5},\"pattern\":{\"fillmode\":\"overlay\",\"size\":10,\"solidity\":0.2}},\"type\":\"bar\"}],\"barpolar\":[{\"marker\":{\"line\":{\"color\":\"#E5ECF6\",\"width\":0.5},\"pattern\":{\"fillmode\":\"overlay\",\"size\":10,\"solidity\":0.2}},\"type\":\"barpolar\"}],\"carpet\":[{\"aaxis\":{\"endlinecolor\":\"#2a3f5f\",\"gridcolor\":\"white\",\"linecolor\":\"white\",\"minorgridcolor\":\"white\",\"startlinecolor\":\"#2a3f5f\"},\"baxis\":{\"endlinecolor\":\"#2a3f5f\",\"gridcolor\":\"white\",\"linecolor\":\"white\",\"minorgridcolor\":\"white\",\"startlinecolor\":\"#2a3f5f\"},\"type\":\"carpet\"}],\"choropleth\":[{\"colorbar\":{\"outlinewidth\":0,\"ticks\":\"\"},\"type\":\"choropleth\"}],\"contour\":[{\"colorbar\":{\"outlinewidth\":0,\"ticks\":\"\"},\"colorscale\":[[0.0,\"#0d0887\"],[0.1111111111111111,\"#46039f\"],[0.2222222222222222,\"#7201a8\"],[0.3333333333333333,\"#9c179e\"],[0.4444444444444444,\"#bd3786\"],[0.5555555555555556,\"#d8576b\"],[0.6666666666666666,\"#ed7953\"],[0.7777777777777778,\"#fb9f3a\"],[0.8888888888888888,\"#fdca26\"],[1.0,\"#f0f921\"]],\"type\":\"contour\"}],\"contourcarpet\":[{\"colorbar\":{\"outlinewidth\":0,\"ticks\":\"\"},\"type\":\"contourcarpet\"}],\"heatmap\":[{\"colorbar\":{\"outlinewidth\":0,\"ticks\":\"\"},\"colorscale\":[[0.0,\"#0d0887\"],[0.1111111111111111,\"#46039f\"],[0.2222222222222222,\"#7201a8\"],[0.3333333333333333,\"#9c179e\"],[0.4444444444444444,\"#bd3786\"],[0.5555555555555556,\"#d8576b\"],[0.6666666666666666,\"#ed7953\"],[0.7777777777777778,\"#fb9f3a\"],[0.8888888888888888,\"#fdca26\"],[1.0,\"#f0f921\"]],\"type\":\"heatmap\"}],\"heatmapgl\":[{\"colorbar\":{\"outlinewidth\":0,\"ticks\":\"\"},\"colorscale\":[[0.0,\"#0d0887\"],[0.1111111111111111,\"#46039f\"],[0.2222222222222222,\"#7201a8\"],[0.3333333333333333,\"#9c179e\"],[0.4444444444444444,\"#bd3786\"],[0.5555555555555556,\"#d8576b\"],[0.6666666666666666,\"#ed7953\"],[0.7777777777777778,\"#fb9f3a\"],[0.8888888888888888,\"#fdca26\"],[1.0,\"#f0f921\"]],\"type\":\"heatmapgl\"}],\"histogram\":[{\"marker\":{\"pattern\":{\"fillmode\":\"overlay\",\"size\":10,\"solidity\":0.2}},\"type\":\"histogram\"}],\"histogram2d\":[{\"colorbar\":{\"outlinewidth\":0,\"ticks\":\"\"},\"colorscale\":[[0.0,\"#0d0887\"],[0.1111111111111111,\"#46039f\"],[0.2222222222222222,\"#7201a8\"],[0.3333333333333333,\"#9c179e\"],[0.4444444444444444,\"#bd3786\"],[0.5555555555555556,\"#d8576b\"],[0.6666666666666666,\"#ed7953\"],[0.7777777777777778,\"#fb9f3a\"],[0.8888888888888888,\"#fdca26\"],[1.0,\"#f0f921\"]],\"type\":\"histogram2d\"}],\"histogram2dcontour\":[{\"colorbar\":{\"outlinewidth\":0,\"ticks\":\"\"},\"colorscale\":[[0.0,\"#0d0887\"],[0.1111111111111111,\"#46039f\"],[0.2222222222222222,\"#7201a8\"],[0.3333333333333333,\"#9c179e\"],[0.4444444444444444,\"#bd3786\"],[0.5555555555555556,\"#d8576b\"],[0.6666666666666666,\"#ed7953\"],[0.7777777777777778,\"#fb9f3a\"],[0.8888888888888888,\"#fdca26\"],[1.0,\"#f0f921\"]],\"type\":\"histogram2dcontour\"}],\"mesh3d\":[{\"colorbar\":{\"outlinewidth\":0,\"ticks\":\"\"},\"type\":\"mesh3d\"}],\"parcoords\":[{\"line\":{\"colorbar\":{\"outlinewidth\":0,\"ticks\":\"\"}},\"type\":\"parcoords\"}],\"pie\":[{\"automargin\":true,\"type\":\"pie\"}],\"scatter\":[{\"marker\":{\"colorbar\":{\"outlinewidth\":0,\"ticks\":\"\"}},\"type\":\"scatter\"}],\"scatter3d\":[{\"line\":{\"colorbar\":{\"outlinewidth\":0,\"ticks\":\"\"}},\"marker\":{\"colorbar\":{\"outlinewidth\":0,\"ticks\":\"\"}},\"type\":\"scatter3d\"}],\"scattercarpet\":[{\"marker\":{\"colorbar\":{\"outlinewidth\":0,\"ticks\":\"\"}},\"type\":\"scattercarpet\"}],\"scattergeo\":[{\"marker\":{\"colorbar\":{\"outlinewidth\":0,\"ticks\":\"\"}},\"type\":\"scattergeo\"}],\"scattergl\":[{\"marker\":{\"colorbar\":{\"outlinewidth\":0,\"ticks\":\"\"}},\"type\":\"scattergl\"}],\"scattermapbox\":[{\"marker\":{\"colorbar\":{\"outlinewidth\":0,\"ticks\":\"\"}},\"type\":\"scattermapbox\"}],\"scatterpolar\":[{\"marker\":{\"colorbar\":{\"outlinewidth\":0,\"ticks\":\"\"}},\"type\":\"scatterpolar\"}],\"scatterpolargl\":[{\"marker\":{\"colorbar\":{\"outlinewidth\":0,\"ticks\":\"\"}},\"type\":\"scatterpolargl\"}],\"scatterternary\":[{\"marker\":{\"colorbar\":{\"outlinewidth\":0,\"ticks\":\"\"}},\"type\":\"scatterternary\"}],\"surface\":[{\"colorbar\":{\"outlinewidth\":0,\"ticks\":\"\"},\"colorscale\":[[0.0,\"#0d0887\"],[0.1111111111111111,\"#46039f\"],[0.2222222222222222,\"#7201a8\"],[0.3333333333333333,\"#9c179e\"],[0.4444444444444444,\"#bd3786\"],[0.5555555555555556,\"#d8576b\"],[0.6666666666666666,\"#ed7953\"],[0.7777777777777778,\"#fb9f3a\"],[0.8888888888888888,\"#fdca26\"],[1.0,\"#f0f921\"]],\"type\":\"surface\"}],\"table\":[{\"cells\":{\"fill\":{\"color\":\"#EBF0F8\"},\"line\":{\"color\":\"white\"}},\"header\":{\"fill\":{\"color\":\"#C8D4E3\"},\"line\":{\"color\":\"white\"}},\"type\":\"table\"}]},\"layout\":{\"annotationdefaults\":{\"arrowcolor\":\"#2a3f5f\",\"arrowhead\":0,\"arrowwidth\":1},\"autotypenumbers\":\"strict\",\"coloraxis\":{\"colorbar\":{\"outlinewidth\":0,\"ticks\":\"\"}},\"colorscale\":{\"diverging\":[[0,\"#8e0152\"],[0.1,\"#c51b7d\"],[0.2,\"#de77ae\"],[0.3,\"#f1b6da\"],[0.4,\"#fde0ef\"],[0.5,\"#f7f7f7\"],[0.6,\"#e6f5d0\"],[0.7,\"#b8e186\"],[0.8,\"#7fbc41\"],[0.9,\"#4d9221\"],[1,\"#276419\"]],\"sequential\":[[0.0,\"#0d0887\"],[0.1111111111111111,\"#46039f\"],[0.2222222222222222,\"#7201a8\"],[0.3333333333333333,\"#9c179e\"],[0.4444444444444444,\"#bd3786\"],[0.5555555555555556,\"#d8576b\"],[0.6666666666666666,\"#ed7953\"],[0.7777777777777778,\"#fb9f3a\"],[0.8888888888888888,\"#fdca26\"],[1.0,\"#f0f921\"]],\"sequentialminus\":[[0.0,\"#0d0887\"],[0.1111111111111111,\"#46039f\"],[0.2222222222222222,\"#7201a8\"],[0.3333333333333333,\"#9c179e\"],[0.4444444444444444,\"#bd3786\"],[0.5555555555555556,\"#d8576b\"],[0.6666666666666666,\"#ed7953\"],[0.7777777777777778,\"#fb9f3a\"],[0.8888888888888888,\"#fdca26\"],[1.0,\"#f0f921\"]]},\"colorway\":[\"#636efa\",\"#EF553B\",\"#00cc96\",\"#ab63fa\",\"#FFA15A\",\"#19d3f3\",\"#FF6692\",\"#B6E880\",\"#FF97FF\",\"#FECB52\"],\"font\":{\"color\":\"#2a3f5f\"},\"geo\":{\"bgcolor\":\"white\",\"lakecolor\":\"white\",\"landcolor\":\"#E5ECF6\",\"showlakes\":true,\"showland\":true,\"subunitcolor\":\"white\"},\"hoverlabel\":{\"align\":\"left\"},\"hovermode\":\"closest\",\"mapbox\":{\"style\":\"light\"},\"paper_bgcolor\":\"white\",\"plot_bgcolor\":\"#E5ECF6\",\"polar\":{\"angularaxis\":{\"gridcolor\":\"white\",\"linecolor\":\"white\",\"ticks\":\"\"},\"bgcolor\":\"#E5ECF6\",\"radialaxis\":{\"gridcolor\":\"white\",\"linecolor\":\"white\",\"ticks\":\"\"}},\"scene\":{\"xaxis\":{\"backgroundcolor\":\"#E5ECF6\",\"gridcolor\":\"white\",\"gridwidth\":2,\"linecolor\":\"white\",\"showbackground\":true,\"ticks\":\"\",\"zerolinecolor\":\"white\"},\"yaxis\":{\"backgroundcolor\":\"#E5ECF6\",\"gridcolor\":\"white\",\"gridwidth\":2,\"linecolor\":\"white\",\"showbackground\":true,\"ticks\":\"\",\"zerolinecolor\":\"white\"},\"zaxis\":{\"backgroundcolor\":\"#E5ECF6\",\"gridcolor\":\"white\",\"gridwidth\":2,\"linecolor\":\"white\",\"showbackground\":true,\"ticks\":\"\",\"zerolinecolor\":\"white\"}},\"shapedefaults\":{\"line\":{\"color\":\"#2a3f5f\"}},\"ternary\":{\"aaxis\":{\"gridcolor\":\"white\",\"linecolor\":\"white\",\"ticks\":\"\"},\"baxis\":{\"gridcolor\":\"white\",\"linecolor\":\"white\",\"ticks\":\"\"},\"bgcolor\":\"#E5ECF6\",\"caxis\":{\"gridcolor\":\"white\",\"linecolor\":\"white\",\"ticks\":\"\"}},\"title\":{\"x\":0.05},\"xaxis\":{\"automargin\":true,\"gridcolor\":\"white\",\"linecolor\":\"white\",\"ticks\":\"\",\"title\":{\"standoff\":15},\"zerolinecolor\":\"white\",\"zerolinewidth\":2},\"yaxis\":{\"automargin\":true,\"gridcolor\":\"white\",\"linecolor\":\"white\",\"ticks\":\"\",\"title\":{\"standoff\":15},\"zerolinecolor\":\"white\",\"zerolinewidth\":2}}},\"xaxis\":{\"anchor\":\"y\",\"domain\":[0.0,1.0],\"title\":{\"text\":\"# Components\"}},\"yaxis\":{\"anchor\":\"x\",\"domain\":[0.0,1.0],\"title\":{\"text\":\"Explained Variance\"}},\"legend\":{\"tracegroupgap\":0},\"title\":{\"text\":\"The cumulative sum of explained variance\"}},                        {\"responsive\": true}                    ).then(function(){\n",
       "                            \n",
       "var gd = document.getElementById('1b5a7006-627f-4093-a2ea-f4e4d8c4d164');\n",
       "var x = new MutationObserver(function (mutations, observer) {{\n",
       "        var display = window.getComputedStyle(gd).display;\n",
       "        if (!display || display === 'none') {{\n",
       "            console.log([gd, 'removed!']);\n",
       "            Plotly.purge(gd);\n",
       "            observer.disconnect();\n",
       "        }}\n",
       "}});\n",
       "\n",
       "// Listen for the removal of the full notebook cells\n",
       "var notebookContainer = gd.closest('#notebook-container');\n",
       "if (notebookContainer) {{\n",
       "    x.observe(notebookContainer, {childList: true});\n",
       "}}\n",
       "\n",
       "// Listen for the clearing of the current output cell\n",
       "var outputEl = gd.closest('.output');\n",
       "if (outputEl) {{\n",
       "    x.observe(outputEl, {childList: true});\n",
       "}}\n",
       "\n",
       "                        })                };                });            </script>        </div>"
      ]
     },
     "metadata": {},
     "output_type": "display_data"
    }
   ],
   "source": [
    "#cumulative sum of explained variance by number of components\n",
    "pca_a = PCA()\n",
    "principalComponents_a = pca_a.fit_transform(x)\n",
    "\n",
    "exp_var_cumul = np.cumsum(pca_a.explained_variance_ratio_)\n",
    "\n",
    "\n",
    "px.area(\n",
    "    x=range(1, exp_var_cumul.shape[0] + 1),\n",
    "    y=exp_var_cumul,\n",
    "    labels={\"x\": \"# Components\", \"y\": \"Explained Variance\"},  title= \"The cumulative sum of explained variance\"\n",
    ")"
   ]
  },
  {
   "cell_type": "markdown",
   "id": "b4234eca",
   "metadata": {},
   "source": [
    "Furthermore, from plotting it seems that it is hard for us to classify genres just from having two components. Therefore, we want to see how much variance is able to explain our data as we increase the number of components to decide how many dimensions we need and to analyze. Usually, it is ideal if we could explain at least 80% of variance. Hence, it would be a good idea to keep at least 6 components (dimensions)."
   ]
  },
  {
   "cell_type": "markdown",
   "id": "a939300a",
   "metadata": {},
   "source": [
    "Overall, we conclude that PCA was not the best approach into our dataset. This is because we could not get the optimized result, we still need 7 components in order to explain 90% of variance, and we have 9 features to consider. This does not seem to be much of improvements."
   ]
  },
  {
   "cell_type": "markdown",
   "id": "73bf1a43",
   "metadata": {},
   "source": [
    "## Classification Algorithms Implementation"
   ]
  },
  {
   "cell_type": "markdown",
   "id": "f0e7ff2f",
   "metadata": {},
   "source": [
    "We will use Logistic Regression and XGBoost"
   ]
  },
  {
   "cell_type": "markdown",
   "id": "96a3c951",
   "metadata": {},
   "source": [
    "code reference: https://www.kaggle.com/code/lechithinh/stroke-prediction-eda-7-models-99-accuracy"
   ]
  },
  {
   "cell_type": "code",
   "execution_count": 14,
   "id": "2285ea80",
   "metadata": {},
   "outputs": [],
   "source": [
    "# Separating out the features\n",
    "x_og = ndf.loc[:, features].values\n",
    "y = ndf.loc[:, 'top genre new'].values\n",
    "\n",
    "#encode y variables, 0 = dance pop, 1 = hip hop, 2 = rap\n",
    "from sklearn.preprocessing import OrdinalEncoder\n",
    "\n",
    "ord_enc = OrdinalEncoder()\n",
    "y = ord_enc.fit_transform(y.reshape(-1, 1)).ravel()"
   ]
  },
  {
   "cell_type": "code",
   "execution_count": 15,
   "id": "1c42aa0e",
   "metadata": {},
   "outputs": [],
   "source": [
    "#Split into test/training data\n",
    "from sklearn.model_selection import train_test_split\n",
    "X_train, X_test, Y_train, Y_test = train_test_split(x_og, y, test_size=0.25, random_state=0)"
   ]
  },
  {
   "cell_type": "markdown",
   "id": "ac5895d9",
   "metadata": {},
   "source": [
    "#### Train the models"
   ]
  },
  {
   "cell_type": "code",
   "execution_count": 53,
   "id": "297fb3ee",
   "metadata": {},
   "outputs": [
    {
     "name": "stdout",
     "output_type": "stream",
     "text": [
      "Logistic Regression Training Accuracy: 0.7396593673965937\n",
      "Xgboost Classifier Training Accuracy: 0.902676399026764\n"
     ]
    }
   ],
   "source": [
    "def models(X_train,Y_train):\n",
    "#logistic\n",
    "    from sklearn.linear_model import LogisticRegression\n",
    "    log = LogisticRegression(random_state = 0, solver='lbfgs', max_iter=1000)\n",
    "    log.fit(X_train, Y_train)\n",
    "    \n",
    "    \n",
    "#xgboost\n",
    "    from xgboost import XGBClassifier \n",
    "    xgboost = XGBClassifier(n_estimators=100, learning_rate = 0.001,\n",
    "                        subsample=0.8, colsample_bytree=0.8, use_label_encoder =False, eval_metric = \"mlogloss\")\n",
    "    xgboost.fit(X_train, Y_train)\n",
    "\n",
    "#model accuracy on the training data\n",
    "    print('Logistic Regression Training Accuracy:', log.score(X_train, Y_train))\n",
    "    print('Xgboost Classifier Training Accuracy:', xgboost.score(X_train, Y_train))\n",
    "\n",
    "\n",
    "    return log,xgboost\n",
    "\n",
    "model = models(X_train,Y_train)"
   ]
  },
  {
   "cell_type": "markdown",
   "id": "bd41034b",
   "metadata": {},
   "source": [
    "#### Confusion matrix and classification report"
   ]
  },
  {
   "cell_type": "code",
   "execution_count": 50,
   "id": "4d112b95",
   "metadata": {
    "scrolled": false
   },
   "outputs": [
    {
     "name": "stdout",
     "output_type": "stream",
     "text": [
      "Model  Logistic Regression\n"
     ]
    },
    {
     "data": {
      "image/png": "[encoded data removed]",
      "text/plain": [
       "<Figure size 576x360 with 1 Axes>"
      ]
     },
     "metadata": {
      "needs_background": "light"
     },
     "output_type": "display_data"
    },
    {
     "name": "stdout",
     "output_type": "stream",
     "text": [
      "\n",
      "Model  XGBoost\n"
     ]
    },
    {
     "data": {
      "image/png": "[encoded data removed]",
      "text/plain": [
       "<Figure size 576x360 with 1 Axes>"
      ]
     },
     "metadata": {
      "needs_background": "light"
     },
     "output_type": "display_data"
    },
    {
     "name": "stdout",
     "output_type": "stream",
     "text": [
      "\n",
      "Model  Logistic Regression\n",
      "              precision    recall  f1-score   support\n",
      "\n",
      "         0.0       0.75      0.97      0.85        86\n",
      "         1.0       0.75      0.51      0.61        35\n",
      "         2.0       0.75      0.18      0.29        17\n",
      "\n",
      "    accuracy                           0.75       138\n",
      "   macro avg       0.75      0.55      0.58       138\n",
      "weighted avg       0.75      0.75      0.72       138\n",
      "\n",
      "0.7536231884057971\n",
      "\n",
      "Model  XGBoost\n",
      "              precision    recall  f1-score   support\n",
      "\n",
      "         0.0       0.77      0.93      0.84        86\n",
      "         1.0       0.61      0.54      0.58        35\n",
      "         2.0       0.67      0.12      0.20        17\n",
      "\n",
      "    accuracy                           0.73       138\n",
      "   macro avg       0.68      0.53      0.54       138\n",
      "weighted avg       0.72      0.73      0.70       138\n",
      "\n",
      "0.7318840579710145\n",
      "\n"
     ]
    }
   ],
   "source": [
    "from sklearn.metrics import confusion_matrix\n",
    "model_names = ['Logistic Regression', 'XGBoost']\n",
    "for i in range(len(model)):\n",
    "    cm = confusion_matrix(Y_test, model[i].predict(X_test))\n",
    "    \n",
    "    print('Model ',model_names[i])\n",
    "    plt.figure(figsize = (8, 5))\n",
    "    sns.heatmap(cm, cmap = 'Greens', annot = True, fmt = 'd', linewidths = 5, cbar = False, annot_kws = {'fontsize': 15}, \n",
    "            yticklabels = ['Dance Pop', 'Hip Hop', 'Rap'], xticklabels = ['Predicted Dance Pop', 'Predicted Hip Hop', 'Prediced Rap'])\n",
    "    plt.yticks(rotation = 0)\n",
    "    plt.xlabel('Predicted Values')\n",
    "    plt.ylabel('Actual Values')\n",
    "    plt.title(model_names[i])\n",
    "    plt.show()\n",
    "    print()# Print a new line\n",
    "\n",
    "#Show other ways to get the classification accuracy & other metrics \n",
    "\n",
    "from sklearn.metrics import classification_report\n",
    "from sklearn.metrics import accuracy_score\n",
    "\n",
    "for i in range(len(model)):\n",
    "    print('Model ',model_names[i])\n",
    "  #Check precision, recall, f1-score\n",
    "    print( classification_report(Y_test, model[i].predict(X_test)) )\n",
    "  #Another way to get the models accuracy on the test data\n",
    "    print(accuracy_score(Y_test, model[i].predict(X_test)))\n",
    "    print()#Print a new line"
   ]
  },
  {
   "cell_type": "markdown",
   "id": "33238c00",
   "metadata": {},
   "source": [
    "### Implenting PCA as a Preprocessing Algorithm in Classification Algorithm"
   ]
  },
  {
   "cell_type": "markdown",
   "id": "0d718d96",
   "metadata": {},
   "source": [
    "reference: https://towardsdatascience.com/pca-using-python-scikit-learn-e653f8989e60"
   ]
  },
  {
   "cell_type": "code",
   "execution_count": 55,
   "id": "766828b9",
   "metadata": {},
   "outputs": [],
   "source": [
    "from sklearn.preprocessing import StandardScaler\n",
    "scaler = StandardScaler()\n",
    "# Fit on training set only.\n",
    "scaler.fit(X_train)\n",
    "# Apply transform to both the training set and the test set.\n",
    "tX_train = scaler.transform(X_train)\n",
    "tX_test = scaler.transform(X_test)"
   ]
  },
  {
   "cell_type": "code",
   "execution_count": 56,
   "id": "63813925",
   "metadata": {},
   "outputs": [],
   "source": [
    "#Fitting PCA on test and training X\n",
    "pca_new = PCA(n_components = 6)\n",
    "pca_new.fit(tX_train)\n",
    "#apply transform to both\n",
    "tX_train = pca_new.transform(tX_train)\n",
    "tX_test= pca_new.transform(tX_test)"
   ]
  },
  {
   "cell_type": "markdown",
   "id": "4a65ba51",
   "metadata": {},
   "source": [
    "#### Train the model on PCA"
   ]
  },
  {
   "cell_type": "code",
   "execution_count": 57,
   "id": "839a79cf",
   "metadata": {},
   "outputs": [
    {
     "name": "stdout",
     "output_type": "stream",
     "text": [
      "Logistic Regression Training Accuracy: 0.7250608272506083\n",
      "Xgboost Classifier Training Accuracy: 0.8734793187347932\n"
     ]
    }
   ],
   "source": [
    "def models(X_train,Y_train):\n",
    "  \n",
    " #logistic\n",
    "    from sklearn.linear_model import LogisticRegression\n",
    "    log = LogisticRegression(random_state = 0, solver='lbfgs', max_iter=1000)\n",
    "    log.fit(tX_train, Y_train)\n",
    "    \n",
    " #xgboost\n",
    "    from xgboost import XGBClassifier \n",
    "    xgboost = XGBClassifier(n_estimators=100, learning_rate = 0.001,\n",
    "                        subsample=0.8, colsample_bytree=0.8, use_label_encoder =False, eval_metric = \"mlogloss\")\n",
    "    xgboost.fit(tX_train, Y_train)\n",
    "    \n",
    "    \n",
    "    \n",
    "#model accuracy on the training data\n",
    "    print('Logistic Regression Training Accuracy:', log.score(tX_train, Y_train))\n",
    "    print('Xgboost Classifier Training Accuracy:', xgboost.score(tX_train, Y_train))\n",
    "\n",
    "\n",
    "    return log,xgboost\n",
    "\n",
    "model = models(tX_train,Y_train)"
   ]
  },
  {
   "cell_type": "markdown",
   "id": "d1ef0efb",
   "metadata": {},
   "source": [
    "#### Confusion matrix and classification report"
   ]
  },
  {
   "cell_type": "code",
   "execution_count": 58,
   "id": "2166adb6",
   "metadata": {
    "scrolled": false
   },
   "outputs": [
    {
     "name": "stdout",
     "output_type": "stream",
     "text": [
      "Model  Logistic Regression\n"
     ]
    },
    {
     "data": {
      "image/png": "[encoded data removed]",
      "text/plain": [
       "<Figure size 576x360 with 1 Axes>"
      ]
     },
     "metadata": {
      "needs_background": "light"
     },
     "output_type": "display_data"
    },
    {
     "name": "stdout",
     "output_type": "stream",
     "text": [
      "\n",
      "Model  XGBoost\n"
     ]
    },
    {
     "data": {
      "image/png": "[encoded data removed]",
      "text/plain": [
       "<Figure size 576x360 with 1 Axes>"
      ]
     },
     "metadata": {
      "needs_background": "light"
     },
     "output_type": "display_data"
    },
    {
     "name": "stdout",
     "output_type": "stream",
     "text": [
      "\n",
      "Model  Logistic Regression\n",
      "              precision    recall  f1-score   support\n",
      "\n",
      "         0.0       0.72      0.92      0.81        86\n",
      "         1.0       0.62      0.46      0.52        35\n",
      "         2.0       1.00      0.18      0.30        17\n",
      "\n",
      "    accuracy                           0.71       138\n",
      "   macro avg       0.78      0.52      0.54       138\n",
      "weighted avg       0.73      0.71      0.67       138\n",
      "\n",
      "0.7101449275362319\n",
      "\n",
      "Model  XGBoost\n",
      "              precision    recall  f1-score   support\n",
      "\n",
      "         0.0       0.72      0.94      0.82        86\n",
      "         1.0       0.61      0.40      0.48        35\n",
      "         2.0       0.33      0.06      0.10        17\n",
      "\n",
      "    accuracy                           0.70       138\n",
      "   macro avg       0.56      0.47      0.47       138\n",
      "weighted avg       0.65      0.70      0.64       138\n",
      "\n",
      "0.6956521739130435\n",
      "\n"
     ]
    }
   ],
   "source": [
    "from sklearn.metrics import confusion_matrix\n",
    "model_names = ['Logistic Regression','XGBoost']\n",
    "for i in range(len(model)):\n",
    "    cm = confusion_matrix(Y_test, model[i].predict(tX_test))\n",
    "    \n",
    "    print('Model ',model_names[i])\n",
    "    plt.figure(figsize = (8, 5))\n",
    "    sns.heatmap(cm, cmap = 'Greens', annot = True, fmt = 'd', linewidths = 5, cbar = False, annot_kws = {'fontsize': 15}, \n",
    "            yticklabels = ['Dance Pop', 'Hip Hop', 'Rap'], xticklabels = ['Predicted Dance Pop', 'Predicted Hip Hop', 'Prediced Rap'])\n",
    "    plt.yticks(rotation = 0)\n",
    "    plt.xlabel('Predicted Values')\n",
    "    plt.ylabel('Actual Values')\n",
    "    plt.title('PCA '+ model_names[i])\n",
    "    plt.show()\n",
    "\n",
    "    print()# Print a new line\n",
    "\n",
    "#Show other ways to get the classification accuracy & other metrics \n",
    "\n",
    "from sklearn.metrics import classification_report\n",
    "from sklearn.metrics import accuracy_score\n",
    "\n",
    "for i in range(len(model)):\n",
    "    print('Model ',model_names[i])\n",
    "  #Check precision, recall, f1-score\n",
    "    print( classification_report(Y_test, model[i].predict(tX_test)) )\n",
    "  #Another way to get the models accuracy on the test data\n",
    "    print( accuracy_score(Y_test, model[i].predict(tX_test)))\n",
    "    print()#Print a new line"
   ]
  },
  {
   "cell_type": "code",
   "execution_count": null,
   "id": "c4a6e773",
   "metadata": {},
   "outputs": [],
   "source": []
  },
  {
   "cell_type": "code",
   "execution_count": null,
   "id": "390fa5ca",
   "metadata": {},
   "outputs": [],
   "source": []
  }
 ],
 "metadata": {
  "kernelspec": {
   "display_name": "Python 3 (ipykernel)",
   "language": "python",
   "name": "python3"
  },
  "language_info": {
   "codemirror_mode": {
    "name": "ipython",
    "version": 3
   },
   "file_extension": ".py",
   "mimetype": "text/x-python",
   "name": "python",
   "nbconvert_exporter": "python",
   "pygments_lexer": "ipython3",
   "version": "3.8.12"
  }
 },
 "nbformat": 4,
 "nbformat_minor": 5
}
